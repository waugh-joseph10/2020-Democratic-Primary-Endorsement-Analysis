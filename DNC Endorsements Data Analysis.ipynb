{
 "cells": [
  {
   "cell_type": "markdown",
   "metadata": {},
   "source": [
    "# Exploratory Data Analysis - 2020 Democratic Party Endorsements\n",
    "## By: Joseph Waugh\n",
    " \n",
    " #### The purpose of this document is to provide an exploratory analysis of the 2020 Democratic Party Endorsements based off of a Kaggle Dataset <a href=\"https://www.kaggle.com/fmejia21/2020-democratic-primary-endorsements/\" target=\"_blank\"> (link) </a> that filters the data on a variety of different variables. The data will be filtered in a dataframe format, and then visualizations will allow for further understanding."
   ]
  },
  {
   "cell_type": "markdown",
   "metadata": {},
   "source": [
    "## Step I: Importing the Libraries\n",
    "#### The first step in this data analysis is to import the below libraries to the Python console. These packages allow for the visualizations and dataframe to be created, and ultimately filtered depending on the need."
   ]
  },
  {
   "cell_type": "code",
   "execution_count": 78,
   "metadata": {},
   "outputs": [
    {
     "data": {
      "text/html": [
       "        <script type=\"text/javascript\">\n",
       "        window.PlotlyConfig = {MathJaxConfig: 'local'};\n",
       "        if (window.MathJax) {MathJax.Hub.Config({SVG: {font: \"STIX-Web\"}});}\n",
       "        if (typeof require !== 'undefined') {\n",
       "        require.undef(\"plotly\");\n",
       "        requirejs.config({\n",
       "            paths: {\n",
       "                'plotly': ['https://cdn.plot.ly/plotly-latest.min']\n",
       "            }\n",
       "        });\n",
       "        require(['plotly'], function(Plotly) {\n",
       "            window._Plotly = Plotly;\n",
       "        });\n",
       "        }\n",
       "        </script>\n",
       "        "
      ]
     },
     "metadata": {},
     "output_type": "display_data"
    }
   ],
   "source": [
    "import pandas as pd\n",
    "import numpy as np\n",
    "import matplotlib.pyplot as plt\n",
    "import seaborn as sns\n",
    "import scipy.stats as stats\n",
    "%matplotlib inline\n",
    "\n",
    "import plotly.express as px\n",
    "\n",
    "import plotly\n",
    "import plotly.graph_objs as go\n",
    "from plotly.offline import iplot, init_notebook_mode\n",
    "import plotly.figure_factory as ff\n",
    "from plotly import subplots\n",
    "from plotly.subplots import make_subplots\n",
    "init_notebook_mode(connected=True)\n",
    "\n",
    "from datetime import date, datetime, timedelta\n",
    "import time, re, os\n",
    "from IPython.display import Markdown, display"
   ]
  },
  {
   "cell_type": "markdown",
   "metadata": {},
   "source": [
    "## Step II: Importing the Data\n",
    "#### Now that the libraries have been imported, the functionality exists to transfer the .csv file obtained from Kaggle into a readable dataframe that can be further explored. The pandas library is used to extract the data from the .csv file into the dataframe. "
   ]
  },
  {
   "cell_type": "code",
   "execution_count": 39,
   "metadata": {},
   "outputs": [
    {
     "name": "stdout",
     "output_type": "stream",
     "text": [
      "The columns in the dataset are as follows:\n",
      "date\n",
      "position\n",
      "city\n",
      "state\n",
      "endorser\n",
      "endorsee\n",
      "endorser party\n",
      "source\n",
      "order\n",
      "category\n",
      "body\n",
      "district\n",
      "points\n"
     ]
    }
   ],
   "source": [
    "#reading in the dataset\n",
    "df = pd.read_csv(r'C:/Users/HP/Desktop/endorsements-2020.csv')\n",
    "\n",
    "#determining which columns of data are available\n",
    "print(\"The columns in the dataset are as follows:\")\n",
    "for column in df.columns:\n",
    "    print (column)"
   ]
  },
  {
   "cell_type": "code",
   "execution_count": 40,
   "metadata": {
    "scrolled": false
   },
   "outputs": [],
   "source": [
    "#determining which columns of data have the greatest percentage of missing or null values\n",
    "percent_missing = np.round(df.isnull().sum() * 100 / len(df),2)\n",
    "percent_missing_df = pd.DataFrame({'column name': df.columns, \n",
    "                                   'percent_missing': percent_missing}).sort_values('percent_missing', ascending=False)\n"
   ]
  },
  {
   "cell_type": "markdown",
   "metadata": {},
   "source": [
    "#### The visualization here highlights the percentage of datapoints for each column that are null. From the visualization, it appears that 7 columns have a high null value percentage, where at least 75% of the data in each of these is missing. This is highlighted in the visualization below: "
   ]
  },
  {
   "cell_type": "code",
   "execution_count": 41,
   "metadata": {},
   "outputs": [
    {
     "data": {
      "application/vnd.plotly.v1+json": {
       "config": {
        "plotlyServerURL": "https://plot.ly"
       },
       "data": [
        {
         "marker": {
          "color": "blue"
         },
         "opacity": 0.9,
         "text": [
          95.33,
          89.56,
          84.49,
          77.04,
          75.25,
          75.25,
          75.25,
          0.7,
          0,
          0,
          0,
          0,
          0
         ],
         "textposition": "inside",
         "type": "bar",
         "x": [
          "city",
          "body",
          "order",
          "district",
          "date",
          "endorsee",
          "source",
          "endorser party",
          "position",
          "state",
          "endorser",
          "category",
          "points"
         ],
         "y": [
          95.33,
          89.56,
          84.49,
          77.04,
          75.25,
          75.25,
          75.25,
          0.7,
          0,
          0,
          0,
          0,
          0
         ]
        }
       ],
       "layout": {
        "bargap": 0.1,
        "showlegend": false,
        "template": {
         "data": {
          "bar": [
           {
            "error_x": {
             "color": "#2a3f5f"
            },
            "error_y": {
             "color": "#2a3f5f"
            },
            "marker": {
             "line": {
              "color": "#E5ECF6",
              "width": 0.5
             }
            },
            "type": "bar"
           }
          ],
          "barpolar": [
           {
            "marker": {
             "line": {
              "color": "#E5ECF6",
              "width": 0.5
             }
            },
            "type": "barpolar"
           }
          ],
          "carpet": [
           {
            "aaxis": {
             "endlinecolor": "#2a3f5f",
             "gridcolor": "white",
             "linecolor": "white",
             "minorgridcolor": "white",
             "startlinecolor": "#2a3f5f"
            },
            "baxis": {
             "endlinecolor": "#2a3f5f",
             "gridcolor": "white",
             "linecolor": "white",
             "minorgridcolor": "white",
             "startlinecolor": "#2a3f5f"
            },
            "type": "carpet"
           }
          ],
          "choropleth": [
           {
            "colorbar": {
             "outlinewidth": 0,
             "ticks": ""
            },
            "type": "choropleth"
           }
          ],
          "contour": [
           {
            "colorbar": {
             "outlinewidth": 0,
             "ticks": ""
            },
            "colorscale": [
             [
              0,
              "#0d0887"
             ],
             [
              0.1111111111111111,
              "#46039f"
             ],
             [
              0.2222222222222222,
              "#7201a8"
             ],
             [
              0.3333333333333333,
              "#9c179e"
             ],
             [
              0.4444444444444444,
              "#bd3786"
             ],
             [
              0.5555555555555556,
              "#d8576b"
             ],
             [
              0.6666666666666666,
              "#ed7953"
             ],
             [
              0.7777777777777778,
              "#fb9f3a"
             ],
             [
              0.8888888888888888,
              "#fdca26"
             ],
             [
              1,
              "#f0f921"
             ]
            ],
            "type": "contour"
           }
          ],
          "contourcarpet": [
           {
            "colorbar": {
             "outlinewidth": 0,
             "ticks": ""
            },
            "type": "contourcarpet"
           }
          ],
          "heatmap": [
           {
            "colorbar": {
             "outlinewidth": 0,
             "ticks": ""
            },
            "colorscale": [
             [
              0,
              "#0d0887"
             ],
             [
              0.1111111111111111,
              "#46039f"
             ],
             [
              0.2222222222222222,
              "#7201a8"
             ],
             [
              0.3333333333333333,
              "#9c179e"
             ],
             [
              0.4444444444444444,
              "#bd3786"
             ],
             [
              0.5555555555555556,
              "#d8576b"
             ],
             [
              0.6666666666666666,
              "#ed7953"
             ],
             [
              0.7777777777777778,
              "#fb9f3a"
             ],
             [
              0.8888888888888888,
              "#fdca26"
             ],
             [
              1,
              "#f0f921"
             ]
            ],
            "type": "heatmap"
           }
          ],
          "heatmapgl": [
           {
            "colorbar": {
             "outlinewidth": 0,
             "ticks": ""
            },
            "colorscale": [
             [
              0,
              "#0d0887"
             ],
             [
              0.1111111111111111,
              "#46039f"
             ],
             [
              0.2222222222222222,
              "#7201a8"
             ],
             [
              0.3333333333333333,
              "#9c179e"
             ],
             [
              0.4444444444444444,
              "#bd3786"
             ],
             [
              0.5555555555555556,
              "#d8576b"
             ],
             [
              0.6666666666666666,
              "#ed7953"
             ],
             [
              0.7777777777777778,
              "#fb9f3a"
             ],
             [
              0.8888888888888888,
              "#fdca26"
             ],
             [
              1,
              "#f0f921"
             ]
            ],
            "type": "heatmapgl"
           }
          ],
          "histogram": [
           {
            "marker": {
             "colorbar": {
              "outlinewidth": 0,
              "ticks": ""
             }
            },
            "type": "histogram"
           }
          ],
          "histogram2d": [
           {
            "colorbar": {
             "outlinewidth": 0,
             "ticks": ""
            },
            "colorscale": [
             [
              0,
              "#0d0887"
             ],
             [
              0.1111111111111111,
              "#46039f"
             ],
             [
              0.2222222222222222,
              "#7201a8"
             ],
             [
              0.3333333333333333,
              "#9c179e"
             ],
             [
              0.4444444444444444,
              "#bd3786"
             ],
             [
              0.5555555555555556,
              "#d8576b"
             ],
             [
              0.6666666666666666,
              "#ed7953"
             ],
             [
              0.7777777777777778,
              "#fb9f3a"
             ],
             [
              0.8888888888888888,
              "#fdca26"
             ],
             [
              1,
              "#f0f921"
             ]
            ],
            "type": "histogram2d"
           }
          ],
          "histogram2dcontour": [
           {
            "colorbar": {
             "outlinewidth": 0,
             "ticks": ""
            },
            "colorscale": [
             [
              0,
              "#0d0887"
             ],
             [
              0.1111111111111111,
              "#46039f"
             ],
             [
              0.2222222222222222,
              "#7201a8"
             ],
             [
              0.3333333333333333,
              "#9c179e"
             ],
             [
              0.4444444444444444,
              "#bd3786"
             ],
             [
              0.5555555555555556,
              "#d8576b"
             ],
             [
              0.6666666666666666,
              "#ed7953"
             ],
             [
              0.7777777777777778,
              "#fb9f3a"
             ],
             [
              0.8888888888888888,
              "#fdca26"
             ],
             [
              1,
              "#f0f921"
             ]
            ],
            "type": "histogram2dcontour"
           }
          ],
          "mesh3d": [
           {
            "colorbar": {
             "outlinewidth": 0,
             "ticks": ""
            },
            "type": "mesh3d"
           }
          ],
          "parcoords": [
           {
            "line": {
             "colorbar": {
              "outlinewidth": 0,
              "ticks": ""
             }
            },
            "type": "parcoords"
           }
          ],
          "pie": [
           {
            "automargin": true,
            "type": "pie"
           }
          ],
          "scatter": [
           {
            "marker": {
             "colorbar": {
              "outlinewidth": 0,
              "ticks": ""
             }
            },
            "type": "scatter"
           }
          ],
          "scatter3d": [
           {
            "line": {
             "colorbar": {
              "outlinewidth": 0,
              "ticks": ""
             }
            },
            "marker": {
             "colorbar": {
              "outlinewidth": 0,
              "ticks": ""
             }
            },
            "type": "scatter3d"
           }
          ],
          "scattercarpet": [
           {
            "marker": {
             "colorbar": {
              "outlinewidth": 0,
              "ticks": ""
             }
            },
            "type": "scattercarpet"
           }
          ],
          "scattergeo": [
           {
            "marker": {
             "colorbar": {
              "outlinewidth": 0,
              "ticks": ""
             }
            },
            "type": "scattergeo"
           }
          ],
          "scattergl": [
           {
            "marker": {
             "colorbar": {
              "outlinewidth": 0,
              "ticks": ""
             }
            },
            "type": "scattergl"
           }
          ],
          "scattermapbox": [
           {
            "marker": {
             "colorbar": {
              "outlinewidth": 0,
              "ticks": ""
             }
            },
            "type": "scattermapbox"
           }
          ],
          "scatterpolar": [
           {
            "marker": {
             "colorbar": {
              "outlinewidth": 0,
              "ticks": ""
             }
            },
            "type": "scatterpolar"
           }
          ],
          "scatterpolargl": [
           {
            "marker": {
             "colorbar": {
              "outlinewidth": 0,
              "ticks": ""
             }
            },
            "type": "scatterpolargl"
           }
          ],
          "scatterternary": [
           {
            "marker": {
             "colorbar": {
              "outlinewidth": 0,
              "ticks": ""
             }
            },
            "type": "scatterternary"
           }
          ],
          "surface": [
           {
            "colorbar": {
             "outlinewidth": 0,
             "ticks": ""
            },
            "colorscale": [
             [
              0,
              "#0d0887"
             ],
             [
              0.1111111111111111,
              "#46039f"
             ],
             [
              0.2222222222222222,
              "#7201a8"
             ],
             [
              0.3333333333333333,
              "#9c179e"
             ],
             [
              0.4444444444444444,
              "#bd3786"
             ],
             [
              0.5555555555555556,
              "#d8576b"
             ],
             [
              0.6666666666666666,
              "#ed7953"
             ],
             [
              0.7777777777777778,
              "#fb9f3a"
             ],
             [
              0.8888888888888888,
              "#fdca26"
             ],
             [
              1,
              "#f0f921"
             ]
            ],
            "type": "surface"
           }
          ],
          "table": [
           {
            "cells": {
             "fill": {
              "color": "#EBF0F8"
             },
             "line": {
              "color": "white"
             }
            },
            "header": {
             "fill": {
              "color": "#C8D4E3"
             },
             "line": {
              "color": "white"
             }
            },
            "type": "table"
           }
          ]
         },
         "layout": {
          "annotationdefaults": {
           "arrowcolor": "#2a3f5f",
           "arrowhead": 0,
           "arrowwidth": 1
          },
          "coloraxis": {
           "colorbar": {
            "outlinewidth": 0,
            "ticks": ""
           }
          },
          "colorscale": {
           "diverging": [
            [
             0,
             "#8e0152"
            ],
            [
             0.1,
             "#c51b7d"
            ],
            [
             0.2,
             "#de77ae"
            ],
            [
             0.3,
             "#f1b6da"
            ],
            [
             0.4,
             "#fde0ef"
            ],
            [
             0.5,
             "#f7f7f7"
            ],
            [
             0.6,
             "#e6f5d0"
            ],
            [
             0.7,
             "#b8e186"
            ],
            [
             0.8,
             "#7fbc41"
            ],
            [
             0.9,
             "#4d9221"
            ],
            [
             1,
             "#276419"
            ]
           ],
           "sequential": [
            [
             0,
             "#0d0887"
            ],
            [
             0.1111111111111111,
             "#46039f"
            ],
            [
             0.2222222222222222,
             "#7201a8"
            ],
            [
             0.3333333333333333,
             "#9c179e"
            ],
            [
             0.4444444444444444,
             "#bd3786"
            ],
            [
             0.5555555555555556,
             "#d8576b"
            ],
            [
             0.6666666666666666,
             "#ed7953"
            ],
            [
             0.7777777777777778,
             "#fb9f3a"
            ],
            [
             0.8888888888888888,
             "#fdca26"
            ],
            [
             1,
             "#f0f921"
            ]
           ],
           "sequentialminus": [
            [
             0,
             "#0d0887"
            ],
            [
             0.1111111111111111,
             "#46039f"
            ],
            [
             0.2222222222222222,
             "#7201a8"
            ],
            [
             0.3333333333333333,
             "#9c179e"
            ],
            [
             0.4444444444444444,
             "#bd3786"
            ],
            [
             0.5555555555555556,
             "#d8576b"
            ],
            [
             0.6666666666666666,
             "#ed7953"
            ],
            [
             0.7777777777777778,
             "#fb9f3a"
            ],
            [
             0.8888888888888888,
             "#fdca26"
            ],
            [
             1,
             "#f0f921"
            ]
           ]
          },
          "colorway": [
           "#636efa",
           "#EF553B",
           "#00cc96",
           "#ab63fa",
           "#FFA15A",
           "#19d3f3",
           "#FF6692",
           "#B6E880",
           "#FF97FF",
           "#FECB52"
          ],
          "font": {
           "color": "#2a3f5f"
          },
          "geo": {
           "bgcolor": "white",
           "lakecolor": "white",
           "landcolor": "#E5ECF6",
           "showlakes": true,
           "showland": true,
           "subunitcolor": "white"
          },
          "hoverlabel": {
           "align": "left"
          },
          "hovermode": "closest",
          "mapbox": {
           "style": "light"
          },
          "paper_bgcolor": "white",
          "plot_bgcolor": "#E5ECF6",
          "polar": {
           "angularaxis": {
            "gridcolor": "white",
            "linecolor": "white",
            "ticks": ""
           },
           "bgcolor": "#E5ECF6",
           "radialaxis": {
            "gridcolor": "white",
            "linecolor": "white",
            "ticks": ""
           }
          },
          "scene": {
           "xaxis": {
            "backgroundcolor": "#E5ECF6",
            "gridcolor": "white",
            "gridwidth": 2,
            "linecolor": "white",
            "showbackground": true,
            "ticks": "",
            "zerolinecolor": "white"
           },
           "yaxis": {
            "backgroundcolor": "#E5ECF6",
            "gridcolor": "white",
            "gridwidth": 2,
            "linecolor": "white",
            "showbackground": true,
            "ticks": "",
            "zerolinecolor": "white"
           },
           "zaxis": {
            "backgroundcolor": "#E5ECF6",
            "gridcolor": "white",
            "gridwidth": 2,
            "linecolor": "white",
            "showbackground": true,
            "ticks": "",
            "zerolinecolor": "white"
           }
          },
          "shapedefaults": {
           "line": {
            "color": "#2a3f5f"
           }
          },
          "ternary": {
           "aaxis": {
            "gridcolor": "white",
            "linecolor": "white",
            "ticks": ""
           },
           "baxis": {
            "gridcolor": "white",
            "linecolor": "white",
            "ticks": ""
           },
           "bgcolor": "#E5ECF6",
           "caxis": {
            "gridcolor": "white",
            "linecolor": "white",
            "ticks": ""
           }
          },
          "title": {
           "x": 0.05
          },
          "xaxis": {
           "automargin": true,
           "gridcolor": "white",
           "linecolor": "white",
           "ticks": "",
           "title": {
            "standoff": 15
           },
           "zerolinecolor": "white",
           "zerolinewidth": 2
          },
          "yaxis": {
           "automargin": true,
           "gridcolor": "white",
           "linecolor": "white",
           "ticks": "",
           "title": {
            "standoff": 15
           },
           "zerolinecolor": "white",
           "zerolinewidth": 2
          }
         }
        },
        "title": {
         "text": "Data Missing %",
         "x": 0.5,
         "xanchor": "center",
         "y": 0.95,
         "yanchor": "top"
        },
        "xaxis": {
         "title": {
          "text": "Columns"
         }
        },
        "yaxis": {
         "title": {
          "text": "Percentage"
         }
        }
       }
      },
      "text/html": [
       "<div>\n",
       "        \n",
       "        \n",
       "            <div id=\"5374e4a5-487d-421f-8a6d-a469832217d4\" class=\"plotly-graph-div\" style=\"height:525px; width:100%;\"></div>\n",
       "            <script type=\"text/javascript\">\n",
       "                require([\"plotly\"], function(Plotly) {\n",
       "                    window.PLOTLYENV=window.PLOTLYENV || {};\n",
       "                    \n",
       "                if (document.getElementById(\"5374e4a5-487d-421f-8a6d-a469832217d4\")) {\n",
       "                    Plotly.newPlot(\n",
       "                        '5374e4a5-487d-421f-8a6d-a469832217d4',\n",
       "                        [{\"marker\": {\"color\": \"blue\"}, \"opacity\": 0.9, \"text\": [95.33, 89.56, 84.49, 77.04, 75.25, 75.25, 75.25, 0.7, 0.0, 0.0, 0.0, 0.0, 0.0], \"textposition\": \"inside\", \"type\": \"bar\", \"x\": [\"city\", \"body\", \"order\", \"district\", \"date\", \"endorsee\", \"source\", \"endorser party\", \"position\", \"state\", \"endorser\", \"category\", \"points\"], \"y\": [95.33, 89.56, 84.49, 77.04, 75.25, 75.25, 75.25, 0.7, 0.0, 0.0, 0.0, 0.0, 0.0]}],\n",
       "                        {\"bargap\": 0.1, \"showlegend\": false, \"template\": {\"data\": {\"bar\": [{\"error_x\": {\"color\": \"#2a3f5f\"}, \"error_y\": {\"color\": \"#2a3f5f\"}, \"marker\": {\"line\": {\"color\": \"#E5ECF6\", \"width\": 0.5}}, \"type\": \"bar\"}], \"barpolar\": [{\"marker\": {\"line\": {\"color\": \"#E5ECF6\", \"width\": 0.5}}, \"type\": \"barpolar\"}], \"carpet\": [{\"aaxis\": {\"endlinecolor\": \"#2a3f5f\", \"gridcolor\": \"white\", \"linecolor\": \"white\", \"minorgridcolor\": \"white\", \"startlinecolor\": \"#2a3f5f\"}, \"baxis\": {\"endlinecolor\": \"#2a3f5f\", \"gridcolor\": \"white\", \"linecolor\": \"white\", \"minorgridcolor\": \"white\", \"startlinecolor\": \"#2a3f5f\"}, \"type\": \"carpet\"}], \"choropleth\": [{\"colorbar\": {\"outlinewidth\": 0, \"ticks\": \"\"}, \"type\": \"choropleth\"}], \"contour\": [{\"colorbar\": {\"outlinewidth\": 0, \"ticks\": \"\"}, \"colorscale\": [[0.0, \"#0d0887\"], [0.1111111111111111, \"#46039f\"], [0.2222222222222222, \"#7201a8\"], [0.3333333333333333, \"#9c179e\"], [0.4444444444444444, \"#bd3786\"], [0.5555555555555556, \"#d8576b\"], [0.6666666666666666, \"#ed7953\"], [0.7777777777777778, \"#fb9f3a\"], [0.8888888888888888, \"#fdca26\"], [1.0, \"#f0f921\"]], \"type\": \"contour\"}], \"contourcarpet\": [{\"colorbar\": {\"outlinewidth\": 0, \"ticks\": \"\"}, \"type\": \"contourcarpet\"}], \"heatmap\": [{\"colorbar\": {\"outlinewidth\": 0, \"ticks\": \"\"}, \"colorscale\": [[0.0, \"#0d0887\"], [0.1111111111111111, \"#46039f\"], [0.2222222222222222, \"#7201a8\"], [0.3333333333333333, \"#9c179e\"], [0.4444444444444444, \"#bd3786\"], [0.5555555555555556, \"#d8576b\"], [0.6666666666666666, \"#ed7953\"], [0.7777777777777778, \"#fb9f3a\"], [0.8888888888888888, \"#fdca26\"], [1.0, \"#f0f921\"]], \"type\": \"heatmap\"}], \"heatmapgl\": [{\"colorbar\": {\"outlinewidth\": 0, \"ticks\": \"\"}, \"colorscale\": [[0.0, \"#0d0887\"], [0.1111111111111111, \"#46039f\"], [0.2222222222222222, \"#7201a8\"], [0.3333333333333333, \"#9c179e\"], [0.4444444444444444, \"#bd3786\"], [0.5555555555555556, \"#d8576b\"], [0.6666666666666666, \"#ed7953\"], [0.7777777777777778, \"#fb9f3a\"], [0.8888888888888888, \"#fdca26\"], [1.0, \"#f0f921\"]], \"type\": \"heatmapgl\"}], \"histogram\": [{\"marker\": {\"colorbar\": {\"outlinewidth\": 0, \"ticks\": \"\"}}, \"type\": \"histogram\"}], \"histogram2d\": [{\"colorbar\": {\"outlinewidth\": 0, \"ticks\": \"\"}, \"colorscale\": [[0.0, \"#0d0887\"], [0.1111111111111111, \"#46039f\"], [0.2222222222222222, \"#7201a8\"], [0.3333333333333333, \"#9c179e\"], [0.4444444444444444, \"#bd3786\"], [0.5555555555555556, \"#d8576b\"], [0.6666666666666666, \"#ed7953\"], [0.7777777777777778, \"#fb9f3a\"], [0.8888888888888888, \"#fdca26\"], [1.0, \"#f0f921\"]], \"type\": \"histogram2d\"}], \"histogram2dcontour\": [{\"colorbar\": {\"outlinewidth\": 0, \"ticks\": \"\"}, \"colorscale\": [[0.0, \"#0d0887\"], [0.1111111111111111, \"#46039f\"], [0.2222222222222222, \"#7201a8\"], [0.3333333333333333, \"#9c179e\"], [0.4444444444444444, \"#bd3786\"], [0.5555555555555556, \"#d8576b\"], [0.6666666666666666, \"#ed7953\"], [0.7777777777777778, \"#fb9f3a\"], [0.8888888888888888, \"#fdca26\"], [1.0, \"#f0f921\"]], \"type\": \"histogram2dcontour\"}], \"mesh3d\": [{\"colorbar\": {\"outlinewidth\": 0, \"ticks\": \"\"}, \"type\": \"mesh3d\"}], \"parcoords\": [{\"line\": {\"colorbar\": {\"outlinewidth\": 0, \"ticks\": \"\"}}, \"type\": \"parcoords\"}], \"pie\": [{\"automargin\": true, \"type\": \"pie\"}], \"scatter\": [{\"marker\": {\"colorbar\": {\"outlinewidth\": 0, \"ticks\": \"\"}}, \"type\": \"scatter\"}], \"scatter3d\": [{\"line\": {\"colorbar\": {\"outlinewidth\": 0, \"ticks\": \"\"}}, \"marker\": {\"colorbar\": {\"outlinewidth\": 0, \"ticks\": \"\"}}, \"type\": \"scatter3d\"}], \"scattercarpet\": [{\"marker\": {\"colorbar\": {\"outlinewidth\": 0, \"ticks\": \"\"}}, \"type\": \"scattercarpet\"}], \"scattergeo\": [{\"marker\": {\"colorbar\": {\"outlinewidth\": 0, \"ticks\": \"\"}}, \"type\": \"scattergeo\"}], \"scattergl\": [{\"marker\": {\"colorbar\": {\"outlinewidth\": 0, \"ticks\": \"\"}}, \"type\": \"scattergl\"}], \"scattermapbox\": [{\"marker\": {\"colorbar\": {\"outlinewidth\": 0, \"ticks\": \"\"}}, \"type\": \"scattermapbox\"}], \"scatterpolar\": [{\"marker\": {\"colorbar\": {\"outlinewidth\": 0, \"ticks\": \"\"}}, \"type\": \"scatterpolar\"}], \"scatterpolargl\": [{\"marker\": {\"colorbar\": {\"outlinewidth\": 0, \"ticks\": \"\"}}, \"type\": \"scatterpolargl\"}], \"scatterternary\": [{\"marker\": {\"colorbar\": {\"outlinewidth\": 0, \"ticks\": \"\"}}, \"type\": \"scatterternary\"}], \"surface\": [{\"colorbar\": {\"outlinewidth\": 0, \"ticks\": \"\"}, \"colorscale\": [[0.0, \"#0d0887\"], [0.1111111111111111, \"#46039f\"], [0.2222222222222222, \"#7201a8\"], [0.3333333333333333, \"#9c179e\"], [0.4444444444444444, \"#bd3786\"], [0.5555555555555556, \"#d8576b\"], [0.6666666666666666, \"#ed7953\"], [0.7777777777777778, \"#fb9f3a\"], [0.8888888888888888, \"#fdca26\"], [1.0, \"#f0f921\"]], \"type\": \"surface\"}], \"table\": [{\"cells\": {\"fill\": {\"color\": \"#EBF0F8\"}, \"line\": {\"color\": \"white\"}}, \"header\": {\"fill\": {\"color\": \"#C8D4E3\"}, \"line\": {\"color\": \"white\"}}, \"type\": \"table\"}]}, \"layout\": {\"annotationdefaults\": {\"arrowcolor\": \"#2a3f5f\", \"arrowhead\": 0, \"arrowwidth\": 1}, \"coloraxis\": {\"colorbar\": {\"outlinewidth\": 0, \"ticks\": \"\"}}, \"colorscale\": {\"diverging\": [[0, \"#8e0152\"], [0.1, \"#c51b7d\"], [0.2, \"#de77ae\"], [0.3, \"#f1b6da\"], [0.4, \"#fde0ef\"], [0.5, \"#f7f7f7\"], [0.6, \"#e6f5d0\"], [0.7, \"#b8e186\"], [0.8, \"#7fbc41\"], [0.9, \"#4d9221\"], [1, \"#276419\"]], \"sequential\": [[0.0, \"#0d0887\"], [0.1111111111111111, \"#46039f\"], [0.2222222222222222, \"#7201a8\"], [0.3333333333333333, \"#9c179e\"], [0.4444444444444444, \"#bd3786\"], [0.5555555555555556, \"#d8576b\"], [0.6666666666666666, \"#ed7953\"], [0.7777777777777778, \"#fb9f3a\"], [0.8888888888888888, \"#fdca26\"], [1.0, \"#f0f921\"]], \"sequentialminus\": [[0.0, \"#0d0887\"], [0.1111111111111111, \"#46039f\"], [0.2222222222222222, \"#7201a8\"], [0.3333333333333333, \"#9c179e\"], [0.4444444444444444, \"#bd3786\"], [0.5555555555555556, \"#d8576b\"], [0.6666666666666666, \"#ed7953\"], [0.7777777777777778, \"#fb9f3a\"], [0.8888888888888888, \"#fdca26\"], [1.0, \"#f0f921\"]]}, \"colorway\": [\"#636efa\", \"#EF553B\", \"#00cc96\", \"#ab63fa\", \"#FFA15A\", \"#19d3f3\", \"#FF6692\", \"#B6E880\", \"#FF97FF\", \"#FECB52\"], \"font\": {\"color\": \"#2a3f5f\"}, \"geo\": {\"bgcolor\": \"white\", \"lakecolor\": \"white\", \"landcolor\": \"#E5ECF6\", \"showlakes\": true, \"showland\": true, \"subunitcolor\": \"white\"}, \"hoverlabel\": {\"align\": \"left\"}, \"hovermode\": \"closest\", \"mapbox\": {\"style\": \"light\"}, \"paper_bgcolor\": \"white\", \"plot_bgcolor\": \"#E5ECF6\", \"polar\": {\"angularaxis\": {\"gridcolor\": \"white\", \"linecolor\": \"white\", \"ticks\": \"\"}, \"bgcolor\": \"#E5ECF6\", \"radialaxis\": {\"gridcolor\": \"white\", \"linecolor\": \"white\", \"ticks\": \"\"}}, \"scene\": {\"xaxis\": {\"backgroundcolor\": \"#E5ECF6\", \"gridcolor\": \"white\", \"gridwidth\": 2, \"linecolor\": \"white\", \"showbackground\": true, \"ticks\": \"\", \"zerolinecolor\": \"white\"}, \"yaxis\": {\"backgroundcolor\": \"#E5ECF6\", \"gridcolor\": \"white\", \"gridwidth\": 2, \"linecolor\": \"white\", \"showbackground\": true, \"ticks\": \"\", \"zerolinecolor\": \"white\"}, \"zaxis\": {\"backgroundcolor\": \"#E5ECF6\", \"gridcolor\": \"white\", \"gridwidth\": 2, \"linecolor\": \"white\", \"showbackground\": true, \"ticks\": \"\", \"zerolinecolor\": \"white\"}}, \"shapedefaults\": {\"line\": {\"color\": \"#2a3f5f\"}}, \"ternary\": {\"aaxis\": {\"gridcolor\": \"white\", \"linecolor\": \"white\", \"ticks\": \"\"}, \"baxis\": {\"gridcolor\": \"white\", \"linecolor\": \"white\", \"ticks\": \"\"}, \"bgcolor\": \"#E5ECF6\", \"caxis\": {\"gridcolor\": \"white\", \"linecolor\": \"white\", \"ticks\": \"\"}}, \"title\": {\"x\": 0.05}, \"xaxis\": {\"automargin\": true, \"gridcolor\": \"white\", \"linecolor\": \"white\", \"ticks\": \"\", \"title\": {\"standoff\": 15}, \"zerolinecolor\": \"white\", \"zerolinewidth\": 2}, \"yaxis\": {\"automargin\": true, \"gridcolor\": \"white\", \"linecolor\": \"white\", \"ticks\": \"\", \"title\": {\"standoff\": 15}, \"zerolinecolor\": \"white\", \"zerolinewidth\": 2}}}, \"title\": {\"text\": \"Data Missing %\", \"x\": 0.5, \"xanchor\": \"center\", \"y\": 0.95, \"yanchor\": \"top\"}, \"xaxis\": {\"title\": {\"text\": \"Columns\"}}, \"yaxis\": {\"title\": {\"text\": \"Percentage\"}}},\n",
       "                        {\"responsive\": true}\n",
       "                    ).then(function(){\n",
       "                            \n",
       "var gd = document.getElementById('5374e4a5-487d-421f-8a6d-a469832217d4');\n",
       "var x = new MutationObserver(function (mutations, observer) {{\n",
       "        var display = window.getComputedStyle(gd).display;\n",
       "        if (!display || display === 'none') {{\n",
       "            console.log([gd, 'removed!']);\n",
       "            Plotly.purge(gd);\n",
       "            observer.disconnect();\n",
       "        }}\n",
       "}});\n",
       "\n",
       "// Listen for the removal of the full notebook cells\n",
       "var notebookContainer = gd.closest('#notebook-container');\n",
       "if (notebookContainer) {{\n",
       "    x.observe(notebookContainer, {childList: true});\n",
       "}}\n",
       "\n",
       "// Listen for the clearing of the current output cell\n",
       "var outputEl = gd.closest('.output');\n",
       "if (outputEl) {{\n",
       "    x.observe(outputEl, {childList: true});\n",
       "}}\n",
       "\n",
       "                        })\n",
       "                };\n",
       "                });\n",
       "            </script>\n",
       "        </div>"
      ]
     },
     "metadata": {},
     "output_type": "display_data"
    }
   ],
   "source": [
    "#plotly dynamic visualization highlighting the percentage of datapoints for each column that are null\n",
    "fig = go.Figure()\n",
    "fig.add_trace(\n",
    "        go.Bar(x=percent_missing_df['column name'],\n",
    "               y=percent_missing_df['percent_missing'],\n",
    "               opacity=0.9,\n",
    "               text=percent_missing_df['percent_missing'],\n",
    "               textposition='inside',\n",
    "               marker={'color':'blue'}\n",
    "                   ))\n",
    "fig.update_layout(\n",
    "      title={'text': 'Data Missing %',\n",
    "             'y':0.95, 'x':0.5,\n",
    "            'xanchor': 'center', 'yanchor': 'top'},\n",
    "      showlegend=False,\n",
    "      xaxis_title_text='Columns',\n",
    "      yaxis_title_text='Percentage',\n",
    "      bargap=0.1\n",
    "    )\n",
    "\n",
    "fig.show()"
   ]
  },
  {
   "cell_type": "markdown",
   "metadata": {},
   "source": [
    "### Step III: Data Handling:\n",
    "\n",
    "#### To improve the clarity of the data, a few of the columns with relatively high \"data missing %\" values will be removed. I'm using a threshold of >75% missing to remove the following columns: \n",
    "\n",
    "- city\n",
    "- body\n",
    "- order\n",
    "- district\n",
    "- date\n",
    "\n",
    "#### As for the endorsee and source, these are vital for our understanding, so these will not be removed. We will be able to extract some conclusions from the data that is currently available. "
   ]
  },
  {
   "cell_type": "code",
   "execution_count": 42,
   "metadata": {
    "scrolled": true
   },
   "outputs": [
    {
     "name": "stdout",
     "output_type": "stream",
     "text": [
      "            date             position state               endorser  \\\n",
      "0     2017-07-28       representative    MD            David Trone   \n",
      "1     2019-01-02             governor    NY           Andrew Cuomo   \n",
      "2     2019-01-03              senator    CA       Dianne Feinstein   \n",
      "3     2019-01-08              senator    DE       Thomas R. Carper   \n",
      "4     2019-01-12                mayor    TX          Ron Nirenberg   \n",
      "5     2019-01-21           DNC member    CA        Laphonza Butler   \n",
      "6     2019-01-25           DNC member    DC         James J. Zogby   \n",
      "7     2019-01-27  lieutenant governor    CA       Eleni Kounalakis   \n",
      "8     2019-01-27                mayor    CA           Libby Schaaf   \n",
      "9     2019-01-28       representative    CA               Ted Lieu   \n",
      "10    2019-01-29       representative    CA  Nanette Diaz Barragán   \n",
      "11    2019-02-01              senator    NJ        Robert Menendez   \n",
      "12    2019-02-01             governor    NJ            Phil Murphy   \n",
      "13    2019-02-04           DNC member    SC      Clay N. Middleton   \n",
      "14    2019-02-06  past vice president    MN         Walter Mondale   \n",
      "15    2019-02-07    president pro tem    CA            Toni Atkins   \n",
      "16    2019-02-08       representative    MA         James McGovern   \n",
      "17    2019-02-09            president    MA           Karen Spilka   \n",
      "18    2019-02-09       representative    MA  Joseph P. Kennedy III   \n",
      "19    2019-02-09       representative    MA            Lori Trahan   \n",
      "20    2019-02-09              senator    MA       Edward J. Markey   \n",
      "21    2019-02-10        state auditor    MN            Julie Blaha   \n",
      "22    2019-02-10  lieutenant governor    MN         Peggy Flanagan   \n",
      "23    2019-02-10              speaker    MN        Melissa Hortman   \n",
      "24    2019-02-10       representative    MN          Dean Phillips   \n",
      "25    2019-02-10       representative    MN            Angie Craig   \n",
      "26    2019-02-10                mayor    MN             Jacob Frey   \n",
      "27    2019-02-10              senator    MN             Tina Smith   \n",
      "28    2019-02-10             governor    MN               Tim Walz   \n",
      "29    2019-02-14       representative    CA            Barbara Lee   \n",
      "...          ...                  ...   ...                    ...   \n",
      "976          NaN           DNC member    VA      Morgan W. Jameson   \n",
      "977          NaN           DNC member    VA            Frank Leone   \n",
      "978          NaN           DNC member    VA      Christopher P. Lu   \n",
      "979          NaN           DNC member    VA  Jennifer L. McClellan   \n",
      "980          NaN           DNC member    VA            Atima Omara   \n",
      "981          NaN           DNC member    VA       Susan R. Swecker   \n",
      "982          NaN           DNC member    VA        Yasmine P. Taeb   \n",
      "983          NaN           DNC member    VA          Jeion A. Ward   \n",
      "984          NaN           DNC member    WA             Ed S. Cote   \n",
      "985          NaN           DNC member    WA            David Green   \n",
      "986          NaN           DNC member    WA        Juanita G. Luiz   \n",
      "987          NaN           DNC member    WA            Sharon Mast   \n",
      "988          NaN           DNC member    WA      David T. McDonald   \n",
      "989          NaN           DNC member    WA     Nancy E. Monacelli   \n",
      "990          NaN           DNC member    WA           Candace Mumm   \n",
      "991          NaN           DNC member    WA       Tina Podlodowski   \n",
      "992          NaN           DNC member    WV     Belinda J. Biafore   \n",
      "993          NaN           DNC member    WV       Elaine A. Harris   \n",
      "994          NaN           DNC member    WV          William Laird   \n",
      "995          NaN           DNC member    WV            Pat Maroney   \n",
      "996          NaN           DNC member    WI        Janet T. Bewley   \n",
      "997          NaN           DNC member    WI      Martha Marie Love   \n",
      "998          NaN           DNC member    WI         Felesia Martin   \n",
      "999          NaN           DNC member    WI        Mahlon Mitchell   \n",
      "1000         NaN           DNC member    WI       Andrew Werthmann   \n",
      "1001         NaN           DNC member    WI             Ben Wikler   \n",
      "1002         NaN           DNC member    WY      Joseph M. Barbuto   \n",
      "1003         NaN           DNC member    WY    Jessica S. Chambers   \n",
      "1004         NaN           DNC member    WY          Lucas Fralick   \n",
      "1005         NaN           DNC member    WY         Erin O'Doherty   \n",
      "\n",
      "              endorsee endorser party  \\\n",
      "0         John Delaney              D   \n",
      "1            Joe Biden              D   \n",
      "2            Joe Biden              D   \n",
      "3            Joe Biden              D   \n",
      "4        Julian Castro            NaN   \n",
      "5        Kamala Harris              D   \n",
      "6       Bernie Sanders              D   \n",
      "7        Kamala Harris              D   \n",
      "8        Kamala Harris              D   \n",
      "9        Kamala Harris              D   \n",
      "10       Kamala Harris              D   \n",
      "11         Cory Booker              D   \n",
      "12         Cory Booker              D   \n",
      "13         Cory Booker              D   \n",
      "14       Amy Klobuchar              D   \n",
      "15       Kamala Harris              D   \n",
      "16    Elizabeth Warren              D   \n",
      "17    Elizabeth Warren              D   \n",
      "18    Elizabeth Warren              D   \n",
      "19    Elizabeth Warren              D   \n",
      "20    Elizabeth Warren              D   \n",
      "21       Amy Klobuchar              D   \n",
      "22       Amy Klobuchar              D   \n",
      "23       Amy Klobuchar              D   \n",
      "24       Amy Klobuchar              D   \n",
      "25       Amy Klobuchar              D   \n",
      "26       Amy Klobuchar              D   \n",
      "27       Amy Klobuchar              D   \n",
      "28       Amy Klobuchar              D   \n",
      "29       Kamala Harris              D   \n",
      "...                ...            ...   \n",
      "976                NaN              D   \n",
      "977                NaN              D   \n",
      "978                NaN              D   \n",
      "979                NaN              D   \n",
      "980                NaN              D   \n",
      "981                NaN              D   \n",
      "982                NaN              D   \n",
      "983                NaN              D   \n",
      "984                NaN              D   \n",
      "985                NaN              D   \n",
      "986                NaN              D   \n",
      "987                NaN              D   \n",
      "988                NaN              D   \n",
      "989                NaN              D   \n",
      "990                NaN              D   \n",
      "991                NaN              D   \n",
      "992                NaN              D   \n",
      "993                NaN              D   \n",
      "994                NaN              D   \n",
      "995                NaN              D   \n",
      "996                NaN              D   \n",
      "997                NaN              D   \n",
      "998                NaN              D   \n",
      "999                NaN              D   \n",
      "1000               NaN              D   \n",
      "1001               NaN              D   \n",
      "1002               NaN              D   \n",
      "1003               NaN              D   \n",
      "1004               NaN              D   \n",
      "1005               NaN              D   \n",
      "\n",
      "                                                 source  \\\n",
      "0     https://twitter.com/davidjtrone/status/8909859...   \n",
      "1     https://www.cnn.com/2019/01/02/politics/cuomo-...   \n",
      "2     https://www.politico.com/story/2019/01/03/dian...   \n",
      "3     https://fox61.com/2019/01/08/will-he-or-wont-h...   \n",
      "4     https://www.sacurrent.com/the-daily/archives/2...   \n",
      "5     https://www.politico.com/states/california/sto...   \n",
      "6     https://twitter.com/jjz1600/status/10889744588...   \n",
      "7     https://twitter.com/EleniForCA/status/10896281...   \n",
      "8     https://www.mercurynews.com/2019/01/27/kamala-...   \n",
      "9     https://thehill.com/homenews/house/427255-ted-...   \n",
      "10    https://twitter.com/Nanette4CA/status/10903865...   \n",
      "11    https://twitter.com/BobMenendezNJ/status/10913...   \n",
      "12    https://newjerseyglobe.com/fr/murphy-endorses-...   \n",
      "13    https://www.postandcourier.com/politics/cory-b...   \n",
      "14    https://wadenapj.com/news/government-and-polit...   \n",
      "15    https://www.politico.com/story/2019/02/07/kama...   \n",
      "16    https://twitter.com/heatherscope/status/109394...   \n",
      "17    https://www.boston.com/news/politics/2019/02/0...   \n",
      "18    https://www.bostonherald.com/2019/02/09/warren...   \n",
      "19    https://www.bostonherald.com/2019/02/09/warren...   \n",
      "20    https://www.bostonherald.com/2019/02/09/warren...   \n",
      "21    https://twitter.com/julieblaha/status/10946834...   \n",
      "22    https://www.minnpost.com/national/2019/02/klob...   \n",
      "23    https://www.facebook.com/MelissaHortman/photos...   \n",
      "24    https://twitter.com/deanbphillips/status/10947...   \n",
      "25    https://twitter.com/AngieCraigMN/status/109471...   \n",
      "26    https://www.minnpost.com/national/2019/02/klob...   \n",
      "27          https://www.youtube.com/watch?v=EYXpQGKiZhM   \n",
      "28          https://www.youtube.com/watch?v=EYXpQGKiZhM   \n",
      "29    https://www.cnn.com/2019/02/14/politics/kamala...   \n",
      "...                                                 ...   \n",
      "976                                                 NaN   \n",
      "977                                                 NaN   \n",
      "978                                                 NaN   \n",
      "979                                                 NaN   \n",
      "980                                                 NaN   \n",
      "981                                                 NaN   \n",
      "982                                                 NaN   \n",
      "983                                                 NaN   \n",
      "984                                                 NaN   \n",
      "985                                                 NaN   \n",
      "986                                                 NaN   \n",
      "987                                                 NaN   \n",
      "988                                                 NaN   \n",
      "989                                                 NaN   \n",
      "990                                                 NaN   \n",
      "991                                                 NaN   \n",
      "992                                                 NaN   \n",
      "993                                                 NaN   \n",
      "994                                                 NaN   \n",
      "995                                                 NaN   \n",
      "996                                                 NaN   \n",
      "997                                                 NaN   \n",
      "998                                                 NaN   \n",
      "999                                                 NaN   \n",
      "1000                                                NaN   \n",
      "1001                                                NaN   \n",
      "1002                                                NaN   \n",
      "1003                                                NaN   \n",
      "1004                                                NaN   \n",
      "1005                                                NaN   \n",
      "\n",
      "                                 category  points  \n",
      "0                         Representatives       3  \n",
      "1                               Governors       8  \n",
      "2                                Senators       6  \n",
      "3                                Senators       6  \n",
      "4                                  Mayors       3  \n",
      "5                             DNC members       1  \n",
      "6                             DNC members       1  \n",
      "7                 Statewide officeholders       2  \n",
      "8                                  Mayors       3  \n",
      "9                         Representatives       3  \n",
      "10                        Representatives       3  \n",
      "11                               Senators       6  \n",
      "12                              Governors       8  \n",
      "13                            DNC members       1  \n",
      "14    Past presidents and vice presidents      10  \n",
      "15              State legislative leaders       2  \n",
      "16                        Representatives       3  \n",
      "17              State legislative leaders       2  \n",
      "18                        Representatives       3  \n",
      "19                        Representatives       3  \n",
      "20                               Senators       6  \n",
      "21                Statewide officeholders       2  \n",
      "22                Statewide officeholders       2  \n",
      "23              State legislative leaders       2  \n",
      "24                        Representatives       3  \n",
      "25                        Representatives       3  \n",
      "26                                 Mayors       3  \n",
      "27                               Senators       6  \n",
      "28                              Governors       8  \n",
      "29                        Representatives       3  \n",
      "...                                   ...     ...  \n",
      "976                           DNC members       1  \n",
      "977                           DNC members       1  \n",
      "978                           DNC members       1  \n",
      "979                           DNC members       1  \n",
      "980                           DNC members       1  \n",
      "981                           DNC members       1  \n",
      "982                           DNC members       1  \n",
      "983                           DNC members       1  \n",
      "984                           DNC members       1  \n",
      "985                           DNC members       1  \n",
      "986                           DNC members       1  \n",
      "987                           DNC members       1  \n",
      "988                           DNC members       1  \n",
      "989                           DNC members       1  \n",
      "990                           DNC members       1  \n",
      "991                           DNC members       1  \n",
      "992                           DNC members       1  \n",
      "993                           DNC members       1  \n",
      "994                           DNC members       1  \n",
      "995                           DNC members       1  \n",
      "996                           DNC members       1  \n",
      "997                           DNC members       1  \n",
      "998                           DNC members       1  \n",
      "999                           DNC members       1  \n",
      "1000                          DNC members       1  \n",
      "1001                          DNC members       1  \n",
      "1002                          DNC members       1  \n",
      "1003                          DNC members       1  \n",
      "1004                          DNC members       1  \n",
      "1005                          DNC members       1  \n",
      "\n",
      "[1006 rows x 9 columns]\n"
     ]
    }
   ],
   "source": [
    "df.drop(['city','body','order','district'], axis=1, inplace=True)\n",
    "print(df)"
   ]
  },
  {
   "cell_type": "markdown",
   "metadata": {},
   "source": [
    "#### An important phase of understanding the data is to understand the source. In order to do this, I will extract the primary source from the associated url that's provided within the dataset. This will allow us to find the big news players, and what they have published, versus other smaller sources and what they've decided to publish.\n",
    "\n",
    "#### In order to accomplish this, the following sources are used to refind the location of the individual endorsements. There are 9 primary sources that will be used, with the other option being an \"other\" column for the items not fitting in the correct category. Specifically, the 9 sources are as follows: \n",
    "\n",
    "\n",
    "- 4President <a href=\"http://www.4president.org/\" target=\"_blank\"> (Link) </a>\n",
    "- AP News <a href=\"https://apnews.com/\" target=\"_blank\"> (Link) </a>\n",
    "- FiveThirtyEight <a href=\"https://fivethirtyeight.com/\" target=\"_blank\"> (Link) </a>\n",
    "- Politico <a href=\"https://www.politico.com/\" target=\"_blank\"> (Link) </a>\n",
    "- Twitter <a href=\"https://twitter.com/\" target=\"_blank\"> (Link) </a>\n",
    "- USA Today <a href=\"https://www.usatoday.com/\" target=\"_blank\"> (Link) </a>\n",
    "- Washington Post <a href=\"https://www.washingtonpost.com/\" target=\"_blank\"> (Link) </a>\n",
    "- Youtube <a href=\"https://www.youtube.com/\" target=\"_blank\"> (Link) </a>"
   ]
  },
  {
   "cell_type": "code",
   "execution_count": 50,
   "metadata": {},
   "outputs": [],
   "source": [
    "#Change Column Name for source extraction\n",
    "df.rename(columns={'source': 'raw_source'}, inplace=True)\n",
    "df['raw_source'] = df.loc[:,'raw_source'].fillna('other')\n",
    "df['source'] = 'other'\n",
    "\n",
    "#Define list of 9 primary sources for extraction \n",
    "sources=['4president','apnews','cnn','fivethirtyeight','politico','twitter','usatoday','washingtonpost','youtube']\n",
    "\n",
    "#Check list for each row of data in dataset and change as necessary\n",
    "for k in sources:\n",
    "    df['source'] =  np.where(df['raw_source'].str.contains(k), k,  df['source'])\n",
    "\n",
    "df.drop('raw_source', axis=1, inplace=True)\n",
    "df['endorsee'] = df.loc[:,'endorsee'].fillna('no_endorsee')\n",
    "df['party'] = df.loc[:, 'endorser party'].fillna('None')"
   ]
  },
  {
   "cell_type": "code",
   "execution_count": 54,
   "metadata": {},
   "outputs": [],
   "source": [
    "#Table that excludes rows without a clear endorsee (data that isn't refined enough)\n",
    "endorsee_df = df[df['endorsee']!='no_endorsee']\n",
    "endorsee_df['endorsee'] = endorsee_df['endorsee'].str.split(' ').apply(lambda r: r[-1])"
   ]
  },
  {
   "cell_type": "code",
   "execution_count": 56,
   "metadata": {},
   "outputs": [],
   "source": [
    "end_df = endorsee_df.groupby('endorsee').agg({'endorser': 'count', 'points': 'sum'})\n",
    "\n",
    "end_df.rename(columns={'endorser': 'n_endorsements',\n",
    "                       'points': 'tot_points'},\n",
    "              inplace=True)\n",
    "\n",
    "end_df['points_endorser_ratio'] = np.round(np.divide(np.array(end_df['tot_points']), np.array(end_df['n_endorsements'])), 2)\n",
    "end_df.reset_index(inplace=True)\n"
   ]
  },
  {
   "cell_type": "markdown",
   "metadata": {},
   "source": [
    "### Endorsee Analysis:\n",
    "#### To further understand the trends between endorsee and the number of points that are associated, the following scoring rubric was used for the data:\n",
    "\n",
    "- 10 Points\n",
    " - Former presidents and vice presidents\n",
    " - Current national party leaders\n",
    "- 8 points\n",
    " - Governors\n",
    "- 6 Points\n",
    " - U.S. Senators\n",
    "- 5 Points\n",
    " - Former presidential and vice-presidential nominees\n",
    " - Former national party leaders\n",
    " - 2020 presidential candidates who have dropped out\n",
    "- 3 Points\n",
    " - U.S. Representatives\n",
    " - Mayors of Large Cities\n",
    "- 2 Points\n",
    " - Officials in statewide elected offices\n",
    " - State legislative leaders\n",
    "- 1 Point\n",
    " - Other Democratic National Committee members\n",
    " \n",
    "#### The visualization below can help us determine where each candidate stands in terms of overall points (based on the scale above) and number of endorsements overall. \n"
   ]
  },
  {
   "cell_type": "code",
   "execution_count": 57,
   "metadata": {},
   "outputs": [
    {
     "data": {
      "application/vnd.plotly.v1+json": {
       "config": {
        "plotlyServerURL": "https://plot.ly"
       },
       "data": [
        {
         "marker": {
          "color": [
           3,
           3,
           2,
           2,
           3,
           2,
           2,
           3,
           3,
           2,
           2,
           3,
           3,
           2,
           1,
           2
          ],
          "colorscale": [
           [
            0,
            "rgb(0, 128, 128)"
           ],
           [
            0.16666666666666666,
            "rgb(112, 164, 148)"
           ],
           [
            0.3333333333333333,
            "rgb(180, 200, 168)"
           ],
           [
            0.5,
            "rgb(246, 237, 189)"
           ],
           [
            0.6666666666666666,
            "rgb(237, 187, 138)"
           ],
           [
            0.8333333333333334,
            "rgb(222, 138, 90)"
           ],
           [
            1,
            "rgb(202, 86, 44)"
           ]
          ],
          "opacity": 0.7,
          "size": [
           36,
           36,
           25,
           25,
           36,
           25,
           25,
           36,
           36,
           25,
           25,
           36,
           36,
           25,
           16,
           25
          ]
         },
         "mode": "markers+text",
         "text": [
          "Bennet",
          "Biden",
          "Bloomberg",
          "Booker",
          "Bullock",
          "Buttigieg",
          "Castro",
          "Delaney",
          "Gillibrand",
          "Harris",
          "Inslee",
          "Klobuchar",
          "O'Rourke",
          "Sanders",
          "Steyer",
          "Warren"
         ],
         "textposition": "bottom right",
         "type": "scatter",
         "x": [
          4,
          81,
          18,
          21,
          2,
          14,
          2,
          2,
          1,
          24,
          4,
          14,
          1,
          27,
          1,
          33
         ],
         "y": [
          15,
          252,
          50,
          54,
          7,
          36,
          4,
          6,
          3,
          66,
          11,
          53,
          3,
          55,
          1,
          87
         ]
        }
       ],
       "layout": {
        "annotations": [
         {
          "align": "left",
          "showarrow": false,
          "text": "Select Axis Scale",
          "x": -0.2,
          "xref": "paper",
          "y": 1.13,
          "yref": "paper"
         }
        ],
        "showlegend": false,
        "template": {
         "data": {
          "bar": [
           {
            "error_x": {
             "color": "#2a3f5f"
            },
            "error_y": {
             "color": "#2a3f5f"
            },
            "marker": {
             "line": {
              "color": "#E5ECF6",
              "width": 0.5
             }
            },
            "type": "bar"
           }
          ],
          "barpolar": [
           {
            "marker": {
             "line": {
              "color": "#E5ECF6",
              "width": 0.5
             }
            },
            "type": "barpolar"
           }
          ],
          "carpet": [
           {
            "aaxis": {
             "endlinecolor": "#2a3f5f",
             "gridcolor": "white",
             "linecolor": "white",
             "minorgridcolor": "white",
             "startlinecolor": "#2a3f5f"
            },
            "baxis": {
             "endlinecolor": "#2a3f5f",
             "gridcolor": "white",
             "linecolor": "white",
             "minorgridcolor": "white",
             "startlinecolor": "#2a3f5f"
            },
            "type": "carpet"
           }
          ],
          "choropleth": [
           {
            "colorbar": {
             "outlinewidth": 0,
             "ticks": ""
            },
            "type": "choropleth"
           }
          ],
          "contour": [
           {
            "colorbar": {
             "outlinewidth": 0,
             "ticks": ""
            },
            "colorscale": [
             [
              0,
              "#0d0887"
             ],
             [
              0.1111111111111111,
              "#46039f"
             ],
             [
              0.2222222222222222,
              "#7201a8"
             ],
             [
              0.3333333333333333,
              "#9c179e"
             ],
             [
              0.4444444444444444,
              "#bd3786"
             ],
             [
              0.5555555555555556,
              "#d8576b"
             ],
             [
              0.6666666666666666,
              "#ed7953"
             ],
             [
              0.7777777777777778,
              "#fb9f3a"
             ],
             [
              0.8888888888888888,
              "#fdca26"
             ],
             [
              1,
              "#f0f921"
             ]
            ],
            "type": "contour"
           }
          ],
          "contourcarpet": [
           {
            "colorbar": {
             "outlinewidth": 0,
             "ticks": ""
            },
            "type": "contourcarpet"
           }
          ],
          "heatmap": [
           {
            "colorbar": {
             "outlinewidth": 0,
             "ticks": ""
            },
            "colorscale": [
             [
              0,
              "#0d0887"
             ],
             [
              0.1111111111111111,
              "#46039f"
             ],
             [
              0.2222222222222222,
              "#7201a8"
             ],
             [
              0.3333333333333333,
              "#9c179e"
             ],
             [
              0.4444444444444444,
              "#bd3786"
             ],
             [
              0.5555555555555556,
              "#d8576b"
             ],
             [
              0.6666666666666666,
              "#ed7953"
             ],
             [
              0.7777777777777778,
              "#fb9f3a"
             ],
             [
              0.8888888888888888,
              "#fdca26"
             ],
             [
              1,
              "#f0f921"
             ]
            ],
            "type": "heatmap"
           }
          ],
          "heatmapgl": [
           {
            "colorbar": {
             "outlinewidth": 0,
             "ticks": ""
            },
            "colorscale": [
             [
              0,
              "#0d0887"
             ],
             [
              0.1111111111111111,
              "#46039f"
             ],
             [
              0.2222222222222222,
              "#7201a8"
             ],
             [
              0.3333333333333333,
              "#9c179e"
             ],
             [
              0.4444444444444444,
              "#bd3786"
             ],
             [
              0.5555555555555556,
              "#d8576b"
             ],
             [
              0.6666666666666666,
              "#ed7953"
             ],
             [
              0.7777777777777778,
              "#fb9f3a"
             ],
             [
              0.8888888888888888,
              "#fdca26"
             ],
             [
              1,
              "#f0f921"
             ]
            ],
            "type": "heatmapgl"
           }
          ],
          "histogram": [
           {
            "marker": {
             "colorbar": {
              "outlinewidth": 0,
              "ticks": ""
             }
            },
            "type": "histogram"
           }
          ],
          "histogram2d": [
           {
            "colorbar": {
             "outlinewidth": 0,
             "ticks": ""
            },
            "colorscale": [
             [
              0,
              "#0d0887"
             ],
             [
              0.1111111111111111,
              "#46039f"
             ],
             [
              0.2222222222222222,
              "#7201a8"
             ],
             [
              0.3333333333333333,
              "#9c179e"
             ],
             [
              0.4444444444444444,
              "#bd3786"
             ],
             [
              0.5555555555555556,
              "#d8576b"
             ],
             [
              0.6666666666666666,
              "#ed7953"
             ],
             [
              0.7777777777777778,
              "#fb9f3a"
             ],
             [
              0.8888888888888888,
              "#fdca26"
             ],
             [
              1,
              "#f0f921"
             ]
            ],
            "type": "histogram2d"
           }
          ],
          "histogram2dcontour": [
           {
            "colorbar": {
             "outlinewidth": 0,
             "ticks": ""
            },
            "colorscale": [
             [
              0,
              "#0d0887"
             ],
             [
              0.1111111111111111,
              "#46039f"
             ],
             [
              0.2222222222222222,
              "#7201a8"
             ],
             [
              0.3333333333333333,
              "#9c179e"
             ],
             [
              0.4444444444444444,
              "#bd3786"
             ],
             [
              0.5555555555555556,
              "#d8576b"
             ],
             [
              0.6666666666666666,
              "#ed7953"
             ],
             [
              0.7777777777777778,
              "#fb9f3a"
             ],
             [
              0.8888888888888888,
              "#fdca26"
             ],
             [
              1,
              "#f0f921"
             ]
            ],
            "type": "histogram2dcontour"
           }
          ],
          "mesh3d": [
           {
            "colorbar": {
             "outlinewidth": 0,
             "ticks": ""
            },
            "type": "mesh3d"
           }
          ],
          "parcoords": [
           {
            "line": {
             "colorbar": {
              "outlinewidth": 0,
              "ticks": ""
             }
            },
            "type": "parcoords"
           }
          ],
          "pie": [
           {
            "automargin": true,
            "type": "pie"
           }
          ],
          "scatter": [
           {
            "marker": {
             "colorbar": {
              "outlinewidth": 0,
              "ticks": ""
             }
            },
            "type": "scatter"
           }
          ],
          "scatter3d": [
           {
            "line": {
             "colorbar": {
              "outlinewidth": 0,
              "ticks": ""
             }
            },
            "marker": {
             "colorbar": {
              "outlinewidth": 0,
              "ticks": ""
             }
            },
            "type": "scatter3d"
           }
          ],
          "scattercarpet": [
           {
            "marker": {
             "colorbar": {
              "outlinewidth": 0,
              "ticks": ""
             }
            },
            "type": "scattercarpet"
           }
          ],
          "scattergeo": [
           {
            "marker": {
             "colorbar": {
              "outlinewidth": 0,
              "ticks": ""
             }
            },
            "type": "scattergeo"
           }
          ],
          "scattergl": [
           {
            "marker": {
             "colorbar": {
              "outlinewidth": 0,
              "ticks": ""
             }
            },
            "type": "scattergl"
           }
          ],
          "scattermapbox": [
           {
            "marker": {
             "colorbar": {
              "outlinewidth": 0,
              "ticks": ""
             }
            },
            "type": "scattermapbox"
           }
          ],
          "scatterpolar": [
           {
            "marker": {
             "colorbar": {
              "outlinewidth": 0,
              "ticks": ""
             }
            },
            "type": "scatterpolar"
           }
          ],
          "scatterpolargl": [
           {
            "marker": {
             "colorbar": {
              "outlinewidth": 0,
              "ticks": ""
             }
            },
            "type": "scatterpolargl"
           }
          ],
          "scatterternary": [
           {
            "marker": {
             "colorbar": {
              "outlinewidth": 0,
              "ticks": ""
             }
            },
            "type": "scatterternary"
           }
          ],
          "surface": [
           {
            "colorbar": {
             "outlinewidth": 0,
             "ticks": ""
            },
            "colorscale": [
             [
              0,
              "#0d0887"
             ],
             [
              0.1111111111111111,
              "#46039f"
             ],
             [
              0.2222222222222222,
              "#7201a8"
             ],
             [
              0.3333333333333333,
              "#9c179e"
             ],
             [
              0.4444444444444444,
              "#bd3786"
             ],
             [
              0.5555555555555556,
              "#d8576b"
             ],
             [
              0.6666666666666666,
              "#ed7953"
             ],
             [
              0.7777777777777778,
              "#fb9f3a"
             ],
             [
              0.8888888888888888,
              "#fdca26"
             ],
             [
              1,
              "#f0f921"
             ]
            ],
            "type": "surface"
           }
          ],
          "table": [
           {
            "cells": {
             "fill": {
              "color": "#EBF0F8"
             },
             "line": {
              "color": "white"
             }
            },
            "header": {
             "fill": {
              "color": "#C8D4E3"
             },
             "line": {
              "color": "white"
             }
            },
            "type": "table"
           }
          ]
         },
         "layout": {
          "annotationdefaults": {
           "arrowcolor": "#2a3f5f",
           "arrowhead": 0,
           "arrowwidth": 1
          },
          "coloraxis": {
           "colorbar": {
            "outlinewidth": 0,
            "ticks": ""
           }
          },
          "colorscale": {
           "diverging": [
            [
             0,
             "#8e0152"
            ],
            [
             0.1,
             "#c51b7d"
            ],
            [
             0.2,
             "#de77ae"
            ],
            [
             0.3,
             "#f1b6da"
            ],
            [
             0.4,
             "#fde0ef"
            ],
            [
             0.5,
             "#f7f7f7"
            ],
            [
             0.6,
             "#e6f5d0"
            ],
            [
             0.7,
             "#b8e186"
            ],
            [
             0.8,
             "#7fbc41"
            ],
            [
             0.9,
             "#4d9221"
            ],
            [
             1,
             "#276419"
            ]
           ],
           "sequential": [
            [
             0,
             "#0d0887"
            ],
            [
             0.1111111111111111,
             "#46039f"
            ],
            [
             0.2222222222222222,
             "#7201a8"
            ],
            [
             0.3333333333333333,
             "#9c179e"
            ],
            [
             0.4444444444444444,
             "#bd3786"
            ],
            [
             0.5555555555555556,
             "#d8576b"
            ],
            [
             0.6666666666666666,
             "#ed7953"
            ],
            [
             0.7777777777777778,
             "#fb9f3a"
            ],
            [
             0.8888888888888888,
             "#fdca26"
            ],
            [
             1,
             "#f0f921"
            ]
           ],
           "sequentialminus": [
            [
             0,
             "#0d0887"
            ],
            [
             0.1111111111111111,
             "#46039f"
            ],
            [
             0.2222222222222222,
             "#7201a8"
            ],
            [
             0.3333333333333333,
             "#9c179e"
            ],
            [
             0.4444444444444444,
             "#bd3786"
            ],
            [
             0.5555555555555556,
             "#d8576b"
            ],
            [
             0.6666666666666666,
             "#ed7953"
            ],
            [
             0.7777777777777778,
             "#fb9f3a"
            ],
            [
             0.8888888888888888,
             "#fdca26"
            ],
            [
             1,
             "#f0f921"
            ]
           ]
          },
          "colorway": [
           "#636efa",
           "#EF553B",
           "#00cc96",
           "#ab63fa",
           "#FFA15A",
           "#19d3f3",
           "#FF6692",
           "#B6E880",
           "#FF97FF",
           "#FECB52"
          ],
          "font": {
           "color": "#2a3f5f"
          },
          "geo": {
           "bgcolor": "white",
           "lakecolor": "white",
           "landcolor": "#E5ECF6",
           "showlakes": true,
           "showland": true,
           "subunitcolor": "white"
          },
          "hoverlabel": {
           "align": "left"
          },
          "hovermode": "closest",
          "mapbox": {
           "style": "light"
          },
          "paper_bgcolor": "white",
          "plot_bgcolor": "#E5ECF6",
          "polar": {
           "angularaxis": {
            "gridcolor": "white",
            "linecolor": "white",
            "ticks": ""
           },
           "bgcolor": "#E5ECF6",
           "radialaxis": {
            "gridcolor": "white",
            "linecolor": "white",
            "ticks": ""
           }
          },
          "scene": {
           "xaxis": {
            "backgroundcolor": "#E5ECF6",
            "gridcolor": "white",
            "gridwidth": 2,
            "linecolor": "white",
            "showbackground": true,
            "ticks": "",
            "zerolinecolor": "white"
           },
           "yaxis": {
            "backgroundcolor": "#E5ECF6",
            "gridcolor": "white",
            "gridwidth": 2,
            "linecolor": "white",
            "showbackground": true,
            "ticks": "",
            "zerolinecolor": "white"
           },
           "zaxis": {
            "backgroundcolor": "#E5ECF6",
            "gridcolor": "white",
            "gridwidth": 2,
            "linecolor": "white",
            "showbackground": true,
            "ticks": "",
            "zerolinecolor": "white"
           }
          },
          "shapedefaults": {
           "line": {
            "color": "#2a3f5f"
           }
          },
          "ternary": {
           "aaxis": {
            "gridcolor": "white",
            "linecolor": "white",
            "ticks": ""
           },
           "baxis": {
            "gridcolor": "white",
            "linecolor": "white",
            "ticks": ""
           },
           "bgcolor": "#E5ECF6",
           "caxis": {
            "gridcolor": "white",
            "linecolor": "white",
            "ticks": ""
           }
          },
          "title": {
           "x": 0.05
          },
          "xaxis": {
           "automargin": true,
           "gridcolor": "white",
           "linecolor": "white",
           "ticks": "",
           "title": {
            "standoff": 15
           },
           "zerolinecolor": "white",
           "zerolinewidth": 2
          },
          "yaxis": {
           "automargin": true,
           "gridcolor": "white",
           "linecolor": "white",
           "ticks": "",
           "title": {
            "standoff": 15
           },
           "zerolinecolor": "white",
           "zerolinewidth": 2
          }
         }
        },
        "title": {
         "text": "Total Points per Number of Endorsers",
         "x": 0.5,
         "xanchor": "center",
         "y": 0.95,
         "yanchor": "top"
        },
        "updatemenus": [
         {
          "active": 0,
          "buttons": [
           {
            "args": [
             {
              "visible": true
             },
             {
              "title": "Log scale",
              "xaxis": {
               "type": "log"
              },
              "yaxis": {
               "type": "log"
              }
             }
            ],
            "label": "Log Scale",
            "method": "update"
           },
           {
            "args": [
             {
              "visible": true
             },
             {
              "title": "Linear scale",
              "xaxis": {
               "type": "log"
              },
              "yaxis": {
               "type": "linear"
              }
             }
            ],
            "label": "Log X",
            "method": "update"
           },
           {
            "args": [
             {
              "visible": true
             },
             {
              "title": "Linear scale",
              "xaxis": {
               "type": "linear"
              },
              "yaxis": {
               "type": "log"
              }
             }
            ],
            "label": "Log Y",
            "method": "update"
           },
           {
            "args": [
             {
              "visible": true
             },
             {
              "title": "Linear scale",
              "xaxis": {
               "type": "linear"
              },
              "yaxis": {
               "type": "linear"
              }
             }
            ],
            "label": "Linear Scale",
            "method": "update"
           }
          ],
          "direction": "down",
          "pad": {
           "r": 10,
           "t": 10
          },
          "showactive": true,
          "x": -0.2,
          "xanchor": "left",
          "y": 1.1,
          "yanchor": "top"
         }
        ],
        "xaxis": {
         "title": {
          "text": "Number of Endorsers"
         },
         "type": "log"
        },
        "yaxis": {
         "title": {
          "text": "Total Points"
         },
         "type": "log"
        }
       }
      },
      "text/html": [
       "<div>\n",
       "        \n",
       "        \n",
       "            <div id=\"57a94687-b0d7-489a-a1e4-6ff59bd6bdb8\" class=\"plotly-graph-div\" style=\"height:525px; width:100%;\"></div>\n",
       "            <script type=\"text/javascript\">\n",
       "                require([\"plotly\"], function(Plotly) {\n",
       "                    window.PLOTLYENV=window.PLOTLYENV || {};\n",
       "                    \n",
       "                if (document.getElementById(\"57a94687-b0d7-489a-a1e4-6ff59bd6bdb8\")) {\n",
       "                    Plotly.newPlot(\n",
       "                        '57a94687-b0d7-489a-a1e4-6ff59bd6bdb8',\n",
       "                        [{\"marker\": {\"color\": [3, 3, 2, 2, 3, 2, 2, 3, 3, 2, 2, 3, 3, 2, 1, 2], \"colorscale\": [[0.0, \"rgb(0, 128, 128)\"], [0.16666666666666666, \"rgb(112, 164, 148)\"], [0.3333333333333333, \"rgb(180, 200, 168)\"], [0.5, \"rgb(246, 237, 189)\"], [0.6666666666666666, \"rgb(237, 187, 138)\"], [0.8333333333333334, \"rgb(222, 138, 90)\"], [1.0, \"rgb(202, 86, 44)\"]], \"opacity\": 0.7, \"size\": [36, 36, 25, 25, 36, 25, 25, 36, 36, 25, 25, 36, 36, 25, 16, 25]}, \"mode\": \"markers+text\", \"text\": [\"Bennet\", \"Biden\", \"Bloomberg\", \"Booker\", \"Bullock\", \"Buttigieg\", \"Castro\", \"Delaney\", \"Gillibrand\", \"Harris\", \"Inslee\", \"Klobuchar\", \"O'Rourke\", \"Sanders\", \"Steyer\", \"Warren\"], \"textposition\": \"bottom right\", \"type\": \"scatter\", \"x\": [4, 81, 18, 21, 2, 14, 2, 2, 1, 24, 4, 14, 1, 27, 1, 33], \"y\": [15, 252, 50, 54, 7, 36, 4, 6, 3, 66, 11, 53, 3, 55, 1, 87]}],\n",
       "                        {\"annotations\": [{\"align\": \"left\", \"showarrow\": false, \"text\": \"Select Axis Scale\", \"x\": -0.2, \"xref\": \"paper\", \"y\": 1.13, \"yref\": \"paper\"}], \"showlegend\": false, \"template\": {\"data\": {\"bar\": [{\"error_x\": {\"color\": \"#2a3f5f\"}, \"error_y\": {\"color\": \"#2a3f5f\"}, \"marker\": {\"line\": {\"color\": \"#E5ECF6\", \"width\": 0.5}}, \"type\": \"bar\"}], \"barpolar\": [{\"marker\": {\"line\": {\"color\": \"#E5ECF6\", \"width\": 0.5}}, \"type\": \"barpolar\"}], \"carpet\": [{\"aaxis\": {\"endlinecolor\": \"#2a3f5f\", \"gridcolor\": \"white\", \"linecolor\": \"white\", \"minorgridcolor\": \"white\", \"startlinecolor\": \"#2a3f5f\"}, \"baxis\": {\"endlinecolor\": \"#2a3f5f\", \"gridcolor\": \"white\", \"linecolor\": \"white\", \"minorgridcolor\": \"white\", \"startlinecolor\": \"#2a3f5f\"}, \"type\": \"carpet\"}], \"choropleth\": [{\"colorbar\": {\"outlinewidth\": 0, \"ticks\": \"\"}, \"type\": \"choropleth\"}], \"contour\": [{\"colorbar\": {\"outlinewidth\": 0, \"ticks\": \"\"}, \"colorscale\": [[0.0, \"#0d0887\"], [0.1111111111111111, \"#46039f\"], [0.2222222222222222, \"#7201a8\"], [0.3333333333333333, \"#9c179e\"], [0.4444444444444444, \"#bd3786\"], [0.5555555555555556, \"#d8576b\"], [0.6666666666666666, \"#ed7953\"], [0.7777777777777778, \"#fb9f3a\"], [0.8888888888888888, \"#fdca26\"], [1.0, \"#f0f921\"]], \"type\": \"contour\"}], \"contourcarpet\": [{\"colorbar\": {\"outlinewidth\": 0, \"ticks\": \"\"}, \"type\": \"contourcarpet\"}], \"heatmap\": [{\"colorbar\": {\"outlinewidth\": 0, \"ticks\": \"\"}, \"colorscale\": [[0.0, \"#0d0887\"], [0.1111111111111111, \"#46039f\"], [0.2222222222222222, \"#7201a8\"], [0.3333333333333333, \"#9c179e\"], [0.4444444444444444, \"#bd3786\"], [0.5555555555555556, \"#d8576b\"], [0.6666666666666666, \"#ed7953\"], [0.7777777777777778, \"#fb9f3a\"], [0.8888888888888888, \"#fdca26\"], [1.0, \"#f0f921\"]], \"type\": \"heatmap\"}], \"heatmapgl\": [{\"colorbar\": {\"outlinewidth\": 0, \"ticks\": \"\"}, \"colorscale\": [[0.0, \"#0d0887\"], [0.1111111111111111, \"#46039f\"], [0.2222222222222222, \"#7201a8\"], [0.3333333333333333, \"#9c179e\"], [0.4444444444444444, \"#bd3786\"], [0.5555555555555556, \"#d8576b\"], [0.6666666666666666, \"#ed7953\"], [0.7777777777777778, \"#fb9f3a\"], [0.8888888888888888, \"#fdca26\"], [1.0, \"#f0f921\"]], \"type\": \"heatmapgl\"}], \"histogram\": [{\"marker\": {\"colorbar\": {\"outlinewidth\": 0, \"ticks\": \"\"}}, \"type\": \"histogram\"}], \"histogram2d\": [{\"colorbar\": {\"outlinewidth\": 0, \"ticks\": \"\"}, \"colorscale\": [[0.0, \"#0d0887\"], [0.1111111111111111, \"#46039f\"], [0.2222222222222222, \"#7201a8\"], [0.3333333333333333, \"#9c179e\"], [0.4444444444444444, \"#bd3786\"], [0.5555555555555556, \"#d8576b\"], [0.6666666666666666, \"#ed7953\"], [0.7777777777777778, \"#fb9f3a\"], [0.8888888888888888, \"#fdca26\"], [1.0, \"#f0f921\"]], \"type\": \"histogram2d\"}], \"histogram2dcontour\": [{\"colorbar\": {\"outlinewidth\": 0, \"ticks\": \"\"}, \"colorscale\": [[0.0, \"#0d0887\"], [0.1111111111111111, \"#46039f\"], [0.2222222222222222, \"#7201a8\"], [0.3333333333333333, \"#9c179e\"], [0.4444444444444444, \"#bd3786\"], [0.5555555555555556, \"#d8576b\"], [0.6666666666666666, \"#ed7953\"], [0.7777777777777778, \"#fb9f3a\"], [0.8888888888888888, \"#fdca26\"], [1.0, \"#f0f921\"]], \"type\": \"histogram2dcontour\"}], \"mesh3d\": [{\"colorbar\": {\"outlinewidth\": 0, \"ticks\": \"\"}, \"type\": \"mesh3d\"}], \"parcoords\": [{\"line\": {\"colorbar\": {\"outlinewidth\": 0, \"ticks\": \"\"}}, \"type\": \"parcoords\"}], \"pie\": [{\"automargin\": true, \"type\": \"pie\"}], \"scatter\": [{\"marker\": {\"colorbar\": {\"outlinewidth\": 0, \"ticks\": \"\"}}, \"type\": \"scatter\"}], \"scatter3d\": [{\"line\": {\"colorbar\": {\"outlinewidth\": 0, \"ticks\": \"\"}}, \"marker\": {\"colorbar\": {\"outlinewidth\": 0, \"ticks\": \"\"}}, \"type\": \"scatter3d\"}], \"scattercarpet\": [{\"marker\": {\"colorbar\": {\"outlinewidth\": 0, \"ticks\": \"\"}}, \"type\": \"scattercarpet\"}], \"scattergeo\": [{\"marker\": {\"colorbar\": {\"outlinewidth\": 0, \"ticks\": \"\"}}, \"type\": \"scattergeo\"}], \"scattergl\": [{\"marker\": {\"colorbar\": {\"outlinewidth\": 0, \"ticks\": \"\"}}, \"type\": \"scattergl\"}], \"scattermapbox\": [{\"marker\": {\"colorbar\": {\"outlinewidth\": 0, \"ticks\": \"\"}}, \"type\": \"scattermapbox\"}], \"scatterpolar\": [{\"marker\": {\"colorbar\": {\"outlinewidth\": 0, \"ticks\": \"\"}}, \"type\": \"scatterpolar\"}], \"scatterpolargl\": [{\"marker\": {\"colorbar\": {\"outlinewidth\": 0, \"ticks\": \"\"}}, \"type\": \"scatterpolargl\"}], \"scatterternary\": [{\"marker\": {\"colorbar\": {\"outlinewidth\": 0, \"ticks\": \"\"}}, \"type\": \"scatterternary\"}], \"surface\": [{\"colorbar\": {\"outlinewidth\": 0, \"ticks\": \"\"}, \"colorscale\": [[0.0, \"#0d0887\"], [0.1111111111111111, \"#46039f\"], [0.2222222222222222, \"#7201a8\"], [0.3333333333333333, \"#9c179e\"], [0.4444444444444444, \"#bd3786\"], [0.5555555555555556, \"#d8576b\"], [0.6666666666666666, \"#ed7953\"], [0.7777777777777778, \"#fb9f3a\"], [0.8888888888888888, \"#fdca26\"], [1.0, \"#f0f921\"]], \"type\": \"surface\"}], \"table\": [{\"cells\": {\"fill\": {\"color\": \"#EBF0F8\"}, \"line\": {\"color\": \"white\"}}, \"header\": {\"fill\": {\"color\": \"#C8D4E3\"}, \"line\": {\"color\": \"white\"}}, \"type\": \"table\"}]}, \"layout\": {\"annotationdefaults\": {\"arrowcolor\": \"#2a3f5f\", \"arrowhead\": 0, \"arrowwidth\": 1}, \"coloraxis\": {\"colorbar\": {\"outlinewidth\": 0, \"ticks\": \"\"}}, \"colorscale\": {\"diverging\": [[0, \"#8e0152\"], [0.1, \"#c51b7d\"], [0.2, \"#de77ae\"], [0.3, \"#f1b6da\"], [0.4, \"#fde0ef\"], [0.5, \"#f7f7f7\"], [0.6, \"#e6f5d0\"], [0.7, \"#b8e186\"], [0.8, \"#7fbc41\"], [0.9, \"#4d9221\"], [1, \"#276419\"]], \"sequential\": [[0.0, \"#0d0887\"], [0.1111111111111111, \"#46039f\"], [0.2222222222222222, \"#7201a8\"], [0.3333333333333333, \"#9c179e\"], [0.4444444444444444, \"#bd3786\"], [0.5555555555555556, \"#d8576b\"], [0.6666666666666666, \"#ed7953\"], [0.7777777777777778, \"#fb9f3a\"], [0.8888888888888888, \"#fdca26\"], [1.0, \"#f0f921\"]], \"sequentialminus\": [[0.0, \"#0d0887\"], [0.1111111111111111, \"#46039f\"], [0.2222222222222222, \"#7201a8\"], [0.3333333333333333, \"#9c179e\"], [0.4444444444444444, \"#bd3786\"], [0.5555555555555556, \"#d8576b\"], [0.6666666666666666, \"#ed7953\"], [0.7777777777777778, \"#fb9f3a\"], [0.8888888888888888, \"#fdca26\"], [1.0, \"#f0f921\"]]}, \"colorway\": [\"#636efa\", \"#EF553B\", \"#00cc96\", \"#ab63fa\", \"#FFA15A\", \"#19d3f3\", \"#FF6692\", \"#B6E880\", \"#FF97FF\", \"#FECB52\"], \"font\": {\"color\": \"#2a3f5f\"}, \"geo\": {\"bgcolor\": \"white\", \"lakecolor\": \"white\", \"landcolor\": \"#E5ECF6\", \"showlakes\": true, \"showland\": true, \"subunitcolor\": \"white\"}, \"hoverlabel\": {\"align\": \"left\"}, \"hovermode\": \"closest\", \"mapbox\": {\"style\": \"light\"}, \"paper_bgcolor\": \"white\", \"plot_bgcolor\": \"#E5ECF6\", \"polar\": {\"angularaxis\": {\"gridcolor\": \"white\", \"linecolor\": \"white\", \"ticks\": \"\"}, \"bgcolor\": \"#E5ECF6\", \"radialaxis\": {\"gridcolor\": \"white\", \"linecolor\": \"white\", \"ticks\": \"\"}}, \"scene\": {\"xaxis\": {\"backgroundcolor\": \"#E5ECF6\", \"gridcolor\": \"white\", \"gridwidth\": 2, \"linecolor\": \"white\", \"showbackground\": true, \"ticks\": \"\", \"zerolinecolor\": \"white\"}, \"yaxis\": {\"backgroundcolor\": \"#E5ECF6\", \"gridcolor\": \"white\", \"gridwidth\": 2, \"linecolor\": \"white\", \"showbackground\": true, \"ticks\": \"\", \"zerolinecolor\": \"white\"}, \"zaxis\": {\"backgroundcolor\": \"#E5ECF6\", \"gridcolor\": \"white\", \"gridwidth\": 2, \"linecolor\": \"white\", \"showbackground\": true, \"ticks\": \"\", \"zerolinecolor\": \"white\"}}, \"shapedefaults\": {\"line\": {\"color\": \"#2a3f5f\"}}, \"ternary\": {\"aaxis\": {\"gridcolor\": \"white\", \"linecolor\": \"white\", \"ticks\": \"\"}, \"baxis\": {\"gridcolor\": \"white\", \"linecolor\": \"white\", \"ticks\": \"\"}, \"bgcolor\": \"#E5ECF6\", \"caxis\": {\"gridcolor\": \"white\", \"linecolor\": \"white\", \"ticks\": \"\"}}, \"title\": {\"x\": 0.05}, \"xaxis\": {\"automargin\": true, \"gridcolor\": \"white\", \"linecolor\": \"white\", \"ticks\": \"\", \"title\": {\"standoff\": 15}, \"zerolinecolor\": \"white\", \"zerolinewidth\": 2}, \"yaxis\": {\"automargin\": true, \"gridcolor\": \"white\", \"linecolor\": \"white\", \"ticks\": \"\", \"title\": {\"standoff\": 15}, \"zerolinecolor\": \"white\", \"zerolinewidth\": 2}}}, \"title\": {\"text\": \"Total Points per Number of Endorsers\", \"x\": 0.5, \"xanchor\": \"center\", \"y\": 0.95, \"yanchor\": \"top\"}, \"updatemenus\": [{\"active\": 0, \"buttons\": [{\"args\": [{\"visible\": true}, {\"title\": \"Log scale\", \"xaxis\": {\"type\": \"log\"}, \"yaxis\": {\"type\": \"log\"}}], \"label\": \"Log Scale\", \"method\": \"update\"}, {\"args\": [{\"visible\": true}, {\"title\": \"Linear scale\", \"xaxis\": {\"type\": \"log\"}, \"yaxis\": {\"type\": \"linear\"}}], \"label\": \"Log X\", \"method\": \"update\"}, {\"args\": [{\"visible\": true}, {\"title\": \"Linear scale\", \"xaxis\": {\"type\": \"linear\"}, \"yaxis\": {\"type\": \"log\"}}], \"label\": \"Log Y\", \"method\": \"update\"}, {\"args\": [{\"visible\": true}, {\"title\": \"Linear scale\", \"xaxis\": {\"type\": \"linear\"}, \"yaxis\": {\"type\": \"linear\"}}], \"label\": \"Linear Scale\", \"method\": \"update\"}], \"direction\": \"down\", \"pad\": {\"r\": 10, \"t\": 10}, \"showactive\": true, \"x\": -0.2, \"xanchor\": \"left\", \"y\": 1.1, \"yanchor\": \"top\"}], \"xaxis\": {\"title\": {\"text\": \"Number of Endorsers\"}, \"type\": \"log\"}, \"yaxis\": {\"title\": {\"text\": \"Total Points\"}, \"type\": \"log\"}},\n",
       "                        {\"responsive\": true}\n",
       "                    ).then(function(){\n",
       "                            \n",
       "var gd = document.getElementById('57a94687-b0d7-489a-a1e4-6ff59bd6bdb8');\n",
       "var x = new MutationObserver(function (mutations, observer) {{\n",
       "        var display = window.getComputedStyle(gd).display;\n",
       "        if (!display || display === 'none') {{\n",
       "            console.log([gd, 'removed!']);\n",
       "            Plotly.purge(gd);\n",
       "            observer.disconnect();\n",
       "        }}\n",
       "}});\n",
       "\n",
       "// Listen for the removal of the full notebook cells\n",
       "var notebookContainer = gd.closest('#notebook-container');\n",
       "if (notebookContainer) {{\n",
       "    x.observe(notebookContainer, {childList: true});\n",
       "}}\n",
       "\n",
       "// Listen for the clearing of the current output cell\n",
       "var outputEl = gd.closest('.output');\n",
       "if (outputEl) {{\n",
       "    x.observe(outputEl, {childList: true});\n",
       "}}\n",
       "\n",
       "                        })\n",
       "                };\n",
       "                });\n",
       "            </script>\n",
       "        </div>"
      ]
     },
     "metadata": {},
     "output_type": "display_data"
    }
   ],
   "source": [
    "fig = go.Figure()\n",
    "\n",
    "fig.add_trace( \n",
    "        go.Scatter(\n",
    "            x=end_df['n_endorsements'], \n",
    "            y=end_df['tot_points'],\n",
    "            mode='markers+text',\n",
    "            marker=dict(\n",
    "                size=(end_df['points_endorser_ratio']+3)**2,\n",
    "                color=end_df[\"points_endorser_ratio\"],\n",
    "                colorscale='geyser',\n",
    "                opacity = 0.7),\n",
    "            text=end_df['endorsee'],\n",
    "            textposition='bottom right'\n",
    "    ))\n",
    "\n",
    "fig.update_layout(\n",
    "        xaxis_type=\"log\",\n",
    "        yaxis_type=\"log\",\n",
    "        title={'text': 'Total Points per Number of Endorsers',\n",
    "               'y':0.95, 'x':0.5,\n",
    "               'xanchor': 'center', 'yanchor': 'top'},\n",
    "        showlegend=False,\n",
    "        xaxis_title_text='Number of Endorsers',\n",
    "        yaxis_title_text='Total Points',\n",
    "        updatemenus = list([\n",
    "            dict(active=0,\n",
    "                 buttons=list([\n",
    "                    dict(label='Log Scale',\n",
    "                         method='update',\n",
    "                         args=[{'visible': True},\n",
    "                               {'title': 'Log scale',\n",
    "                                'xaxis': {'type': 'log'},\n",
    "                                'yaxis': {'type': 'log'}}]),\n",
    "                    dict(label='Log X',\n",
    "                         method='update',\n",
    "                         args=[{'visible': True},\n",
    "                               {'title': 'Linear scale',\n",
    "                                'xaxis': {'type': 'log'},\n",
    "                                'yaxis': {'type': 'linear'}}]),\n",
    "                    dict(label='Log Y',\n",
    "                        method='update',\n",
    "                       args=[{'visible': True},\n",
    "                              {'title': 'Linear scale',\n",
    "                               'xaxis': {'type': 'linear'},\n",
    "                               'yaxis': {'type': 'log'}}]),\n",
    "                    dict(label='Linear Scale',\n",
    "                        method='update',\n",
    "                       args=[{'visible': True},\n",
    "                              {'title': 'Linear scale',\n",
    "                               'xaxis': {'type': 'linear'},\n",
    "                               'yaxis': {'type': 'linear'}}]),\n",
    "                            ]),\n",
    "                direction=\"down\",\n",
    "                pad={\"r\": 10, \"t\": 10},\n",
    "                showactive=True,\n",
    "                x=-0.2,\n",
    "                xanchor=\"left\",\n",
    "                y=1.1,\n",
    "                yanchor=\"top\"\n",
    "                )]),\n",
    "        annotations=[\n",
    "            go.layout.Annotation(text=\"Select Axis Scale\", \n",
    "                                 x=-0.2, xref=\"paper\", \n",
    "                                 y=1.13, yref=\"paper\",\n",
    "                                 align=\"left\", showarrow=False),\n",
    "        ])\n",
    "\n",
    "fig.show()"
   ]
  },
  {
   "cell_type": "markdown",
   "metadata": {},
   "source": [
    "### Conclusions:\n",
    "#### Based on the above chart, we can see a few different conclusions: \n",
    "- Joe Bien appears to be in the best position, in terms of number of endorsers and overall points\n",
    "- Elizabeth Warren appears to be in a similar position, where she has the scond highest number of endorsers and overall points\n",
    "- Amy Klobuchar appears to have a variety of valuable endorsements, given her endorsement count to overall points ratio (~3.78 points per endorsement)"
   ]
  },
  {
   "cell_type": "markdown",
   "metadata": {},
   "source": [
    "### Presidential Candidate Summary\n",
    "#### The below visualization will summarize the following data points\n",
    "- Points received by category (i.e, Senators, U.S. Representatives, etc.)\n",
    "- Points received by party \n",
    "- Points received by position (i.e., Attorney General, Secretary of State, etc.)\n",
    "- Points received by state"
   ]
  },
  {
   "cell_type": "code",
   "execution_count": 87,
   "metadata": {},
   "outputs": [],
   "source": [
    "#Map state (or territory) abbreviation to full name\n",
    "state_to_s = {\n",
    " 'Alabama': 'AL',\n",
    " 'Alaska':'AK',\n",
    " 'Arizona':'AZ',\n",
    " 'Arkansas':'AR',\n",
    " 'California':'CA',\n",
    " 'Colorado':'CO',\n",
    " 'Connecticut':'CT',\n",
    " 'Delaware':'DE',\n",
    " 'Florida':'FL',\n",
    " 'Georgia':'GA',\n",
    " 'Hawaii':'HI',\n",
    " 'Idaho':'ID',\n",
    " 'Illinois':'IL',\n",
    " 'Indiana':'IN',\n",
    " 'Iowa':'IA',\n",
    " 'Kansas':'KS',\n",
    " 'Kentucky':'KY',\n",
    " 'Louisiana':'LA',\n",
    " 'Maine':'ME',\n",
    " 'Maryland':'MD',\n",
    " 'Massachusetts':'MA',\n",
    " 'Michigan':'MI',\n",
    " 'Minnesota':'MN',\n",
    " 'Mississippi':'MS',\n",
    " 'Missouri':'MO',\n",
    " 'Montana':'MT',\n",
    " 'Nebraska':'NE',\n",
    " 'Nevada':'NV',\n",
    " 'New Hampshire':'NH',\n",
    " 'New Jersey':'NJ',\n",
    " 'New Mexico':'NM',\n",
    " 'New York':'NY',\n",
    " 'North Carolina' :'NC',\n",
    " 'North Dakota':'ND',\n",
    " 'Ohio':'OH',\n",
    " 'Oklahoma':'OK',\n",
    " 'Oregon':'OR',\n",
    " 'Pennsylvania':'PA',\n",
    " 'Rhode Island':'RI',\n",
    " 'South Carolina':'SC',\n",
    " 'South Dakota':'SD',\n",
    " 'Tennessee':'TN',\n",
    " 'Texas':'TX',\n",
    " 'Utah':'UT',\n",
    " 'Vermont':'VT',\n",
    " 'Virginia':'VA',\n",
    " 'Washington':'WA',\n",
    " 'West Virginia':'WV',\n",
    " 'Wisconsin':'WI',\n",
    " 'Wyoming':'WY',\n",
    " 'District of Columbia':'DC',\n",
    " 'Marshall Islands':'MH'}\n",
    "\n",
    "s_to_state = {}\n",
    "\n",
    "for k,v in state_to_s.items():\n",
    "    s_to_state[v]=k\n",
    "    \n",
    "df['full_state'] = df['state'].map(s_to_state)\n",
    "\n",
    "\n",
    "#calculate counts based on the following columns \n",
    "cols = ['category', 'source', 'position', 'endorser party', 'state']\n",
    "lc = len(cols)\n",
    "\n",
    "d={}\n",
    "\n",
    "for c in cols:\n",
    "    tmp = endorsee_df.groupby(['endorsee', c]).agg({'points':'sum', 'endorser':'count'}).reset_index()\n",
    "    tmp.rename(columns={'points': 'pt_by_'.format(c), 'endorser': 'votes_by_'.format(c)}, inplace=True)\n",
    "    d[c] = tmp\n",
    "\n",
    "cat_df = d['category']\n",
    "source_df = d['source']\n",
    "position_df = d['position']\n",
    "party_df = d['endorser party']\n",
    "state_df = d['state']\n",
    "state_df['full_state'] = state_df['state'].map(s_to_state)\n",
    "\n",
    "buttons=[]\n",
    "l=endorsee_df['endorsee'].nunique()\n",
    "n_plots=5\n",
    "colors = ['cadetblue', 'indianred',  'goldenrod']\n",
    "pie_colors = ['mediumpurple','beige']"
   ]
  },
  {
   "cell_type": "code",
   "execution_count": 94,
   "metadata": {
    "scrolled": false
   },
   "outputs": [
    {
     "data": {
      "application/vnd.plotly.v1+json": {
       "config": {
        "plotlyServerURL": "https://plot.ly"
       },
       "data": [
        {
         "marker": {
          "color": "cadetblue",
          "opacity": 0.9
         },
         "opacity": 0.9,
         "showlegend": false,
         "text": [
          6
         ],
         "textposition": "outside",
         "type": "bar",
         "visible": false,
         "x": [
          "Representatives"
         ],
         "xaxis": "x",
         "y": [
          6
         ],
         "yaxis": "y"
        },
        {
         "marker": {
          "color": "indianred",
          "opacity": 0.9
         },
         "opacity": 0.9,
         "showlegend": false,
         "text": [
          6
         ],
         "textposition": "outside",
         "type": "bar",
         "visible": false,
         "x": [
          "representative"
         ],
         "xaxis": "x2",
         "y": [
          6
         ],
         "yaxis": "y2"
        },
        {
         "domain": {
          "x": [
           0.55,
           1
          ],
          "y": [
           0.3888888888888889,
           0.6111111111111112
          ]
         },
         "hole": 0.4,
         "hoverinfo": "label+percent+name",
         "labels": [
          "D"
         ],
         "marker": {
          "colors": [
           "rgb(0, 128, 128)",
           "rgb(112, 164, 148)",
           "rgb(180, 200, 168)",
           "rgb(246, 237, 189)",
           "rgb(237, 187, 138)",
           "rgb(222, 138, 90)",
           "rgb(202, 86, 44)"
          ]
         },
         "showlegend": false,
         "text": [
          "D"
         ],
         "textinfo": "percent+label",
         "textposition": "inside",
         "type": "pie",
         "values": [
          6
         ],
         "visible": false
        },
        {
         "marker": {
          "color": "goldenrod",
          "opacity": 0.9
         },
         "opacity": 0.9,
         "showlegend": false,
         "text": [
          2
         ],
         "textposition": "outside",
         "type": "bar",
         "visible": false,
         "x": [
          "twitter"
         ],
         "xaxis": "x3",
         "y": [
          2
         ],
         "yaxis": "y3"
        },
        {
         "domain": {
          "x": [
           0.55,
           1
          ],
          "y": [
           0,
           0.22222222222222224
          ]
         },
         "hole": 0.4,
         "hoverinfo": "label+percent+name",
         "labels": [
          "CA",
          "MD"
         ],
         "marker": {
          "colors": [
           "rgb(0, 128, 128)",
           "rgb(112, 164, 148)",
           "rgb(180, 200, 168)",
           "rgb(246, 237, 189)",
           "rgb(237, 187, 138)",
           "rgb(222, 138, 90)",
           "rgb(202, 86, 44)"
          ]
         },
         "showlegend": false,
         "text": [
          "California",
          "Maryland"
         ],
         "textinfo": "percent+label",
         "textposition": "inside",
         "type": "pie",
         "values": [
          1,
          1
         ],
         "visible": false
        },
        {
         "marker": {
          "color": "cadetblue",
          "opacity": 0.9
         },
         "opacity": 0.9,
         "showlegend": false,
         "text": [
          5,
          11,
          20,
          24,
          15,
          5,
          120,
          30,
          12,
          10
         ],
         "textposition": "outside",
         "type": "bar",
         "visible": true,
         "x": [
          "Candidates who have dropped out",
          "DNC members",
          "Former party leaders",
          "Governors",
          "Mayors",
          "Past nominees",
          "Representatives",
          "Senators",
          "State legislative leaders",
          "Statewide officeholders"
         ],
         "xaxis": "x",
         "y": [
          5,
          11,
          20,
          24,
          15,
          5,
          120,
          30,
          12,
          10
         ],
         "yaxis": "y"
        },
        {
         "marker": {
          "color": "indianred",
          "opacity": 0.9
         },
         "opacity": 0.9,
         "showlegend": false,
         "text": [
          11,
          2,
          5,
          4,
          15,
          5,
          24,
          4,
          15,
          4,
          5,
          2,
          120,
          2,
          30,
          4
         ],
         "textposition": "outside",
         "type": "bar",
         "visible": true,
         "x": [
          "DNC member",
          "Democratic caucus chairman",
          "Former 2020 candidate",
          "attorney general",
          "former DNC chair",
          "former U.S. Senate majority leader",
          "governor",
          "lieutenant governor",
          "mayor",
          "minority leader",
          "past presidential nominee",
          "president",
          "representative",
          "secretary of state",
          "senator",
          "speaker"
         ],
         "xaxis": "x2",
         "y": [
          11,
          2,
          5,
          4,
          15,
          5,
          24,
          4,
          15,
          4,
          5,
          2,
          120,
          2,
          30,
          4
         ],
         "yaxis": "y2"
        },
        {
         "domain": {
          "x": [
           0.55,
           1
          ],
          "y": [
           0.3888888888888889,
           0.6111111111111112
          ]
         },
         "hole": 0.4,
         "hoverinfo": "label+percent+name",
         "labels": [
          "D"
         ],
         "marker": {
          "colors": [
           "rgb(0, 128, 128)",
           "rgb(112, 164, 148)",
           "rgb(180, 200, 168)",
           "rgb(246, 237, 189)",
           "rgb(237, 187, 138)",
           "rgb(222, 138, 90)",
           "rgb(202, 86, 44)"
          ]
         },
         "showlegend": false,
         "text": [
          "D"
         ],
         "textinfo": "percent+label",
         "textposition": "inside",
         "type": "pie",
         "values": [
          252
         ],
         "visible": true
        },
        {
         "marker": {
          "color": "goldenrod",
          "opacity": 0.9
         },
         "opacity": 0.9,
         "showlegend": false,
         "text": [
          7,
          3,
          2,
          35,
          11,
          22,
          1
         ],
         "textposition": "outside",
         "type": "bar",
         "visible": true,
         "x": [
          "4president",
          "apnews",
          "cnn",
          "other",
          "politico",
          "twitter",
          "usatoday"
         ],
         "xaxis": "x3",
         "y": [
          7,
          3,
          2,
          35,
          11,
          22,
          1
         ],
         "yaxis": "y3"
        },
        {
         "domain": {
          "x": [
           0.55,
           1
          ],
          "y": [
           0,
           0.22222222222222224
          ]
         },
         "hole": 0.4,
         "hoverinfo": "label+percent+name",
         "labels": [
          "AL",
          "AR",
          "CA",
          "CO",
          "CT",
          "DC",
          "DE",
          "FL",
          "GA",
          "IA",
          "IL",
          "LA",
          "MA",
          "MI",
          "MO",
          "MS",
          "NC",
          "NH",
          "NJ",
          "NV",
          "NY",
          "OH",
          "OR",
          "PA",
          "PR",
          "RI",
          "SD",
          "TN",
          "TX",
          "VA"
         ],
         "marker": {
          "colors": [
           "rgb(0, 128, 128)",
           "rgb(112, 164, 148)",
           "rgb(180, 200, 168)",
           "rgb(246, 237, 189)",
           "rgb(237, 187, 138)",
           "rgb(222, 138, 90)",
           "rgb(202, 86, 44)"
          ]
         },
         "showlegend": false,
         "text": [
          "Alabama",
          "Arkansas",
          "California",
          "Colorado",
          "Connecticut",
          "District of Columbia",
          "Delaware",
          "Florida",
          "Georgia",
          "Iowa",
          "Illinois",
          "Louisiana",
          "Massachusetts",
          "Michigan",
          "Missouri",
          "Mississippi",
          "North Carolina",
          "New Hampshire",
          "New Jersey",
          "Nevada",
          "New York",
          "Ohio",
          "Oregon",
          "Pennsylvania",
          null,
          "Rhode Island",
          "South Dakota",
          "Tennessee",
          "Texas",
          "Virginia"
         ],
         "textinfo": "percent+label",
         "textposition": "inside",
         "type": "pie",
         "values": [
          2,
          1,
          12,
          1,
          3,
          2,
          5,
          5,
          2,
          4,
          2,
          1,
          4,
          2,
          1,
          1,
          2,
          3,
          2,
          1,
          3,
          1,
          1,
          7,
          1,
          2,
          1,
          1,
          5,
          3
         ],
         "visible": true
        },
        {
         "marker": {
          "color": "cadetblue",
          "opacity": 0.9
         },
         "opacity": 0.9,
         "showlegend": false,
         "text": [
          1,
          3
         ],
         "textposition": "outside",
         "type": "bar",
         "visible": false,
         "x": [
          "DNC members",
          "Mayors"
         ],
         "xaxis": "x",
         "y": [
          1,
          3
         ],
         "yaxis": "y"
        },
        {
         "marker": {
          "color": "indianred",
          "opacity": 0.9
         },
         "opacity": 0.9,
         "showlegend": false,
         "text": [
          1,
          3
         ],
         "textposition": "outside",
         "type": "bar",
         "visible": false,
         "x": [
          "DNC member",
          "mayor"
         ],
         "xaxis": "x2",
         "y": [
          1,
          3
         ],
         "yaxis": "y2"
        },
        {
         "domain": {
          "x": [
           0.55,
           1
          ],
          "y": [
           0.3888888888888889,
           0.6111111111111112
          ]
         },
         "hole": 0.4,
         "hoverinfo": "label+percent+name",
         "labels": [
          "D"
         ],
         "marker": {
          "colors": [
           "rgb(0, 128, 128)",
           "rgb(112, 164, 148)",
           "rgb(180, 200, 168)",
           "rgb(246, 237, 189)",
           "rgb(237, 187, 138)",
           "rgb(222, 138, 90)",
           "rgb(202, 86, 44)"
          ]
         },
         "showlegend": false,
         "text": [
          "D"
         ],
         "textinfo": "percent+label",
         "textposition": "inside",
         "type": "pie",
         "values": [
          1
         ],
         "visible": false
        },
        {
         "marker": {
          "color": "goldenrod",
          "opacity": 0.9
         },
         "opacity": 0.9,
         "showlegend": false,
         "text": [
          1,
          1
         ],
         "textposition": "outside",
         "type": "bar",
         "visible": false,
         "x": [
          "4president",
          "other"
         ],
         "xaxis": "x3",
         "y": [
          1,
          1
         ],
         "yaxis": "y3"
        },
        {
         "domain": {
          "x": [
           0.55,
           1
          ],
          "y": [
           0,
           0.22222222222222224
          ]
         },
         "hole": 0.4,
         "hoverinfo": "label+percent+name",
         "labels": [
          "TX"
         ],
         "marker": {
          "colors": [
           "rgb(0, 128, 128)",
           "rgb(112, 164, 148)",
           "rgb(180, 200, 168)",
           "rgb(246, 237, 189)",
           "rgb(237, 187, 138)",
           "rgb(222, 138, 90)",
           "rgb(202, 86, 44)"
          ]
         },
         "showlegend": false,
         "text": [
          "Texas"
         ],
         "textinfo": "percent+label",
         "textposition": "inside",
         "type": "pie",
         "values": [
          2
         ],
         "visible": false
        },
        {
         "marker": {
          "color": "cadetblue",
          "opacity": 0.9
         },
         "opacity": 0.9,
         "showlegend": false,
         "text": [
          2,
          8,
          3,
          39,
          6,
          8
         ],
         "textposition": "outside",
         "type": "bar",
         "visible": false,
         "x": [
          "DNC members",
          "Governors",
          "Mayors",
          "Representatives",
          "State legislative leaders",
          "Statewide officeholders"
         ],
         "xaxis": "x",
         "y": [
          2,
          8,
          3,
          39,
          6,
          8
         ],
         "yaxis": "y"
        },
        {
         "marker": {
          "color": "indianred",
          "opacity": 0.9
         },
         "opacity": 0.9,
         "showlegend": false,
         "text": [
          2,
          2,
          3,
          8,
          2,
          2,
          3,
          2,
          2,
          36,
          2,
          2
         ],
         "textposition": "outside",
         "type": "bar",
         "visible": false,
         "x": [
          "DNC member",
          "attorney general",
          "delegate",
          "governor",
          "insurance commissioner",
          "lieutenant governor",
          "mayor",
          "minority leader",
          "president pro tem",
          "representative",
          "speaker",
          "superintendent of public instruction"
         ],
         "xaxis": "x2",
         "y": [
          2,
          2,
          3,
          8,
          2,
          2,
          3,
          2,
          2,
          36,
          2,
          2
         ],
         "yaxis": "y2"
        },
        {
         "domain": {
          "x": [
           0.55,
           1
          ],
          "y": [
           0.3888888888888889,
           0.6111111111111112
          ]
         },
         "hole": 0.4,
         "hoverinfo": "label+percent+name",
         "labels": [
          "D"
         ],
         "marker": {
          "colors": [
           "rgb(0, 128, 128)",
           "rgb(112, 164, 148)",
           "rgb(180, 200, 168)",
           "rgb(246, 237, 189)",
           "rgb(237, 187, 138)",
           "rgb(222, 138, 90)",
           "rgb(202, 86, 44)"
          ]
         },
         "showlegend": false,
         "text": [
          "D"
         ],
         "textinfo": "percent+label",
         "textposition": "inside",
         "type": "pie",
         "values": [
          66
         ],
         "visible": false
        },
        {
         "marker": {
          "color": "goldenrod",
          "opacity": 0.9
         },
         "opacity": 0.9,
         "showlegend": false,
         "text": [
          1,
          2,
          9,
          8,
          3,
          1
         ],
         "textposition": "outside",
         "type": "bar",
         "visible": false,
         "x": [
          "4president",
          "cnn",
          "other",
          "politico",
          "twitter",
          "washingtonpost"
         ],
         "xaxis": "x3",
         "y": [
          1,
          2,
          9,
          8,
          3,
          1
         ],
         "yaxis": "y3"
        },
        {
         "domain": {
          "x": [
           0.55,
           1
          ],
          "y": [
           0,
           0.22222222222222224
          ]
         },
         "hole": 0.4,
         "hoverinfo": "label+percent+name",
         "labels": [
          "AZ",
          "CA",
          "CT",
          "DC",
          "GA",
          "MI",
          "MO",
          "OH",
          "TX",
          "VI"
         ],
         "marker": {
          "colors": [
           "rgb(0, 128, 128)",
           "rgb(112, 164, 148)",
           "rgb(180, 200, 168)",
           "rgb(246, 237, 189)",
           "rgb(237, 187, 138)",
           "rgb(222, 138, 90)",
           "rgb(202, 86, 44)"
          ]
         },
         "showlegend": false,
         "text": [
          "Arizona",
          "California",
          "Connecticut",
          "District of Columbia",
          "Georgia",
          "Michigan",
          "Missouri",
          "Ohio",
          "Texas",
          null
         ],
         "textinfo": "percent+label",
         "textposition": "inside",
         "type": "pie",
         "values": [
          1,
          14,
          1,
          1,
          1,
          1,
          1,
          1,
          2,
          1
         ],
         "visible": false
        },
        {
         "marker": {
          "color": "cadetblue",
          "opacity": 0.9
         },
         "opacity": 0.9,
         "showlegend": false,
         "text": [
          11,
          3,
          21,
          6,
          4,
          10
         ],
         "textposition": "outside",
         "type": "bar",
         "visible": false,
         "x": [
          "DNC members",
          "Mayors",
          "Representatives",
          "Senators",
          "State legislative leaders",
          "Statewide officeholders"
         ],
         "xaxis": "x",
         "y": [
          11,
          3,
          21,
          6,
          4,
          10
         ],
         "yaxis": "y"
        },
        {
         "marker": {
          "color": "indianred",
          "opacity": 0.9
         },
         "opacity": 0.9,
         "showlegend": false,
         "text": [
          11,
          4,
          2,
          3,
          2,
          2,
          21,
          6,
          2,
          2
         ],
         "textposition": "outside",
         "type": "bar",
         "visible": false,
         "x": [
          "DNC member",
          "attorney general",
          "lieutenant governor",
          "mayor",
          "president",
          "president pro tem",
          "representative",
          "senator",
          "state auditor",
          "state treasurer"
         ],
         "xaxis": "x2",
         "y": [
          11,
          4,
          2,
          3,
          2,
          2,
          21,
          6,
          2,
          2
         ],
         "yaxis": "y2"
        },
        {
         "domain": {
          "x": [
           0.55,
           1
          ],
          "y": [
           0.3888888888888889,
           0.6111111111111112
          ]
         },
         "hole": 0.4,
         "hoverinfo": "label+percent+name",
         "labels": [
          "D"
         ],
         "marker": {
          "colors": [
           "rgb(0, 128, 128)",
           "rgb(112, 164, 148)",
           "rgb(180, 200, 168)",
           "rgb(246, 237, 189)",
           "rgb(237, 187, 138)",
           "rgb(222, 138, 90)",
           "rgb(202, 86, 44)"
          ]
         },
         "showlegend": false,
         "text": [
          "D"
         ],
         "textinfo": "percent+label",
         "textposition": "inside",
         "type": "pie",
         "values": [
          55
         ],
         "visible": false
        },
        {
         "marker": {
          "color": "goldenrod",
          "opacity": 0.9
         },
         "opacity": 0.9,
         "showlegend": false,
         "text": [
          2,
          1,
          8,
          14,
          1,
          1
         ],
         "textposition": "outside",
         "type": "bar",
         "visible": false,
         "x": [
          "apnews",
          "fivethirtyeight",
          "other",
          "twitter",
          "washingtonpost",
          "youtube"
         ],
         "xaxis": "x3",
         "y": [
          2,
          1,
          8,
          14,
          1,
          1
         ],
         "yaxis": "y3"
        },
        {
         "domain": {
          "x": [
           0.55,
           1
          ],
          "y": [
           0,
           0.22222222222222224
          ]
         },
         "hole": 0.4,
         "hoverinfo": "label+percent+name",
         "labels": [
          "CA",
          "CO",
          "DC",
          "GA",
          "ME",
          "MI",
          "MN",
          "MO",
          "NY",
          "OH",
          "PR",
          "VT",
          "WA",
          "WI"
         ],
         "marker": {
          "colors": [
           "rgb(0, 128, 128)",
           "rgb(112, 164, 148)",
           "rgb(180, 200, 168)",
           "rgb(246, 237, 189)",
           "rgb(237, 187, 138)",
           "rgb(222, 138, 90)",
           "rgb(202, 86, 44)"
          ]
         },
         "showlegend": false,
         "text": [
          "California",
          "Colorado",
          "District of Columbia",
          "Georgia",
          "Maine",
          "Michigan",
          "Minnesota",
          "Missouri",
          "New York",
          "Ohio",
          null,
          "Vermont",
          "Washington",
          "Wisconsin"
         ],
         "textinfo": "percent+label",
         "textposition": "inside",
         "type": "pie",
         "values": [
          2,
          2,
          2,
          1,
          1,
          2,
          2,
          2,
          1,
          1,
          1,
          8,
          1,
          1
         ],
         "visible": false
        },
        {
         "marker": {
          "color": "cadetblue",
          "opacity": 0.9
         },
         "opacity": 0.9,
         "showlegend": false,
         "text": [
          7,
          8,
          27,
          6,
          4,
          2
         ],
         "textposition": "outside",
         "type": "bar",
         "visible": false,
         "x": [
          "DNC members",
          "Governors",
          "Representatives",
          "Senators",
          "State legislative leaders",
          "Statewide officeholders"
         ],
         "xaxis": "x",
         "y": [
          7,
          8,
          27,
          6,
          4,
          2
         ],
         "yaxis": "y"
        },
        {
         "marker": {
          "color": "indianred",
          "opacity": 0.9
         },
         "opacity": 0.9,
         "showlegend": false,
         "text": [
          7,
          8,
          2,
          2,
          27,
          6,
          2
         ],
         "textposition": "outside",
         "type": "bar",
         "visible": false,
         "x": [
          "DNC member",
          "governor",
          "lieutenant governor",
          "president",
          "representative",
          "senator",
          "speaker"
         ],
         "xaxis": "x2",
         "y": [
          7,
          8,
          2,
          2,
          27,
          6,
          2
         ],
         "yaxis": "y2"
        },
        {
         "domain": {
          "x": [
           0.55,
           1
          ],
          "y": [
           0.3888888888888889,
           0.6111111111111112
          ]
         },
         "hole": 0.4,
         "hoverinfo": "label+percent+name",
         "labels": [
          "D",
          "R"
         ],
         "marker": {
          "colors": [
           "rgb(0, 128, 128)",
           "rgb(112, 164, 148)",
           "rgb(180, 200, 168)",
           "rgb(246, 237, 189)",
           "rgb(237, 187, 138)",
           "rgb(222, 138, 90)",
           "rgb(202, 86, 44)"
          ]
         },
         "showlegend": false,
         "text": [
          "D",
          "R"
         ],
         "textinfo": "percent+label",
         "textposition": "inside",
         "type": "pie",
         "values": [
          51,
          3
         ],
         "visible": false
        },
        {
         "marker": {
          "color": "goldenrod",
          "opacity": 0.9
         },
         "opacity": 0.9,
         "showlegend": false,
         "text": [
          19,
          2
         ],
         "textposition": "outside",
         "type": "bar",
         "visible": false,
         "x": [
          "other",
          "twitter"
         ],
         "xaxis": "x3",
         "y": [
          19,
          2
         ],
         "yaxis": "y3"
        },
        {
         "domain": {
          "x": [
           0.55,
           1
          ],
          "y": [
           0,
           0.22222222222222224
          ]
         },
         "hole": 0.4,
         "hoverinfo": "label+percent+name",
         "labels": [
          "FL",
          "NJ",
          "SC"
         ],
         "marker": {
          "colors": [
           "rgb(0, 128, 128)",
           "rgb(112, 164, 148)",
           "rgb(180, 200, 168)",
           "rgb(246, 237, 189)",
           "rgb(237, 187, 138)",
           "rgb(222, 138, 90)",
           "rgb(202, 86, 44)"
          ]
         },
         "showlegend": false,
         "text": [
          "Florida",
          "New Jersey",
          "South Carolina"
         ],
         "textinfo": "percent+label",
         "textposition": "inside",
         "type": "pie",
         "values": [
          1,
          19,
          1
         ],
         "visible": false
        },
        {
         "marker": {
          "color": "cadetblue",
          "opacity": 0.9
         },
         "opacity": 0.9,
         "showlegend": false,
         "text": [
          8,
          6,
          10,
          15,
          6,
          4,
          4
         ],
         "textposition": "outside",
         "type": "bar",
         "visible": false,
         "x": [
          "Governors",
          "Mayors",
          "Past presidents and vice presidents",
          "Representatives",
          "Senators",
          "State legislative leaders",
          "Statewide officeholders"
         ],
         "xaxis": "x",
         "y": [
          8,
          6,
          10,
          15,
          6,
          4,
          4
         ],
         "yaxis": "y"
        },
        {
         "marker": {
          "color": "indianred",
          "opacity": 0.9
         },
         "opacity": 0.9,
         "showlegend": false,
         "text": [
          8,
          2,
          6,
          2,
          10,
          15,
          6,
          2,
          2
         ],
         "textposition": "outside",
         "type": "bar",
         "visible": false,
         "x": [
          "governor",
          "lieutenant governor",
          "mayor",
          "minority leader",
          "past vice president",
          "representative",
          "senator",
          "speaker",
          "state auditor"
         ],
         "xaxis": "x2",
         "y": [
          8,
          2,
          6,
          2,
          10,
          15,
          6,
          2,
          2
         ],
         "yaxis": "y2"
        },
        {
         "domain": {
          "x": [
           0.55,
           1
          ],
          "y": [
           0.3888888888888889,
           0.6111111111111112
          ]
         },
         "hole": 0.4,
         "hoverinfo": "label+percent+name",
         "labels": [
          "D"
         ],
         "marker": {
          "colors": [
           "rgb(0, 128, 128)",
           "rgb(112, 164, 148)",
           "rgb(180, 200, 168)",
           "rgb(246, 237, 189)",
           "rgb(237, 187, 138)",
           "rgb(222, 138, 90)",
           "rgb(202, 86, 44)"
          ]
         },
         "showlegend": false,
         "text": [
          "D"
         ],
         "textinfo": "percent+label",
         "textposition": "inside",
         "type": "pie",
         "values": [
          53
         ],
         "visible": false
        },
        {
         "marker": {
          "color": "goldenrod",
          "opacity": 0.9
         },
         "opacity": 0.9,
         "showlegend": false,
         "text": [
          2,
          5,
          5,
          2
         ],
         "textposition": "outside",
         "type": "bar",
         "visible": false,
         "x": [
          "4president",
          "other",
          "twitter",
          "youtube"
         ],
         "xaxis": "x3",
         "y": [
          2,
          5,
          5,
          2
         ],
         "yaxis": "y3"
        },
        {
         "domain": {
          "x": [
           0.55,
           1
          ],
          "y": [
           0,
           0.22222222222222224
          ]
         },
         "hole": 0.4,
         "hoverinfo": "label+percent+name",
         "labels": [
          "CA",
          "MN"
         ],
         "marker": {
          "colors": [
           "rgb(0, 128, 128)",
           "rgb(112, 164, 148)",
           "rgb(180, 200, 168)",
           "rgb(246, 237, 189)",
           "rgb(237, 187, 138)",
           "rgb(222, 138, 90)",
           "rgb(202, 86, 44)"
          ]
         },
         "showlegend": false,
         "text": [
          "California",
          "Minnesota"
         ],
         "textinfo": "percent+label",
         "textposition": "inside",
         "type": "pie",
         "values": [
          1,
          13
         ],
         "visible": false
        },
        {
         "marker": {
          "color": "cadetblue",
          "opacity": 0.9
         },
         "opacity": 0.9,
         "showlegend": false,
         "text": [
          5,
          5,
          5,
          3,
          5,
          36,
          6,
          8,
          14
         ],
         "textposition": "outside",
         "type": "bar",
         "visible": false,
         "x": [
          "Candidates who have dropped out",
          "DNC members",
          "Former party leaders",
          "Mayors",
          "Past nominees",
          "Representatives",
          "Senators",
          "State legislative leaders",
          "Statewide officeholders"
         ],
         "xaxis": "x",
         "y": [
          5,
          5,
          5,
          3,
          5,
          36,
          6,
          8,
          14
         ],
         "yaxis": "y"
        },
        {
         "marker": {
          "color": "indianred",
          "opacity": 0.9
         },
         "opacity": 0.9,
         "showlegend": false,
         "text": [
          5,
          5,
          2,
          2,
          5,
          3,
          2,
          5,
          2,
          36,
          2,
          6,
          2,
          2,
          2,
          2,
          4
         ],
         "textposition": "outside",
         "type": "bar",
         "visible": false,
         "x": [
          "DNC member",
          "Former 2020 candidate",
          "attorney general",
          "commissioner of labor and industries",
          "former U.S. House Democratic whip",
          "mayor",
          "minority leader",
          "past presidential nominee",
          "president",
          "representative",
          "secretary of state",
          "senator",
          "speaker",
          "speaker pro tem",
          "state comptroller",
          "state controller",
          "state treasurer"
         ],
         "xaxis": "x2",
         "y": [
          5,
          5,
          2,
          2,
          5,
          3,
          2,
          5,
          2,
          36,
          2,
          6,
          2,
          2,
          2,
          2,
          4
         ],
         "yaxis": "y2"
        },
        {
         "domain": {
          "x": [
           0.55,
           1
          ],
          "y": [
           0.3888888888888889,
           0.6111111111111112
          ]
         },
         "hole": 0.4,
         "hoverinfo": "label+percent+name",
         "labels": [
          "D"
         ],
         "marker": {
          "colors": [
           "rgb(0, 128, 128)",
           "rgb(112, 164, 148)",
           "rgb(180, 200, 168)",
           "rgb(246, 237, 189)",
           "rgb(237, 187, 138)",
           "rgb(222, 138, 90)",
           "rgb(202, 86, 44)"
          ]
         },
         "showlegend": false,
         "text": [
          "D"
         ],
         "textinfo": "percent+label",
         "textposition": "inside",
         "type": "pie",
         "values": [
          87
         ],
         "visible": false
        },
        {
         "marker": {
          "color": "goldenrod",
          "opacity": 0.9
         },
         "opacity": 0.9,
         "showlegend": false,
         "text": [
          1,
          1,
          16,
          15
         ],
         "textposition": "outside",
         "type": "bar",
         "visible": false,
         "x": [
          "apnews",
          "fivethirtyeight",
          "other",
          "twitter"
         ],
         "xaxis": "x3",
         "y": [
          1,
          1,
          16,
          15
         ],
         "yaxis": "y3"
        },
        {
         "domain": {
          "x": [
           0.55,
           1
          ],
          "y": [
           0,
           0.22222222222222224
          ]
         },
         "hole": 0.4,
         "hoverinfo": "label+percent+name",
         "labels": [
          "AZ",
          "CA",
          "CT",
          "IA",
          "IL",
          "MA",
          "MD",
          "MI",
          "NH",
          "NM",
          "NV",
          "OR",
          "PA",
          "TX"
         ],
         "marker": {
          "colors": [
           "rgb(0, 128, 128)",
           "rgb(112, 164, 148)",
           "rgb(180, 200, 168)",
           "rgb(246, 237, 189)",
           "rgb(237, 187, 138)",
           "rgb(222, 138, 90)",
           "rgb(202, 86, 44)"
          ]
         },
         "showlegend": false,
         "text": [
          "Arizona",
          "California",
          "Connecticut",
          "Iowa",
          "Illinois",
          "Massachusetts",
          "Maryland",
          "Michigan",
          "New Hampshire",
          "New Mexico",
          "Nevada",
          "Oregon",
          "Pennsylvania",
          "Texas"
         ],
         "textinfo": "percent+label",
         "textposition": "inside",
         "type": "pie",
         "values": [
          1,
          1,
          2,
          2,
          2,
          10,
          1,
          2,
          1,
          1,
          3,
          2,
          1,
          4
         ],
         "visible": false
        },
        {
         "marker": {
          "color": "cadetblue",
          "opacity": 0.9
         },
         "opacity": 0.9,
         "showlegend": false,
         "text": [
          9,
          2
         ],
         "textposition": "outside",
         "type": "bar",
         "visible": false,
         "x": [
          "Representatives",
          "Statewide officeholders"
         ],
         "xaxis": "x",
         "y": [
          9,
          2
         ],
         "yaxis": "y"
        },
        {
         "marker": {
          "color": "indianred",
          "opacity": 0.9
         },
         "opacity": 0.9,
         "showlegend": false,
         "text": [
          2,
          9
         ],
         "textposition": "outside",
         "type": "bar",
         "visible": false,
         "x": [
          "attorney general",
          "representative"
         ],
         "xaxis": "x2",
         "y": [
          2,
          9
         ],
         "yaxis": "y2"
        },
        {
         "domain": {
          "x": [
           0.55,
           1
          ],
          "y": [
           0.3888888888888889,
           0.6111111111111112
          ]
         },
         "hole": 0.4,
         "hoverinfo": "label+percent+name",
         "labels": [
          "D"
         ],
         "marker": {
          "colors": [
           "rgb(0, 128, 128)",
           "rgb(112, 164, 148)",
           "rgb(180, 200, 168)",
           "rgb(246, 237, 189)",
           "rgb(237, 187, 138)",
           "rgb(222, 138, 90)",
           "rgb(202, 86, 44)"
          ]
         },
         "showlegend": false,
         "text": [
          "D"
         ],
         "textinfo": "percent+label",
         "textposition": "inside",
         "type": "pie",
         "values": [
          11
         ],
         "visible": false
        },
        {
         "marker": {
          "color": "goldenrod",
          "opacity": 0.9
         },
         "opacity": 0.9,
         "showlegend": false,
         "text": [
          2,
          2
         ],
         "textposition": "outside",
         "type": "bar",
         "visible": false,
         "x": [
          "other",
          "twitter"
         ],
         "xaxis": "x3",
         "y": [
          2,
          2
         ],
         "yaxis": "y3"
        },
        {
         "domain": {
          "x": [
           0.55,
           1
          ],
          "y": [
           0,
           0.22222222222222224
          ]
         },
         "hole": 0.4,
         "hoverinfo": "label+percent+name",
         "labels": [
          "WA"
         ],
         "marker": {
          "colors": [
           "rgb(0, 128, 128)",
           "rgb(112, 164, 148)",
           "rgb(180, 200, 168)",
           "rgb(246, 237, 189)",
           "rgb(237, 187, 138)",
           "rgb(222, 138, 90)",
           "rgb(202, 86, 44)"
          ]
         },
         "showlegend": false,
         "text": [
          "Washington"
         ],
         "textinfo": "percent+label",
         "textposition": "inside",
         "type": "pie",
         "values": [
          4
         ],
         "visible": false
        },
        {
         "marker": {
          "color": "cadetblue",
          "opacity": 0.9
         },
         "opacity": 0.9,
         "showlegend": false,
         "text": [
          3
         ],
         "textposition": "outside",
         "type": "bar",
         "visible": false,
         "x": [
          "Representatives"
         ],
         "xaxis": "x",
         "y": [
          3
         ],
         "yaxis": "y"
        },
        {
         "marker": {
          "color": "indianred",
          "opacity": 0.9
         },
         "opacity": 0.9,
         "showlegend": false,
         "text": [
          3
         ],
         "textposition": "outside",
         "type": "bar",
         "visible": false,
         "x": [
          "representative"
         ],
         "xaxis": "x2",
         "y": [
          3
         ],
         "yaxis": "y2"
        },
        {
         "domain": {
          "x": [
           0.55,
           1
          ],
          "y": [
           0.3888888888888889,
           0.6111111111111112
          ]
         },
         "hole": 0.4,
         "hoverinfo": "label+percent+name",
         "labels": [
          "D"
         ],
         "marker": {
          "colors": [
           "rgb(0, 128, 128)",
           "rgb(112, 164, 148)",
           "rgb(180, 200, 168)",
           "rgb(246, 237, 189)",
           "rgb(237, 187, 138)",
           "rgb(222, 138, 90)",
           "rgb(202, 86, 44)"
          ]
         },
         "showlegend": false,
         "text": [
          "D"
         ],
         "textinfo": "percent+label",
         "textposition": "inside",
         "type": "pie",
         "values": [
          3
         ],
         "visible": false
        },
        {
         "marker": {
          "color": "goldenrod",
          "opacity": 0.9
         },
         "opacity": 0.9,
         "showlegend": false,
         "text": [
          1
         ],
         "textposition": "outside",
         "type": "bar",
         "visible": false,
         "x": [
          "other"
         ],
         "xaxis": "x3",
         "y": [
          1
         ],
         "yaxis": "y3"
        },
        {
         "domain": {
          "x": [
           0.55,
           1
          ],
          "y": [
           0,
           0.22222222222222224
          ]
         },
         "hole": 0.4,
         "hoverinfo": "label+percent+name",
         "labels": [
          "TX"
         ],
         "marker": {
          "colors": [
           "rgb(0, 128, 128)",
           "rgb(112, 164, 148)",
           "rgb(180, 200, 168)",
           "rgb(246, 237, 189)",
           "rgb(237, 187, 138)",
           "rgb(222, 138, 90)",
           "rgb(202, 86, 44)"
          ]
         },
         "showlegend": false,
         "text": [
          "Texas"
         ],
         "textinfo": "percent+label",
         "textposition": "inside",
         "type": "pie",
         "values": [
          1
         ],
         "visible": false
        },
        {
         "marker": {
          "color": "cadetblue",
          "opacity": 0.9
         },
         "opacity": 0.9,
         "showlegend": false,
         "text": [
          3
         ],
         "textposition": "outside",
         "type": "bar",
         "visible": false,
         "x": [
          "Representatives"
         ],
         "xaxis": "x",
         "y": [
          3
         ],
         "yaxis": "y"
        },
        {
         "marker": {
          "color": "indianred",
          "opacity": 0.9
         },
         "opacity": 0.9,
         "showlegend": false,
         "text": [
          3
         ],
         "textposition": "outside",
         "type": "bar",
         "visible": false,
         "x": [
          "representative"
         ],
         "xaxis": "x2",
         "y": [
          3
         ],
         "yaxis": "y2"
        },
        {
         "domain": {
          "x": [
           0.55,
           1
          ],
          "y": [
           0.3888888888888889,
           0.6111111111111112
          ]
         },
         "hole": 0.4,
         "hoverinfo": "label+percent+name",
         "labels": [
          "D"
         ],
         "marker": {
          "colors": [
           "rgb(0, 128, 128)",
           "rgb(112, 164, 148)",
           "rgb(180, 200, 168)",
           "rgb(246, 237, 189)",
           "rgb(237, 187, 138)",
           "rgb(222, 138, 90)",
           "rgb(202, 86, 44)"
          ]
         },
         "showlegend": false,
         "text": [
          "D"
         ],
         "textinfo": "percent+label",
         "textposition": "inside",
         "type": "pie",
         "values": [
          3
         ],
         "visible": false
        },
        {
         "marker": {
          "color": "goldenrod",
          "opacity": 0.9
         },
         "opacity": 0.9,
         "showlegend": false,
         "text": [
          1
         ],
         "textposition": "outside",
         "type": "bar",
         "visible": false,
         "x": [
          "twitter"
         ],
         "xaxis": "x3",
         "y": [
          1
         ],
         "yaxis": "y3"
        },
        {
         "domain": {
          "x": [
           0.55,
           1
          ],
          "y": [
           0,
           0.22222222222222224
          ]
         },
         "hole": 0.4,
         "hoverinfo": "label+percent+name",
         "labels": [
          "NY"
         ],
         "marker": {
          "colors": [
           "rgb(0, 128, 128)",
           "rgb(112, 164, 148)",
           "rgb(180, 200, 168)",
           "rgb(246, 237, 189)",
           "rgb(237, 187, 138)",
           "rgb(222, 138, 90)",
           "rgb(202, 86, 44)"
          ]
         },
         "showlegend": false,
         "text": [
          "New York"
         ],
         "textinfo": "percent+label",
         "textposition": "inside",
         "type": "pie",
         "values": [
          1
         ],
         "visible": false
        },
        {
         "marker": {
          "color": "cadetblue",
          "opacity": 0.9
         },
         "opacity": 0.9,
         "showlegend": false,
         "text": [
          3,
          5,
          6,
          18,
          4
         ],
         "textposition": "outside",
         "type": "bar",
         "visible": false,
         "x": [
          "DNC members",
          "Former party leaders",
          "Mayors",
          "Representatives",
          "State legislative leaders"
         ],
         "xaxis": "x",
         "y": [
          3,
          5,
          6,
          18,
          4
         ],
         "yaxis": "y"
        },
        {
         "marker": {
          "color": "indianred",
          "opacity": 0.9
         },
         "opacity": 0.9,
         "showlegend": false,
         "text": [
          3,
          5,
          6,
          4,
          18
         ],
         "textposition": "outside",
         "type": "bar",
         "visible": false,
         "x": [
          "DNC member",
          "former DNC chair",
          "mayor",
          "minority leader",
          "representative"
         ],
         "xaxis": "x2",
         "y": [
          3,
          5,
          6,
          4,
          18
         ],
         "yaxis": "y2"
        },
        {
         "domain": {
          "x": [
           0.55,
           1
          ],
          "y": [
           0.3888888888888889,
           0.6111111111111112
          ]
         },
         "hole": 0.4,
         "hoverinfo": "label+percent+name",
         "labels": [
          "D"
         ],
         "marker": {
          "colors": [
           "rgb(0, 128, 128)",
           "rgb(112, 164, 148)",
           "rgb(180, 200, 168)",
           "rgb(246, 237, 189)",
           "rgb(237, 187, 138)",
           "rgb(222, 138, 90)",
           "rgb(202, 86, 44)"
          ]
         },
         "showlegend": false,
         "text": [
          "D"
         ],
         "textinfo": "percent+label",
         "textposition": "inside",
         "type": "pie",
         "values": [
          36
         ],
         "visible": false
        },
        {
         "marker": {
          "color": "goldenrod",
          "opacity": 0.9
         },
         "opacity": 0.9,
         "showlegend": false,
         "text": [
          1,
          8,
          1,
          2,
          2
         ],
         "textposition": "outside",
         "type": "bar",
         "visible": false,
         "x": [
          "cnn",
          "other",
          "twitter",
          "usatoday",
          "washingtonpost"
         ],
         "xaxis": "x3",
         "y": [
          1,
          8,
          1,
          2,
          2
         ],
         "yaxis": "y3"
        },
        {
         "domain": {
          "x": [
           0.55,
           1
          ],
          "y": [
           0,
           0.22222222222222224
          ]
         },
         "hole": 0.4,
         "hoverinfo": "label+percent+name",
         "labels": [
          "DC",
          "IA",
          "IN",
          "MA",
          "MD",
          "MI",
          "ND",
          "NH",
          "NY",
          "OH",
          "TN",
          "TX",
          "VA"
         ],
         "marker": {
          "colors": [
           "rgb(0, 128, 128)",
           "rgb(112, 164, 148)",
           "rgb(180, 200, 168)",
           "rgb(246, 237, 189)",
           "rgb(237, 187, 138)",
           "rgb(222, 138, 90)",
           "rgb(202, 86, 44)"
          ]
         },
         "showlegend": false,
         "text": [
          "District of Columbia",
          "Iowa",
          "Indiana",
          "Massachusetts",
          "Maryland",
          "Michigan",
          "North Dakota",
          "New Hampshire",
          "New York",
          "Ohio",
          "Tennessee",
          "Texas",
          "Virginia"
         ],
         "textinfo": "percent+label",
         "textposition": "inside",
         "type": "pie",
         "values": [
          1,
          1,
          1,
          1,
          1,
          1,
          1,
          1,
          1,
          2,
          1,
          1,
          1
         ],
         "visible": false
        },
        {
         "marker": {
          "color": "cadetblue",
          "opacity": 0.9
         },
         "opacity": 0.9,
         "showlegend": false,
         "text": [
          1,
          6
         ],
         "textposition": "outside",
         "type": "bar",
         "visible": false,
         "x": [
          "DNC members",
          "Senators"
         ],
         "xaxis": "x",
         "y": [
          1,
          6
         ],
         "yaxis": "y"
        },
        {
         "marker": {
          "color": "indianred",
          "opacity": 0.9
         },
         "opacity": 0.9,
         "showlegend": false,
         "text": [
          1,
          6
         ],
         "textposition": "outside",
         "type": "bar",
         "visible": false,
         "x": [
          "DNC member",
          "senator"
         ],
         "xaxis": "x2",
         "y": [
          1,
          6
         ],
         "yaxis": "y2"
        },
        {
         "domain": {
          "x": [
           0.55,
           1
          ],
          "y": [
           0.3888888888888889,
           0.6111111111111112
          ]
         },
         "hole": 0.4,
         "hoverinfo": "label+percent+name",
         "labels": [
          "D"
         ],
         "marker": {
          "colors": [
           "rgb(0, 128, 128)",
           "rgb(112, 164, 148)",
           "rgb(180, 200, 168)",
           "rgb(246, 237, 189)",
           "rgb(237, 187, 138)",
           "rgb(222, 138, 90)",
           "rgb(202, 86, 44)"
          ]
         },
         "showlegend": false,
         "text": [
          "D"
         ],
         "textinfo": "percent+label",
         "textposition": "inside",
         "type": "pie",
         "values": [
          7
         ],
         "visible": false
        },
        {
         "marker": {
          "color": "goldenrod",
          "opacity": 0.9
         },
         "opacity": 0.9,
         "showlegend": false,
         "text": [
          1,
          1
         ],
         "textposition": "outside",
         "type": "bar",
         "visible": false,
         "x": [
          "other",
          "politico"
         ],
         "xaxis": "x3",
         "y": [
          1,
          1
         ],
         "yaxis": "y3"
        },
        {
         "domain": {
          "x": [
           0.55,
           1
          ],
          "y": [
           0,
           0.22222222222222224
          ]
         },
         "hole": 0.4,
         "hoverinfo": "label+percent+name",
         "labels": [
          "IA",
          "MT"
         ],
         "marker": {
          "colors": [
           "rgb(0, 128, 128)",
           "rgb(112, 164, 148)",
           "rgb(180, 200, 168)",
           "rgb(246, 237, 189)",
           "rgb(237, 187, 138)",
           "rgb(222, 138, 90)",
           "rgb(202, 86, 44)"
          ]
         },
         "showlegend": false,
         "text": [
          "Iowa",
          "Montana"
         ],
         "textinfo": "percent+label",
         "textposition": "inside",
         "type": "pie",
         "values": [
          1,
          1
         ],
         "visible": false
        },
        {
         "marker": {
          "color": "cadetblue",
          "opacity": 0.9
         },
         "opacity": 0.9,
         "showlegend": false,
         "text": [
          5,
          5,
          3,
          2
         ],
         "textposition": "outside",
         "type": "bar",
         "visible": false,
         "x": [
          "Candidates who have dropped out",
          "Former party leaders",
          "Mayors",
          "Statewide officeholders"
         ],
         "xaxis": "x",
         "y": [
          5,
          5,
          3,
          2
         ],
         "yaxis": "y"
        },
        {
         "marker": {
          "color": "indianred",
          "opacity": 0.9
         },
         "opacity": 0.9,
         "showlegend": false,
         "text": [
          5,
          2,
          5,
          3
         ],
         "textposition": "outside",
         "type": "bar",
         "visible": false,
         "x": [
          "Former 2020 candidate",
          "attorney general",
          "former DNC chair",
          "mayor"
         ],
         "xaxis": "x2",
         "y": [
          5,
          2,
          5,
          3
         ],
         "yaxis": "y2"
        },
        {
         "domain": {
          "x": [
           0.55,
           1
          ],
          "y": [
           0.3888888888888889,
           0.6111111111111112
          ]
         },
         "hole": 0.4,
         "hoverinfo": "label+percent+name",
         "labels": [
          "D"
         ],
         "marker": {
          "colors": [
           "rgb(0, 128, 128)",
           "rgb(112, 164, 148)",
           "rgb(180, 200, 168)",
           "rgb(246, 237, 189)",
           "rgb(237, 187, 138)",
           "rgb(222, 138, 90)",
           "rgb(202, 86, 44)"
          ]
         },
         "showlegend": false,
         "text": [
          "D"
         ],
         "textinfo": "percent+label",
         "textposition": "inside",
         "type": "pie",
         "values": [
          15
         ],
         "visible": false
        },
        {
         "marker": {
          "color": "goldenrod",
          "opacity": 0.9
         },
         "opacity": 0.9,
         "showlegend": false,
         "text": [
          1,
          3
         ],
         "textposition": "outside",
         "type": "bar",
         "visible": false,
         "x": [
          "apnews",
          "other"
         ],
         "xaxis": "x3",
         "y": [
          1,
          3
         ],
         "yaxis": "y3"
        },
        {
         "domain": {
          "x": [
           0.55,
           1
          ],
          "y": [
           0,
           0.22222222222222224
          ]
         },
         "hole": 0.4,
         "hoverinfo": "label+percent+name",
         "labels": [
          "CO"
         ],
         "marker": {
          "colors": [
           "rgb(0, 128, 128)",
           "rgb(112, 164, 148)",
           "rgb(180, 200, 168)",
           "rgb(246, 237, 189)",
           "rgb(237, 187, 138)",
           "rgb(222, 138, 90)",
           "rgb(202, 86, 44)"
          ]
         },
         "showlegend": false,
         "text": [
          "Colorado"
         ],
         "textinfo": "percent+label",
         "textposition": "inside",
         "type": "pie",
         "values": [
          4
         ],
         "visible": false
        },
        {
         "marker": {
          "color": "cadetblue",
          "opacity": 0.9
         },
         "opacity": 0.9,
         "showlegend": false,
         "text": [
          4,
          8,
          18,
          18,
          2
         ],
         "textposition": "outside",
         "type": "bar",
         "visible": false,
         "x": [
          "DNC members",
          "Governors",
          "Mayors",
          "Representatives",
          "Statewide officeholders"
         ],
         "xaxis": "x",
         "y": [
          4,
          8,
          18,
          18,
          2
         ],
         "yaxis": "y"
        },
        {
         "marker": {
          "color": "indianred",
          "opacity": 0.9
         },
         "opacity": 0.9,
         "showlegend": false,
         "text": [
          4,
          26,
          18,
          2
         ],
         "textposition": "outside",
         "type": "bar",
         "visible": false,
         "x": [
          "DNC member",
          "mayor",
          "representative",
          "state treasurer"
         ],
         "xaxis": "x2",
         "y": [
          4,
          26,
          18,
          2
         ],
         "yaxis": "y2"
        },
        {
         "domain": {
          "x": [
           0.55,
           1
          ],
          "y": [
           0.3888888888888889,
           0.6111111111111112
          ]
         },
         "hole": 0.4,
         "hoverinfo": "label+percent+name",
         "labels": [
          "D"
         ],
         "marker": {
          "colors": [
           "rgb(0, 128, 128)",
           "rgb(112, 164, 148)",
           "rgb(180, 200, 168)",
           "rgb(246, 237, 189)",
           "rgb(237, 187, 138)",
           "rgb(222, 138, 90)",
           "rgb(202, 86, 44)"
          ]
         },
         "showlegend": false,
         "text": [
          "D"
         ],
         "textinfo": "percent+label",
         "textposition": "inside",
         "type": "pie",
         "values": [
          47
         ],
         "visible": false
        },
        {
         "marker": {
          "color": "goldenrod",
          "opacity": 0.9
         },
         "opacity": 0.9,
         "showlegend": false,
         "text": [
          1,
          10,
          3,
          3,
          1
         ],
         "textposition": "outside",
         "type": "bar",
         "visible": false,
         "x": [
          "apnews",
          "other",
          "politico",
          "twitter",
          "washingtonpost"
         ],
         "xaxis": "x3",
         "y": [
          1,
          10,
          3,
          3,
          1
         ],
         "yaxis": "y3"
        },
        {
         "domain": {
          "x": [
           0.55,
           1
          ],
          "y": [
           0,
           0.22222222222222224
          ]
         },
         "hole": 0.4,
         "hoverinfo": "label+percent+name",
         "labels": [
          "CA",
          "DC",
          "FL",
          "IL",
          "KY",
          "NY",
          "PA",
          "TN",
          "TX",
          "UT",
          "WI"
         ],
         "marker": {
          "colors": [
           "rgb(0, 128, 128)",
           "rgb(112, 164, 148)",
           "rgb(180, 200, 168)",
           "rgb(246, 237, 189)",
           "rgb(237, 187, 138)",
           "rgb(222, 138, 90)",
           "rgb(202, 86, 44)"
          ]
         },
         "showlegend": false,
         "text": [
          "California",
          "District of Columbia",
          "Florida",
          "Illinois",
          "Kentucky",
          "New York",
          "Pennsylvania",
          "Tennessee",
          "Texas",
          "Utah",
          "Wisconsin"
         ],
         "textinfo": "percent+label",
         "textposition": "inside",
         "type": "pie",
         "values": [
          8,
          1,
          1,
          1,
          1,
          1,
          1,
          1,
          1,
          1,
          1
         ],
         "visible": false
        },
        {
         "marker": {
          "color": "cadetblue",
          "opacity": 0.9
         },
         "opacity": 0.9,
         "showlegend": false,
         "text": [
          1
         ],
         "textposition": "outside",
         "type": "bar",
         "visible": false,
         "x": [
          "DNC members"
         ],
         "xaxis": "x",
         "y": [
          1
         ],
         "yaxis": "y"
        },
        {
         "marker": {
          "color": "indianred",
          "opacity": 0.9
         },
         "opacity": 0.9,
         "showlegend": false,
         "text": [
          1
         ],
         "textposition": "outside",
         "type": "bar",
         "visible": false,
         "x": [
          "DNC member"
         ],
         "xaxis": "x2",
         "y": [
          1
         ],
         "yaxis": "y2"
        },
        {
         "domain": {
          "x": [
           0.55,
           1
          ],
          "y": [
           0.3888888888888889,
           0.6111111111111112
          ]
         },
         "hole": 0.4,
         "hoverinfo": "label+percent+name",
         "labels": [
          "D"
         ],
         "marker": {
          "colors": [
           "rgb(0, 128, 128)",
           "rgb(112, 164, 148)",
           "rgb(180, 200, 168)",
           "rgb(246, 237, 189)",
           "rgb(237, 187, 138)",
           "rgb(222, 138, 90)",
           "rgb(202, 86, 44)"
          ]
         },
         "showlegend": false,
         "text": [
          "D"
         ],
         "textinfo": "percent+label",
         "textposition": "inside",
         "type": "pie",
         "values": [
          1
         ],
         "visible": false
        },
        {
         "marker": {
          "color": "goldenrod",
          "opacity": 0.9
         },
         "opacity": 0.9,
         "showlegend": false,
         "text": [
          1
         ],
         "textposition": "outside",
         "type": "bar",
         "visible": false,
         "x": [
          "4president"
         ],
         "xaxis": "x3",
         "y": [
          1
         ],
         "yaxis": "y3"
        },
        {
         "domain": {
          "x": [
           0.55,
           1
          ],
          "y": [
           0,
           0.22222222222222224
          ]
         },
         "hole": 0.4,
         "hoverinfo": "label+percent+name",
         "labels": [
          "DC"
         ],
         "marker": {
          "colors": [
           "rgb(0, 128, 128)",
           "rgb(112, 164, 148)",
           "rgb(180, 200, 168)",
           "rgb(246, 237, 189)",
           "rgb(237, 187, 138)",
           "rgb(222, 138, 90)",
           "rgb(202, 86, 44)"
          ]
         },
         "showlegend": false,
         "text": [
          "District of Columbia"
         ],
         "textinfo": "percent+label",
         "textposition": "inside",
         "type": "pie",
         "values": [
          1
         ],
         "visible": false
        }
       ],
       "layout": {
        "annotations": [
         {
          "font": {
           "size": 16
          },
          "showarrow": false,
          "text": "Points by Endorser Category",
          "x": 0.5,
          "xanchor": "center",
          "xref": "paper",
          "y": 1,
          "yanchor": "bottom",
          "yref": "paper"
         },
         {
          "font": {
           "size": 16
          },
          "showarrow": false,
          "text": "Points by Endorser Position",
          "x": 0.225,
          "xanchor": "center",
          "xref": "paper",
          "y": 0.6111111111111112,
          "yanchor": "bottom",
          "yref": "paper"
         },
         {
          "font": {
           "size": 16
          },
          "showarrow": false,
          "text": "% of Points by Endorser Party",
          "x": 0.775,
          "xanchor": "center",
          "xref": "paper",
          "y": 0.6111111111111112,
          "yanchor": "bottom",
          "yref": "paper"
         },
         {
          "font": {
           "size": 16
          },
          "showarrow": false,
          "text": "Number of Votes by Endorser Source",
          "x": 0.225,
          "xanchor": "center",
          "xref": "paper",
          "y": 0.22222222222222224,
          "yanchor": "bottom",
          "yref": "paper"
         },
         {
          "font": {
           "size": 16
          },
          "showarrow": false,
          "text": "% of Votes by Endorser State",
          "x": 0.775,
          "xanchor": "center",
          "xref": "paper",
          "y": 0.22222222222222224,
          "yanchor": "bottom",
          "yref": "paper"
         },
         {
          "align": "left",
          "showarrow": false,
          "text": "Select Endorsee",
          "x": -0.15,
          "xref": "paper",
          "y": 1.05,
          "yref": "paper"
         }
        ],
        "bargap": 0.1,
        "height": 1350,
        "margin": {
         "t": 150
        },
        "showlegend": true,
        "template": {
         "data": {
          "bar": [
           {
            "error_x": {
             "color": "#2a3f5f"
            },
            "error_y": {
             "color": "#2a3f5f"
            },
            "marker": {
             "line": {
              "color": "#E5ECF6",
              "width": 0.5
             }
            },
            "type": "bar"
           }
          ],
          "barpolar": [
           {
            "marker": {
             "line": {
              "color": "#E5ECF6",
              "width": 0.5
             }
            },
            "type": "barpolar"
           }
          ],
          "carpet": [
           {
            "aaxis": {
             "endlinecolor": "#2a3f5f",
             "gridcolor": "white",
             "linecolor": "white",
             "minorgridcolor": "white",
             "startlinecolor": "#2a3f5f"
            },
            "baxis": {
             "endlinecolor": "#2a3f5f",
             "gridcolor": "white",
             "linecolor": "white",
             "minorgridcolor": "white",
             "startlinecolor": "#2a3f5f"
            },
            "type": "carpet"
           }
          ],
          "choropleth": [
           {
            "colorbar": {
             "outlinewidth": 0,
             "ticks": ""
            },
            "type": "choropleth"
           }
          ],
          "contour": [
           {
            "colorbar": {
             "outlinewidth": 0,
             "ticks": ""
            },
            "colorscale": [
             [
              0,
              "#0d0887"
             ],
             [
              0.1111111111111111,
              "#46039f"
             ],
             [
              0.2222222222222222,
              "#7201a8"
             ],
             [
              0.3333333333333333,
              "#9c179e"
             ],
             [
              0.4444444444444444,
              "#bd3786"
             ],
             [
              0.5555555555555556,
              "#d8576b"
             ],
             [
              0.6666666666666666,
              "#ed7953"
             ],
             [
              0.7777777777777778,
              "#fb9f3a"
             ],
             [
              0.8888888888888888,
              "#fdca26"
             ],
             [
              1,
              "#f0f921"
             ]
            ],
            "type": "contour"
           }
          ],
          "contourcarpet": [
           {
            "colorbar": {
             "outlinewidth": 0,
             "ticks": ""
            },
            "type": "contourcarpet"
           }
          ],
          "heatmap": [
           {
            "colorbar": {
             "outlinewidth": 0,
             "ticks": ""
            },
            "colorscale": [
             [
              0,
              "#0d0887"
             ],
             [
              0.1111111111111111,
              "#46039f"
             ],
             [
              0.2222222222222222,
              "#7201a8"
             ],
             [
              0.3333333333333333,
              "#9c179e"
             ],
             [
              0.4444444444444444,
              "#bd3786"
             ],
             [
              0.5555555555555556,
              "#d8576b"
             ],
             [
              0.6666666666666666,
              "#ed7953"
             ],
             [
              0.7777777777777778,
              "#fb9f3a"
             ],
             [
              0.8888888888888888,
              "#fdca26"
             ],
             [
              1,
              "#f0f921"
             ]
            ],
            "type": "heatmap"
           }
          ],
          "heatmapgl": [
           {
            "colorbar": {
             "outlinewidth": 0,
             "ticks": ""
            },
            "colorscale": [
             [
              0,
              "#0d0887"
             ],
             [
              0.1111111111111111,
              "#46039f"
             ],
             [
              0.2222222222222222,
              "#7201a8"
             ],
             [
              0.3333333333333333,
              "#9c179e"
             ],
             [
              0.4444444444444444,
              "#bd3786"
             ],
             [
              0.5555555555555556,
              "#d8576b"
             ],
             [
              0.6666666666666666,
              "#ed7953"
             ],
             [
              0.7777777777777778,
              "#fb9f3a"
             ],
             [
              0.8888888888888888,
              "#fdca26"
             ],
             [
              1,
              "#f0f921"
             ]
            ],
            "type": "heatmapgl"
           }
          ],
          "histogram": [
           {
            "marker": {
             "colorbar": {
              "outlinewidth": 0,
              "ticks": ""
             }
            },
            "type": "histogram"
           }
          ],
          "histogram2d": [
           {
            "colorbar": {
             "outlinewidth": 0,
             "ticks": ""
            },
            "colorscale": [
             [
              0,
              "#0d0887"
             ],
             [
              0.1111111111111111,
              "#46039f"
             ],
             [
              0.2222222222222222,
              "#7201a8"
             ],
             [
              0.3333333333333333,
              "#9c179e"
             ],
             [
              0.4444444444444444,
              "#bd3786"
             ],
             [
              0.5555555555555556,
              "#d8576b"
             ],
             [
              0.6666666666666666,
              "#ed7953"
             ],
             [
              0.7777777777777778,
              "#fb9f3a"
             ],
             [
              0.8888888888888888,
              "#fdca26"
             ],
             [
              1,
              "#f0f921"
             ]
            ],
            "type": "histogram2d"
           }
          ],
          "histogram2dcontour": [
           {
            "colorbar": {
             "outlinewidth": 0,
             "ticks": ""
            },
            "colorscale": [
             [
              0,
              "#0d0887"
             ],
             [
              0.1111111111111111,
              "#46039f"
             ],
             [
              0.2222222222222222,
              "#7201a8"
             ],
             [
              0.3333333333333333,
              "#9c179e"
             ],
             [
              0.4444444444444444,
              "#bd3786"
             ],
             [
              0.5555555555555556,
              "#d8576b"
             ],
             [
              0.6666666666666666,
              "#ed7953"
             ],
             [
              0.7777777777777778,
              "#fb9f3a"
             ],
             [
              0.8888888888888888,
              "#fdca26"
             ],
             [
              1,
              "#f0f921"
             ]
            ],
            "type": "histogram2dcontour"
           }
          ],
          "mesh3d": [
           {
            "colorbar": {
             "outlinewidth": 0,
             "ticks": ""
            },
            "type": "mesh3d"
           }
          ],
          "parcoords": [
           {
            "line": {
             "colorbar": {
              "outlinewidth": 0,
              "ticks": ""
             }
            },
            "type": "parcoords"
           }
          ],
          "pie": [
           {
            "automargin": true,
            "type": "pie"
           }
          ],
          "scatter": [
           {
            "marker": {
             "colorbar": {
              "outlinewidth": 0,
              "ticks": ""
             }
            },
            "type": "scatter"
           }
          ],
          "scatter3d": [
           {
            "line": {
             "colorbar": {
              "outlinewidth": 0,
              "ticks": ""
             }
            },
            "marker": {
             "colorbar": {
              "outlinewidth": 0,
              "ticks": ""
             }
            },
            "type": "scatter3d"
           }
          ],
          "scattercarpet": [
           {
            "marker": {
             "colorbar": {
              "outlinewidth": 0,
              "ticks": ""
             }
            },
            "type": "scattercarpet"
           }
          ],
          "scattergeo": [
           {
            "marker": {
             "colorbar": {
              "outlinewidth": 0,
              "ticks": ""
             }
            },
            "type": "scattergeo"
           }
          ],
          "scattergl": [
           {
            "marker": {
             "colorbar": {
              "outlinewidth": 0,
              "ticks": ""
             }
            },
            "type": "scattergl"
           }
          ],
          "scattermapbox": [
           {
            "marker": {
             "colorbar": {
              "outlinewidth": 0,
              "ticks": ""
             }
            },
            "type": "scattermapbox"
           }
          ],
          "scatterpolar": [
           {
            "marker": {
             "colorbar": {
              "outlinewidth": 0,
              "ticks": ""
             }
            },
            "type": "scatterpolar"
           }
          ],
          "scatterpolargl": [
           {
            "marker": {
             "colorbar": {
              "outlinewidth": 0,
              "ticks": ""
             }
            },
            "type": "scatterpolargl"
           }
          ],
          "scatterternary": [
           {
            "marker": {
             "colorbar": {
              "outlinewidth": 0,
              "ticks": ""
             }
            },
            "type": "scatterternary"
           }
          ],
          "surface": [
           {
            "colorbar": {
             "outlinewidth": 0,
             "ticks": ""
            },
            "colorscale": [
             [
              0,
              "#0d0887"
             ],
             [
              0.1111111111111111,
              "#46039f"
             ],
             [
              0.2222222222222222,
              "#7201a8"
             ],
             [
              0.3333333333333333,
              "#9c179e"
             ],
             [
              0.4444444444444444,
              "#bd3786"
             ],
             [
              0.5555555555555556,
              "#d8576b"
             ],
             [
              0.6666666666666666,
              "#ed7953"
             ],
             [
              0.7777777777777778,
              "#fb9f3a"
             ],
             [
              0.8888888888888888,
              "#fdca26"
             ],
             [
              1,
              "#f0f921"
             ]
            ],
            "type": "surface"
           }
          ],
          "table": [
           {
            "cells": {
             "fill": {
              "color": "#EBF0F8"
             },
             "line": {
              "color": "white"
             }
            },
            "header": {
             "fill": {
              "color": "#C8D4E3"
             },
             "line": {
              "color": "white"
             }
            },
            "type": "table"
           }
          ]
         },
         "layout": {
          "annotationdefaults": {
           "arrowcolor": "#2a3f5f",
           "arrowhead": 0,
           "arrowwidth": 1
          },
          "coloraxis": {
           "colorbar": {
            "outlinewidth": 0,
            "ticks": ""
           }
          },
          "colorscale": {
           "diverging": [
            [
             0,
             "#8e0152"
            ],
            [
             0.1,
             "#c51b7d"
            ],
            [
             0.2,
             "#de77ae"
            ],
            [
             0.3,
             "#f1b6da"
            ],
            [
             0.4,
             "#fde0ef"
            ],
            [
             0.5,
             "#f7f7f7"
            ],
            [
             0.6,
             "#e6f5d0"
            ],
            [
             0.7,
             "#b8e186"
            ],
            [
             0.8,
             "#7fbc41"
            ],
            [
             0.9,
             "#4d9221"
            ],
            [
             1,
             "#276419"
            ]
           ],
           "sequential": [
            [
             0,
             "#0d0887"
            ],
            [
             0.1111111111111111,
             "#46039f"
            ],
            [
             0.2222222222222222,
             "#7201a8"
            ],
            [
             0.3333333333333333,
             "#9c179e"
            ],
            [
             0.4444444444444444,
             "#bd3786"
            ],
            [
             0.5555555555555556,
             "#d8576b"
            ],
            [
             0.6666666666666666,
             "#ed7953"
            ],
            [
             0.7777777777777778,
             "#fb9f3a"
            ],
            [
             0.8888888888888888,
             "#fdca26"
            ],
            [
             1,
             "#f0f921"
            ]
           ],
           "sequentialminus": [
            [
             0,
             "#0d0887"
            ],
            [
             0.1111111111111111,
             "#46039f"
            ],
            [
             0.2222222222222222,
             "#7201a8"
            ],
            [
             0.3333333333333333,
             "#9c179e"
            ],
            [
             0.4444444444444444,
             "#bd3786"
            ],
            [
             0.5555555555555556,
             "#d8576b"
            ],
            [
             0.6666666666666666,
             "#ed7953"
            ],
            [
             0.7777777777777778,
             "#fb9f3a"
            ],
            [
             0.8888888888888888,
             "#fdca26"
            ],
            [
             1,
             "#f0f921"
            ]
           ]
          },
          "colorway": [
           "#636efa",
           "#EF553B",
           "#00cc96",
           "#ab63fa",
           "#FFA15A",
           "#19d3f3",
           "#FF6692",
           "#B6E880",
           "#FF97FF",
           "#FECB52"
          ],
          "font": {
           "color": "#2a3f5f"
          },
          "geo": {
           "bgcolor": "white",
           "lakecolor": "white",
           "landcolor": "#E5ECF6",
           "showlakes": true,
           "showland": true,
           "subunitcolor": "white"
          },
          "hoverlabel": {
           "align": "left"
          },
          "hovermode": "closest",
          "mapbox": {
           "style": "light"
          },
          "paper_bgcolor": "white",
          "plot_bgcolor": "#E5ECF6",
          "polar": {
           "angularaxis": {
            "gridcolor": "white",
            "linecolor": "white",
            "ticks": ""
           },
           "bgcolor": "#E5ECF6",
           "radialaxis": {
            "gridcolor": "white",
            "linecolor": "white",
            "ticks": ""
           }
          },
          "scene": {
           "xaxis": {
            "backgroundcolor": "#E5ECF6",
            "gridcolor": "white",
            "gridwidth": 2,
            "linecolor": "white",
            "showbackground": true,
            "ticks": "",
            "zerolinecolor": "white"
           },
           "yaxis": {
            "backgroundcolor": "#E5ECF6",
            "gridcolor": "white",
            "gridwidth": 2,
            "linecolor": "white",
            "showbackground": true,
            "ticks": "",
            "zerolinecolor": "white"
           },
           "zaxis": {
            "backgroundcolor": "#E5ECF6",
            "gridcolor": "white",
            "gridwidth": 2,
            "linecolor": "white",
            "showbackground": true,
            "ticks": "",
            "zerolinecolor": "white"
           }
          },
          "shapedefaults": {
           "line": {
            "color": "#2a3f5f"
           }
          },
          "ternary": {
           "aaxis": {
            "gridcolor": "white",
            "linecolor": "white",
            "ticks": ""
           },
           "baxis": {
            "gridcolor": "white",
            "linecolor": "white",
            "ticks": ""
           },
           "bgcolor": "#E5ECF6",
           "caxis": {
            "gridcolor": "white",
            "linecolor": "white",
            "ticks": ""
           }
          },
          "title": {
           "x": 0.05
          },
          "xaxis": {
           "automargin": true,
           "gridcolor": "white",
           "linecolor": "white",
           "ticks": "",
           "title": {
            "standoff": 15
           },
           "zerolinecolor": "white",
           "zerolinewidth": 2
          },
          "yaxis": {
           "automargin": true,
           "gridcolor": "white",
           "linecolor": "white",
           "ticks": "",
           "title": {
            "standoff": 15
           },
           "zerolinecolor": "white",
           "zerolinewidth": 2
          }
         }
        },
        "title": {
         "font": {
          "size": 22
         },
         "text": "<b> Endorsee Summary <b>",
         "x": 0.5,
         "xanchor": "center",
         "y": 0.95,
         "yanchor": "top"
        },
        "updatemenus": [
         {
          "active": 1,
          "buttons": [
           {
            "args": [
             {
              "visible": [
               true,
               true,
               true,
               true,
               true,
               false,
               false,
               false,
               false,
               false,
               false,
               false,
               false,
               false,
               false,
               false,
               false,
               false,
               false,
               false,
               false,
               false,
               false,
               false,
               false,
               false,
               false,
               false,
               false,
               false,
               false,
               false,
               false,
               false,
               false,
               false,
               false,
               false,
               false,
               false,
               false,
               false,
               false,
               false,
               false,
               false,
               false,
               false,
               false,
               false,
               false,
               false,
               false,
               false,
               false,
               false,
               false,
               false,
               false,
               false,
               false,
               false,
               false,
               false,
               false,
               false,
               false,
               false,
               false,
               false,
               false,
               false,
               false,
               false,
               false,
               false,
               false,
               false,
               false,
               false
              ]
             }
            ],
            "label": "Delaney",
            "method": "update"
           },
           {
            "args": [
             {
              "visible": [
               false,
               false,
               false,
               false,
               false,
               true,
               true,
               true,
               true,
               true,
               false,
               false,
               false,
               false,
               false,
               false,
               false,
               false,
               false,
               false,
               false,
               false,
               false,
               false,
               false,
               false,
               false,
               false,
               false,
               false,
               false,
               false,
               false,
               false,
               false,
               false,
               false,
               false,
               false,
               false,
               false,
               false,
               false,
               false,
               false,
               false,
               false,
               false,
               false,
               false,
               false,
               false,
               false,
               false,
               false,
               false,
               false,
               false,
               false,
               false,
               false,
               false,
               false,
               false,
               false,
               false,
               false,
               false,
               false,
               false,
               false,
               false,
               false,
               false,
               false,
               false,
               false,
               false,
               false,
               false
              ]
             }
            ],
            "label": "Biden",
            "method": "update"
           },
           {
            "args": [
             {
              "visible": [
               false,
               false,
               false,
               false,
               false,
               false,
               false,
               false,
               false,
               false,
               true,
               true,
               true,
               true,
               true,
               false,
               false,
               false,
               false,
               false,
               false,
               false,
               false,
               false,
               false,
               false,
               false,
               false,
               false,
               false,
               false,
               false,
               false,
               false,
               false,
               false,
               false,
               false,
               false,
               false,
               false,
               false,
               false,
               false,
               false,
               false,
               false,
               false,
               false,
               false,
               false,
               false,
               false,
               false,
               false,
               false,
               false,
               false,
               false,
               false,
               false,
               false,
               false,
               false,
               false,
               false,
               false,
               false,
               false,
               false,
               false,
               false,
               false,
               false,
               false,
               false,
               false,
               false,
               false,
               false
              ]
             }
            ],
            "label": "Castro",
            "method": "update"
           },
           {
            "args": [
             {
              "visible": [
               false,
               false,
               false,
               false,
               false,
               false,
               false,
               false,
               false,
               false,
               false,
               false,
               false,
               false,
               false,
               true,
               true,
               true,
               true,
               true,
               false,
               false,
               false,
               false,
               false,
               false,
               false,
               false,
               false,
               false,
               false,
               false,
               false,
               false,
               false,
               false,
               false,
               false,
               false,
               false,
               false,
               false,
               false,
               false,
               false,
               false,
               false,
               false,
               false,
               false,
               false,
               false,
               false,
               false,
               false,
               false,
               false,
               false,
               false,
               false,
               false,
               false,
               false,
               false,
               false,
               false,
               false,
               false,
               false,
               false,
               false,
               false,
               false,
               false,
               false,
               false,
               false,
               false,
               false,
               false
              ]
             }
            ],
            "label": "Harris",
            "method": "update"
           },
           {
            "args": [
             {
              "visible": [
               false,
               false,
               false,
               false,
               false,
               false,
               false,
               false,
               false,
               false,
               false,
               false,
               false,
               false,
               false,
               false,
               false,
               false,
               false,
               false,
               true,
               true,
               true,
               true,
               true,
               false,
               false,
               false,
               false,
               false,
               false,
               false,
               false,
               false,
               false,
               false,
               false,
               false,
               false,
               false,
               false,
               false,
               false,
               false,
               false,
               false,
               false,
               false,
               false,
               false,
               false,
               false,
               false,
               false,
               false,
               false,
               false,
               false,
               false,
               false,
               false,
               false,
               false,
               false,
               false,
               false,
               false,
               false,
               false,
               false,
               false,
               false,
               false,
               false,
               false,
               false,
               false,
               false,
               false,
               false
              ]
             }
            ],
            "label": "Sanders",
            "method": "update"
           },
           {
            "args": [
             {
              "visible": [
               false,
               false,
               false,
               false,
               false,
               false,
               false,
               false,
               false,
               false,
               false,
               false,
               false,
               false,
               false,
               false,
               false,
               false,
               false,
               false,
               false,
               false,
               false,
               false,
               false,
               true,
               true,
               true,
               true,
               true,
               false,
               false,
               false,
               false,
               false,
               false,
               false,
               false,
               false,
               false,
               false,
               false,
               false,
               false,
               false,
               false,
               false,
               false,
               false,
               false,
               false,
               false,
               false,
               false,
               false,
               false,
               false,
               false,
               false,
               false,
               false,
               false,
               false,
               false,
               false,
               false,
               false,
               false,
               false,
               false,
               false,
               false,
               false,
               false,
               false,
               false,
               false,
               false,
               false,
               false
              ]
             }
            ],
            "label": "Booker",
            "method": "update"
           },
           {
            "args": [
             {
              "visible": [
               false,
               false,
               false,
               false,
               false,
               false,
               false,
               false,
               false,
               false,
               false,
               false,
               false,
               false,
               false,
               false,
               false,
               false,
               false,
               false,
               false,
               false,
               false,
               false,
               false,
               false,
               false,
               false,
               false,
               false,
               true,
               true,
               true,
               true,
               true,
               false,
               false,
               false,
               false,
               false,
               false,
               false,
               false,
               false,
               false,
               false,
               false,
               false,
               false,
               false,
               false,
               false,
               false,
               false,
               false,
               false,
               false,
               false,
               false,
               false,
               false,
               false,
               false,
               false,
               false,
               false,
               false,
               false,
               false,
               false,
               false,
               false,
               false,
               false,
               false,
               false,
               false,
               false,
               false,
               false
              ]
             }
            ],
            "label": "Klobuchar",
            "method": "update"
           },
           {
            "args": [
             {
              "visible": [
               false,
               false,
               false,
               false,
               false,
               false,
               false,
               false,
               false,
               false,
               false,
               false,
               false,
               false,
               false,
               false,
               false,
               false,
               false,
               false,
               false,
               false,
               false,
               false,
               false,
               false,
               false,
               false,
               false,
               false,
               false,
               false,
               false,
               false,
               false,
               true,
               true,
               true,
               true,
               true,
               false,
               false,
               false,
               false,
               false,
               false,
               false,
               false,
               false,
               false,
               false,
               false,
               false,
               false,
               false,
               false,
               false,
               false,
               false,
               false,
               false,
               false,
               false,
               false,
               false,
               false,
               false,
               false,
               false,
               false,
               false,
               false,
               false,
               false,
               false,
               false,
               false,
               false,
               false,
               false
              ]
             }
            ],
            "label": "Warren",
            "method": "update"
           },
           {
            "args": [
             {
              "visible": [
               false,
               false,
               false,
               false,
               false,
               false,
               false,
               false,
               false,
               false,
               false,
               false,
               false,
               false,
               false,
               false,
               false,
               false,
               false,
               false,
               false,
               false,
               false,
               false,
               false,
               false,
               false,
               false,
               false,
               false,
               false,
               false,
               false,
               false,
               false,
               false,
               false,
               false,
               false,
               false,
               true,
               true,
               true,
               true,
               true,
               false,
               false,
               false,
               false,
               false,
               false,
               false,
               false,
               false,
               false,
               false,
               false,
               false,
               false,
               false,
               false,
               false,
               false,
               false,
               false,
               false,
               false,
               false,
               false,
               false,
               false,
               false,
               false,
               false,
               false,
               false,
               false,
               false,
               false,
               false
              ]
             }
            ],
            "label": "Inslee",
            "method": "update"
           },
           {
            "args": [
             {
              "visible": [
               false,
               false,
               false,
               false,
               false,
               false,
               false,
               false,
               false,
               false,
               false,
               false,
               false,
               false,
               false,
               false,
               false,
               false,
               false,
               false,
               false,
               false,
               false,
               false,
               false,
               false,
               false,
               false,
               false,
               false,
               false,
               false,
               false,
               false,
               false,
               false,
               false,
               false,
               false,
               false,
               false,
               false,
               false,
               false,
               false,
               true,
               true,
               true,
               true,
               true,
               false,
               false,
               false,
               false,
               false,
               false,
               false,
               false,
               false,
               false,
               false,
               false,
               false,
               false,
               false,
               false,
               false,
               false,
               false,
               false,
               false,
               false,
               false,
               false,
               false,
               false,
               false,
               false,
               false,
               false
              ]
             }
            ],
            "label": "O'Rourke",
            "method": "update"
           },
           {
            "args": [
             {
              "visible": [
               false,
               false,
               false,
               false,
               false,
               false,
               false,
               false,
               false,
               false,
               false,
               false,
               false,
               false,
               false,
               false,
               false,
               false,
               false,
               false,
               false,
               false,
               false,
               false,
               false,
               false,
               false,
               false,
               false,
               false,
               false,
               false,
               false,
               false,
               false,
               false,
               false,
               false,
               false,
               false,
               false,
               false,
               false,
               false,
               false,
               false,
               false,
               false,
               false,
               false,
               true,
               true,
               true,
               true,
               true,
               false,
               false,
               false,
               false,
               false,
               false,
               false,
               false,
               false,
               false,
               false,
               false,
               false,
               false,
               false,
               false,
               false,
               false,
               false,
               false,
               false,
               false,
               false,
               false,
               false
              ]
             }
            ],
            "label": "Gillibrand",
            "method": "update"
           },
           {
            "args": [
             {
              "visible": [
               false,
               false,
               false,
               false,
               false,
               false,
               false,
               false,
               false,
               false,
               false,
               false,
               false,
               false,
               false,
               false,
               false,
               false,
               false,
               false,
               false,
               false,
               false,
               false,
               false,
               false,
               false,
               false,
               false,
               false,
               false,
               false,
               false,
               false,
               false,
               false,
               false,
               false,
               false,
               false,
               false,
               false,
               false,
               false,
               false,
               false,
               false,
               false,
               false,
               false,
               false,
               false,
               false,
               false,
               false,
               true,
               true,
               true,
               true,
               true,
               false,
               false,
               false,
               false,
               false,
               false,
               false,
               false,
               false,
               false,
               false,
               false,
               false,
               false,
               false,
               false,
               false,
               false,
               false,
               false
              ]
             }
            ],
            "label": "Buttigieg",
            "method": "update"
           },
           {
            "args": [
             {
              "visible": [
               false,
               false,
               false,
               false,
               false,
               false,
               false,
               false,
               false,
               false,
               false,
               false,
               false,
               false,
               false,
               false,
               false,
               false,
               false,
               false,
               false,
               false,
               false,
               false,
               false,
               false,
               false,
               false,
               false,
               false,
               false,
               false,
               false,
               false,
               false,
               false,
               false,
               false,
               false,
               false,
               false,
               false,
               false,
               false,
               false,
               false,
               false,
               false,
               false,
               false,
               false,
               false,
               false,
               false,
               false,
               false,
               false,
               false,
               false,
               false,
               true,
               true,
               true,
               true,
               true,
               false,
               false,
               false,
               false,
               false,
               false,
               false,
               false,
               false,
               false,
               false,
               false,
               false,
               false,
               false
              ]
             }
            ],
            "label": "Bullock",
            "method": "update"
           },
           {
            "args": [
             {
              "visible": [
               false,
               false,
               false,
               false,
               false,
               false,
               false,
               false,
               false,
               false,
               false,
               false,
               false,
               false,
               false,
               false,
               false,
               false,
               false,
               false,
               false,
               false,
               false,
               false,
               false,
               false,
               false,
               false,
               false,
               false,
               false,
               false,
               false,
               false,
               false,
               false,
               false,
               false,
               false,
               false,
               false,
               false,
               false,
               false,
               false,
               false,
               false,
               false,
               false,
               false,
               false,
               false,
               false,
               false,
               false,
               false,
               false,
               false,
               false,
               false,
               false,
               false,
               false,
               false,
               false,
               true,
               true,
               true,
               true,
               true,
               false,
               false,
               false,
               false,
               false,
               false,
               false,
               false,
               false,
               false
              ]
             }
            ],
            "label": "Bennet",
            "method": "update"
           },
           {
            "args": [
             {
              "visible": [
               false,
               false,
               false,
               false,
               false,
               false,
               false,
               false,
               false,
               false,
               false,
               false,
               false,
               false,
               false,
               false,
               false,
               false,
               false,
               false,
               false,
               false,
               false,
               false,
               false,
               false,
               false,
               false,
               false,
               false,
               false,
               false,
               false,
               false,
               false,
               false,
               false,
               false,
               false,
               false,
               false,
               false,
               false,
               false,
               false,
               false,
               false,
               false,
               false,
               false,
               false,
               false,
               false,
               false,
               false,
               false,
               false,
               false,
               false,
               false,
               false,
               false,
               false,
               false,
               false,
               false,
               false,
               false,
               false,
               false,
               true,
               true,
               true,
               true,
               true,
               false,
               false,
               false,
               false,
               false
              ]
             }
            ],
            "label": "Bloomberg",
            "method": "update"
           },
           {
            "args": [
             {
              "visible": [
               false,
               false,
               false,
               false,
               false,
               false,
               false,
               false,
               false,
               false,
               false,
               false,
               false,
               false,
               false,
               false,
               false,
               false,
               false,
               false,
               false,
               false,
               false,
               false,
               false,
               false,
               false,
               false,
               false,
               false,
               false,
               false,
               false,
               false,
               false,
               false,
               false,
               false,
               false,
               false,
               false,
               false,
               false,
               false,
               false,
               false,
               false,
               false,
               false,
               false,
               false,
               false,
               false,
               false,
               false,
               false,
               false,
               false,
               false,
               false,
               false,
               false,
               false,
               false,
               false,
               false,
               false,
               false,
               false,
               false,
               false,
               false,
               false,
               false,
               false,
               true,
               true,
               true,
               true,
               true
              ]
             }
            ],
            "label": "Steyer",
            "method": "update"
           },
           {
            "args": [
             {
              "visible": [
               true,
               true,
               true,
               true,
               true,
               false,
               false,
               false,
               false,
               false,
               false,
               false,
               false,
               false,
               false,
               false,
               false,
               false,
               false,
               false,
               false,
               false,
               false,
               false,
               false,
               false,
               false,
               false,
               false,
               false,
               false,
               false,
               false,
               false,
               false,
               false,
               false,
               false,
               false,
               false,
               false,
               false,
               false,
               false,
               false,
               false,
               false,
               false,
               false,
               false,
               false,
               false,
               false,
               false,
               false,
               false,
               false,
               false,
               false,
               false,
               false,
               false,
               false,
               false,
               false,
               false,
               false,
               false,
               false,
               false,
               false,
               false,
               false,
               false,
               false,
               false,
               false,
               false,
               false,
               false
              ]
             }
            ],
            "label": "Delaney",
            "method": "update"
           },
           {
            "args": [
             {
              "visible": [
               false,
               false,
               false,
               false,
               false,
               true,
               true,
               true,
               true,
               true,
               false,
               false,
               false,
               false,
               false,
               false,
               false,
               false,
               false,
               false,
               false,
               false,
               false,
               false,
               false,
               false,
               false,
               false,
               false,
               false,
               false,
               false,
               false,
               false,
               false,
               false,
               false,
               false,
               false,
               false,
               false,
               false,
               false,
               false,
               false,
               false,
               false,
               false,
               false,
               false,
               false,
               false,
               false,
               false,
               false,
               false,
               false,
               false,
               false,
               false,
               false,
               false,
               false,
               false,
               false,
               false,
               false,
               false,
               false,
               false,
               false,
               false,
               false,
               false,
               false,
               false,
               false,
               false,
               false,
               false
              ]
             }
            ],
            "label": "Biden",
            "method": "update"
           },
           {
            "args": [
             {
              "visible": [
               false,
               false,
               false,
               false,
               false,
               false,
               false,
               false,
               false,
               false,
               true,
               true,
               true,
               true,
               true,
               false,
               false,
               false,
               false,
               false,
               false,
               false,
               false,
               false,
               false,
               false,
               false,
               false,
               false,
               false,
               false,
               false,
               false,
               false,
               false,
               false,
               false,
               false,
               false,
               false,
               false,
               false,
               false,
               false,
               false,
               false,
               false,
               false,
               false,
               false,
               false,
               false,
               false,
               false,
               false,
               false,
               false,
               false,
               false,
               false,
               false,
               false,
               false,
               false,
               false,
               false,
               false,
               false,
               false,
               false,
               false,
               false,
               false,
               false,
               false,
               false,
               false,
               false,
               false,
               false
              ]
             }
            ],
            "label": "Castro",
            "method": "update"
           },
           {
            "args": [
             {
              "visible": [
               false,
               false,
               false,
               false,
               false,
               false,
               false,
               false,
               false,
               false,
               false,
               false,
               false,
               false,
               false,
               true,
               true,
               true,
               true,
               true,
               false,
               false,
               false,
               false,
               false,
               false,
               false,
               false,
               false,
               false,
               false,
               false,
               false,
               false,
               false,
               false,
               false,
               false,
               false,
               false,
               false,
               false,
               false,
               false,
               false,
               false,
               false,
               false,
               false,
               false,
               false,
               false,
               false,
               false,
               false,
               false,
               false,
               false,
               false,
               false,
               false,
               false,
               false,
               false,
               false,
               false,
               false,
               false,
               false,
               false,
               false,
               false,
               false,
               false,
               false,
               false,
               false,
               false,
               false,
               false
              ]
             }
            ],
            "label": "Harris",
            "method": "update"
           },
           {
            "args": [
             {
              "visible": [
               false,
               false,
               false,
               false,
               false,
               false,
               false,
               false,
               false,
               false,
               false,
               false,
               false,
               false,
               false,
               false,
               false,
               false,
               false,
               false,
               true,
               true,
               true,
               true,
               true,
               false,
               false,
               false,
               false,
               false,
               false,
               false,
               false,
               false,
               false,
               false,
               false,
               false,
               false,
               false,
               false,
               false,
               false,
               false,
               false,
               false,
               false,
               false,
               false,
               false,
               false,
               false,
               false,
               false,
               false,
               false,
               false,
               false,
               false,
               false,
               false,
               false,
               false,
               false,
               false,
               false,
               false,
               false,
               false,
               false,
               false,
               false,
               false,
               false,
               false,
               false,
               false,
               false,
               false,
               false
              ]
             }
            ],
            "label": "Sanders",
            "method": "update"
           },
           {
            "args": [
             {
              "visible": [
               false,
               false,
               false,
               false,
               false,
               false,
               false,
               false,
               false,
               false,
               false,
               false,
               false,
               false,
               false,
               false,
               false,
               false,
               false,
               false,
               false,
               false,
               false,
               false,
               false,
               true,
               true,
               true,
               true,
               true,
               false,
               false,
               false,
               false,
               false,
               false,
               false,
               false,
               false,
               false,
               false,
               false,
               false,
               false,
               false,
               false,
               false,
               false,
               false,
               false,
               false,
               false,
               false,
               false,
               false,
               false,
               false,
               false,
               false,
               false,
               false,
               false,
               false,
               false,
               false,
               false,
               false,
               false,
               false,
               false,
               false,
               false,
               false,
               false,
               false,
               false,
               false,
               false,
               false,
               false
              ]
             }
            ],
            "label": "Booker",
            "method": "update"
           },
           {
            "args": [
             {
              "visible": [
               false,
               false,
               false,
               false,
               false,
               false,
               false,
               false,
               false,
               false,
               false,
               false,
               false,
               false,
               false,
               false,
               false,
               false,
               false,
               false,
               false,
               false,
               false,
               false,
               false,
               false,
               false,
               false,
               false,
               false,
               true,
               true,
               true,
               true,
               true,
               false,
               false,
               false,
               false,
               false,
               false,
               false,
               false,
               false,
               false,
               false,
               false,
               false,
               false,
               false,
               false,
               false,
               false,
               false,
               false,
               false,
               false,
               false,
               false,
               false,
               false,
               false,
               false,
               false,
               false,
               false,
               false,
               false,
               false,
               false,
               false,
               false,
               false,
               false,
               false,
               false,
               false,
               false,
               false,
               false
              ]
             }
            ],
            "label": "Klobuchar",
            "method": "update"
           },
           {
            "args": [
             {
              "visible": [
               false,
               false,
               false,
               false,
               false,
               false,
               false,
               false,
               false,
               false,
               false,
               false,
               false,
               false,
               false,
               false,
               false,
               false,
               false,
               false,
               false,
               false,
               false,
               false,
               false,
               false,
               false,
               false,
               false,
               false,
               false,
               false,
               false,
               false,
               false,
               true,
               true,
               true,
               true,
               true,
               false,
               false,
               false,
               false,
               false,
               false,
               false,
               false,
               false,
               false,
               false,
               false,
               false,
               false,
               false,
               false,
               false,
               false,
               false,
               false,
               false,
               false,
               false,
               false,
               false,
               false,
               false,
               false,
               false,
               false,
               false,
               false,
               false,
               false,
               false,
               false,
               false,
               false,
               false,
               false
              ]
             }
            ],
            "label": "Warren",
            "method": "update"
           },
           {
            "args": [
             {
              "visible": [
               false,
               false,
               false,
               false,
               false,
               false,
               false,
               false,
               false,
               false,
               false,
               false,
               false,
               false,
               false,
               false,
               false,
               false,
               false,
               false,
               false,
               false,
               false,
               false,
               false,
               false,
               false,
               false,
               false,
               false,
               false,
               false,
               false,
               false,
               false,
               false,
               false,
               false,
               false,
               false,
               true,
               true,
               true,
               true,
               true,
               false,
               false,
               false,
               false,
               false,
               false,
               false,
               false,
               false,
               false,
               false,
               false,
               false,
               false,
               false,
               false,
               false,
               false,
               false,
               false,
               false,
               false,
               false,
               false,
               false,
               false,
               false,
               false,
               false,
               false,
               false,
               false,
               false,
               false,
               false
              ]
             }
            ],
            "label": "Inslee",
            "method": "update"
           },
           {
            "args": [
             {
              "visible": [
               false,
               false,
               false,
               false,
               false,
               false,
               false,
               false,
               false,
               false,
               false,
               false,
               false,
               false,
               false,
               false,
               false,
               false,
               false,
               false,
               false,
               false,
               false,
               false,
               false,
               false,
               false,
               false,
               false,
               false,
               false,
               false,
               false,
               false,
               false,
               false,
               false,
               false,
               false,
               false,
               false,
               false,
               false,
               false,
               false,
               true,
               true,
               true,
               true,
               true,
               false,
               false,
               false,
               false,
               false,
               false,
               false,
               false,
               false,
               false,
               false,
               false,
               false,
               false,
               false,
               false,
               false,
               false,
               false,
               false,
               false,
               false,
               false,
               false,
               false,
               false,
               false,
               false,
               false,
               false
              ]
             }
            ],
            "label": "O'Rourke",
            "method": "update"
           },
           {
            "args": [
             {
              "visible": [
               false,
               false,
               false,
               false,
               false,
               false,
               false,
               false,
               false,
               false,
               false,
               false,
               false,
               false,
               false,
               false,
               false,
               false,
               false,
               false,
               false,
               false,
               false,
               false,
               false,
               false,
               false,
               false,
               false,
               false,
               false,
               false,
               false,
               false,
               false,
               false,
               false,
               false,
               false,
               false,
               false,
               false,
               false,
               false,
               false,
               false,
               false,
               false,
               false,
               false,
               true,
               true,
               true,
               true,
               true,
               false,
               false,
               false,
               false,
               false,
               false,
               false,
               false,
               false,
               false,
               false,
               false,
               false,
               false,
               false,
               false,
               false,
               false,
               false,
               false,
               false,
               false,
               false,
               false,
               false
              ]
             }
            ],
            "label": "Gillibrand",
            "method": "update"
           },
           {
            "args": [
             {
              "visible": [
               false,
               false,
               false,
               false,
               false,
               false,
               false,
               false,
               false,
               false,
               false,
               false,
               false,
               false,
               false,
               false,
               false,
               false,
               false,
               false,
               false,
               false,
               false,
               false,
               false,
               false,
               false,
               false,
               false,
               false,
               false,
               false,
               false,
               false,
               false,
               false,
               false,
               false,
               false,
               false,
               false,
               false,
               false,
               false,
               false,
               false,
               false,
               false,
               false,
               false,
               false,
               false,
               false,
               false,
               false,
               true,
               true,
               true,
               true,
               true,
               false,
               false,
               false,
               false,
               false,
               false,
               false,
               false,
               false,
               false,
               false,
               false,
               false,
               false,
               false,
               false,
               false,
               false,
               false,
               false
              ]
             }
            ],
            "label": "Buttigieg",
            "method": "update"
           },
           {
            "args": [
             {
              "visible": [
               false,
               false,
               false,
               false,
               false,
               false,
               false,
               false,
               false,
               false,
               false,
               false,
               false,
               false,
               false,
               false,
               false,
               false,
               false,
               false,
               false,
               false,
               false,
               false,
               false,
               false,
               false,
               false,
               false,
               false,
               false,
               false,
               false,
               false,
               false,
               false,
               false,
               false,
               false,
               false,
               false,
               false,
               false,
               false,
               false,
               false,
               false,
               false,
               false,
               false,
               false,
               false,
               false,
               false,
               false,
               false,
               false,
               false,
               false,
               false,
               true,
               true,
               true,
               true,
               true,
               false,
               false,
               false,
               false,
               false,
               false,
               false,
               false,
               false,
               false,
               false,
               false,
               false,
               false,
               false
              ]
             }
            ],
            "label": "Bullock",
            "method": "update"
           },
           {
            "args": [
             {
              "visible": [
               false,
               false,
               false,
               false,
               false,
               false,
               false,
               false,
               false,
               false,
               false,
               false,
               false,
               false,
               false,
               false,
               false,
               false,
               false,
               false,
               false,
               false,
               false,
               false,
               false,
               false,
               false,
               false,
               false,
               false,
               false,
               false,
               false,
               false,
               false,
               false,
               false,
               false,
               false,
               false,
               false,
               false,
               false,
               false,
               false,
               false,
               false,
               false,
               false,
               false,
               false,
               false,
               false,
               false,
               false,
               false,
               false,
               false,
               false,
               false,
               false,
               false,
               false,
               false,
               false,
               true,
               true,
               true,
               true,
               true,
               false,
               false,
               false,
               false,
               false,
               false,
               false,
               false,
               false,
               false
              ]
             }
            ],
            "label": "Bennet",
            "method": "update"
           },
           {
            "args": [
             {
              "visible": [
               false,
               false,
               false,
               false,
               false,
               false,
               false,
               false,
               false,
               false,
               false,
               false,
               false,
               false,
               false,
               false,
               false,
               false,
               false,
               false,
               false,
               false,
               false,
               false,
               false,
               false,
               false,
               false,
               false,
               false,
               false,
               false,
               false,
               false,
               false,
               false,
               false,
               false,
               false,
               false,
               false,
               false,
               false,
               false,
               false,
               false,
               false,
               false,
               false,
               false,
               false,
               false,
               false,
               false,
               false,
               false,
               false,
               false,
               false,
               false,
               false,
               false,
               false,
               false,
               false,
               false,
               false,
               false,
               false,
               false,
               true,
               true,
               true,
               true,
               true,
               false,
               false,
               false,
               false,
               false
              ]
             }
            ],
            "label": "Bloomberg",
            "method": "update"
           },
           {
            "args": [
             {
              "visible": [
               false,
               false,
               false,
               false,
               false,
               false,
               false,
               false,
               false,
               false,
               false,
               false,
               false,
               false,
               false,
               false,
               false,
               false,
               false,
               false,
               false,
               false,
               false,
               false,
               false,
               false,
               false,
               false,
               false,
               false,
               false,
               false,
               false,
               false,
               false,
               false,
               false,
               false,
               false,
               false,
               false,
               false,
               false,
               false,
               false,
               false,
               false,
               false,
               false,
               false,
               false,
               false,
               false,
               false,
               false,
               false,
               false,
               false,
               false,
               false,
               false,
               false,
               false,
               false,
               false,
               false,
               false,
               false,
               false,
               false,
               false,
               false,
               false,
               false,
               false,
               true,
               true,
               true,
               true,
               true
              ]
             }
            ],
            "label": "Steyer",
            "method": "update"
           }
          ],
          "direction": "down",
          "pad": {
           "r": 10,
           "t": 10
          },
          "showactive": true,
          "x": -0.15,
          "xanchor": "left",
          "y": 1.04,
          "yanchor": "top"
         }
        ],
        "xaxis": {
         "anchor": "y",
         "domain": [
          0,
          1
         ],
         "tickangle": 45,
         "ticktext": [
          "Candidates who have dropped out",
          "Former party leaders",
          "Mayors",
          "Statewide officeholders",
          "DNC members",
          "Governors",
          "Past nominees",
          "Representatives",
          "Senators",
          "State legislative leaders",
          "Past presidents and vice presidents"
         ],
         "tickvals": [
          "Candidates who have dropped out",
          "Former party leaders",
          "Mayors",
          "Statewide officeholders",
          "DNC members",
          "Governors",
          "Past nominees",
          "Representatives",
          "Senators",
          "State legislative leaders",
          "Past presidents and vice presidents"
         ]
        },
        "xaxis2": {
         "anchor": "y2",
         "domain": [
          0,
          0.45
         ],
         "tickangle": 45,
         "ticktext": [
          "Former 2020 candidate",
          "attorney general",
          "former DNC chair",
          "mayor",
          "DNC member",
          "Democratic caucus chairman",
          "former U.S. Senate majority leader",
          "governor",
          "lieutenant governor",
          "minority leader",
          "past presidential nominee",
          "president",
          "representative",
          "secretary of state",
          "senator",
          "speaker",
          "state treasurer",
          "delegate",
          "insurance commissioner",
          "president pro tem",
          "superintendent of public instruction",
          "past vice president",
          "state auditor",
          "commissioner of labor and industries",
          "former U.S. House Democratic whip",
          "speaker pro tem",
          "state comptroller",
          "state controller"
         ],
         "tickvals": [
          "Former 2020 candidate",
          "attorney general",
          "former DNC chair",
          "mayor",
          "DNC member",
          "Democratic caucus chairman",
          "former U.S. Senate majority leader",
          "governor",
          "lieutenant governor",
          "minority leader",
          "past presidential nominee",
          "president",
          "representative",
          "secretary of state",
          "senator",
          "speaker",
          "state treasurer",
          "delegate",
          "insurance commissioner",
          "president pro tem",
          "superintendent of public instruction",
          "past vice president",
          "state auditor",
          "commissioner of labor and industries",
          "former U.S. House Democratic whip",
          "speaker pro tem",
          "state comptroller",
          "state controller"
         ]
        },
        "xaxis3": {
         "anchor": "y3",
         "domain": [
          0,
          0.45
         ],
         "tickangle": 45,
         "ticktext": [
          "apnews",
          "other",
          "4president",
          "cnn",
          "politico",
          "twitter",
          "usatoday",
          "washingtonpost",
          "youtube",
          "fivethirtyeight"
         ],
         "tickvals": [
          "apnews",
          "other",
          "4president",
          "cnn",
          "politico",
          "twitter",
          "usatoday",
          "washingtonpost",
          "youtube",
          "fivethirtyeight"
         ]
        },
        "yaxis": {
         "anchor": "x",
         "domain": [
          0.7777777777777778,
          1
         ],
         "range": [
          0,
          135
         ]
        },
        "yaxis2": {
         "anchor": "x2",
         "domain": [
          0.3888888888888889,
          0.6111111111111112
         ],
         "range": [
          0,
          135
         ]
        },
        "yaxis3": {
         "anchor": "x3",
         "domain": [
          0,
          0.22222222222222224
         ],
         "range": [
          0,
          50
         ]
        }
       }
      },
      "text/html": [
       "<div>\n",
       "        \n",
       "        \n",
       "            <div id=\"88580bf3-63e3-4c98-9a75-c2916a90302b\" class=\"plotly-graph-div\" style=\"height:1350px; width:100%;\"></div>\n",
       "            <script type=\"text/javascript\">\n",
       "                require([\"plotly\"], function(Plotly) {\n",
       "                    window.PLOTLYENV=window.PLOTLYENV || {};\n",
       "                    \n",
       "                if (document.getElementById(\"88580bf3-63e3-4c98-9a75-c2916a90302b\")) {\n",
       "                    Plotly.newPlot(\n",
       "                        '88580bf3-63e3-4c98-9a75-c2916a90302b',\n",
       "                        [{\"marker\": {\"color\": \"cadetblue\", \"opacity\": 0.9}, \"opacity\": 0.9, \"showlegend\": false, \"text\": [6.0], \"textposition\": \"outside\", \"type\": \"bar\", \"visible\": false, \"x\": [\"Representatives\"], \"xaxis\": \"x\", \"y\": [6], \"yaxis\": \"y\"}, {\"marker\": {\"color\": \"indianred\", \"opacity\": 0.9}, \"opacity\": 0.9, \"showlegend\": false, \"text\": [6.0], \"textposition\": \"outside\", \"type\": \"bar\", \"visible\": false, \"x\": [\"representative\"], \"xaxis\": \"x2\", \"y\": [6], \"yaxis\": \"y2\"}, {\"domain\": {\"x\": [0.55, 1.0], \"y\": [0.3888888888888889, 0.6111111111111112]}, \"hole\": 0.4, \"hoverinfo\": \"label+percent+name\", \"labels\": [\"D\"], \"marker\": {\"colors\": [\"rgb(0, 128, 128)\", \"rgb(112, 164, 148)\", \"rgb(180, 200, 168)\", \"rgb(246, 237, 189)\", \"rgb(237, 187, 138)\", \"rgb(222, 138, 90)\", \"rgb(202, 86, 44)\"]}, \"showlegend\": false, \"text\": [\"D\"], \"textinfo\": \"percent+label\", \"textposition\": \"inside\", \"type\": \"pie\", \"values\": [6], \"visible\": false}, {\"marker\": {\"color\": \"goldenrod\", \"opacity\": 0.9}, \"opacity\": 0.9, \"showlegend\": false, \"text\": [2.0], \"textposition\": \"outside\", \"type\": \"bar\", \"visible\": false, \"x\": [\"twitter\"], \"xaxis\": \"x3\", \"y\": [2], \"yaxis\": \"y3\"}, {\"domain\": {\"x\": [0.55, 1.0], \"y\": [0.0, 0.22222222222222224]}, \"hole\": 0.4, \"hoverinfo\": \"label+percent+name\", \"labels\": [\"CA\", \"MD\"], \"marker\": {\"colors\": [\"rgb(0, 128, 128)\", \"rgb(112, 164, 148)\", \"rgb(180, 200, 168)\", \"rgb(246, 237, 189)\", \"rgb(237, 187, 138)\", \"rgb(222, 138, 90)\", \"rgb(202, 86, 44)\"]}, \"showlegend\": false, \"text\": [\"California\", \"Maryland\"], \"textinfo\": \"percent+label\", \"textposition\": \"inside\", \"type\": \"pie\", \"values\": [1, 1], \"visible\": false}, {\"marker\": {\"color\": \"cadetblue\", \"opacity\": 0.9}, \"opacity\": 0.9, \"showlegend\": false, \"text\": [5.0, 11.0, 20.0, 24.0, 15.0, 5.0, 120.0, 30.0, 12.0, 10.0], \"textposition\": \"outside\", \"type\": \"bar\", \"visible\": true, \"x\": [\"Candidates who have dropped out\", \"DNC members\", \"Former party leaders\", \"Governors\", \"Mayors\", \"Past nominees\", \"Representatives\", \"Senators\", \"State legislative leaders\", \"Statewide officeholders\"], \"xaxis\": \"x\", \"y\": [5, 11, 20, 24, 15, 5, 120, 30, 12, 10], \"yaxis\": \"y\"}, {\"marker\": {\"color\": \"indianred\", \"opacity\": 0.9}, \"opacity\": 0.9, \"showlegend\": false, \"text\": [11.0, 2.0, 5.0, 4.0, 15.0, 5.0, 24.0, 4.0, 15.0, 4.0, 5.0, 2.0, 120.0, 2.0, 30.0, 4.0], \"textposition\": \"outside\", \"type\": \"bar\", \"visible\": true, \"x\": [\"DNC member\", \"Democratic caucus chairman\", \"Former 2020 candidate\", \"attorney general\", \"former DNC chair\", \"former U.S. Senate majority leader\", \"governor\", \"lieutenant governor\", \"mayor\", \"minority leader\", \"past presidential nominee\", \"president\", \"representative\", \"secretary of state\", \"senator\", \"speaker\"], \"xaxis\": \"x2\", \"y\": [11, 2, 5, 4, 15, 5, 24, 4, 15, 4, 5, 2, 120, 2, 30, 4], \"yaxis\": \"y2\"}, {\"domain\": {\"x\": [0.55, 1.0], \"y\": [0.3888888888888889, 0.6111111111111112]}, \"hole\": 0.4, \"hoverinfo\": \"label+percent+name\", \"labels\": [\"D\"], \"marker\": {\"colors\": [\"rgb(0, 128, 128)\", \"rgb(112, 164, 148)\", \"rgb(180, 200, 168)\", \"rgb(246, 237, 189)\", \"rgb(237, 187, 138)\", \"rgb(222, 138, 90)\", \"rgb(202, 86, 44)\"]}, \"showlegend\": false, \"text\": [\"D\"], \"textinfo\": \"percent+label\", \"textposition\": \"inside\", \"type\": \"pie\", \"values\": [252], \"visible\": true}, {\"marker\": {\"color\": \"goldenrod\", \"opacity\": 0.9}, \"opacity\": 0.9, \"showlegend\": false, \"text\": [7.0, 3.0, 2.0, 35.0, 11.0, 22.0, 1.0], \"textposition\": \"outside\", \"type\": \"bar\", \"visible\": true, \"x\": [\"4president\", \"apnews\", \"cnn\", \"other\", \"politico\", \"twitter\", \"usatoday\"], \"xaxis\": \"x3\", \"y\": [7, 3, 2, 35, 11, 22, 1], \"yaxis\": \"y3\"}, {\"domain\": {\"x\": [0.55, 1.0], \"y\": [0.0, 0.22222222222222224]}, \"hole\": 0.4, \"hoverinfo\": \"label+percent+name\", \"labels\": [\"AL\", \"AR\", \"CA\", \"CO\", \"CT\", \"DC\", \"DE\", \"FL\", \"GA\", \"IA\", \"IL\", \"LA\", \"MA\", \"MI\", \"MO\", \"MS\", \"NC\", \"NH\", \"NJ\", \"NV\", \"NY\", \"OH\", \"OR\", \"PA\", \"PR\", \"RI\", \"SD\", \"TN\", \"TX\", \"VA\"], \"marker\": {\"colors\": [\"rgb(0, 128, 128)\", \"rgb(112, 164, 148)\", \"rgb(180, 200, 168)\", \"rgb(246, 237, 189)\", \"rgb(237, 187, 138)\", \"rgb(222, 138, 90)\", \"rgb(202, 86, 44)\"]}, \"showlegend\": false, \"text\": [\"Alabama\", \"Arkansas\", \"California\", \"Colorado\", \"Connecticut\", \"District of Columbia\", \"Delaware\", \"Florida\", \"Georgia\", \"Iowa\", \"Illinois\", \"Louisiana\", \"Massachusetts\", \"Michigan\", \"Missouri\", \"Mississippi\", \"North Carolina\", \"New Hampshire\", \"New Jersey\", \"Nevada\", \"New York\", \"Ohio\", \"Oregon\", \"Pennsylvania\", null, \"Rhode Island\", \"South Dakota\", \"Tennessee\", \"Texas\", \"Virginia\"], \"textinfo\": \"percent+label\", \"textposition\": \"inside\", \"type\": \"pie\", \"values\": [2, 1, 12, 1, 3, 2, 5, 5, 2, 4, 2, 1, 4, 2, 1, 1, 2, 3, 2, 1, 3, 1, 1, 7, 1, 2, 1, 1, 5, 3], \"visible\": true}, {\"marker\": {\"color\": \"cadetblue\", \"opacity\": 0.9}, \"opacity\": 0.9, \"showlegend\": false, \"text\": [1.0, 3.0], \"textposition\": \"outside\", \"type\": \"bar\", \"visible\": false, \"x\": [\"DNC members\", \"Mayors\"], \"xaxis\": \"x\", \"y\": [1, 3], \"yaxis\": \"y\"}, {\"marker\": {\"color\": \"indianred\", \"opacity\": 0.9}, \"opacity\": 0.9, \"showlegend\": false, \"text\": [1.0, 3.0], \"textposition\": \"outside\", \"type\": \"bar\", \"visible\": false, \"x\": [\"DNC member\", \"mayor\"], \"xaxis\": \"x2\", \"y\": [1, 3], \"yaxis\": \"y2\"}, {\"domain\": {\"x\": [0.55, 1.0], \"y\": [0.3888888888888889, 0.6111111111111112]}, \"hole\": 0.4, \"hoverinfo\": \"label+percent+name\", \"labels\": [\"D\"], \"marker\": {\"colors\": [\"rgb(0, 128, 128)\", \"rgb(112, 164, 148)\", \"rgb(180, 200, 168)\", \"rgb(246, 237, 189)\", \"rgb(237, 187, 138)\", \"rgb(222, 138, 90)\", \"rgb(202, 86, 44)\"]}, \"showlegend\": false, \"text\": [\"D\"], \"textinfo\": \"percent+label\", \"textposition\": \"inside\", \"type\": \"pie\", \"values\": [1], \"visible\": false}, {\"marker\": {\"color\": \"goldenrod\", \"opacity\": 0.9}, \"opacity\": 0.9, \"showlegend\": false, \"text\": [1.0, 1.0], \"textposition\": \"outside\", \"type\": \"bar\", \"visible\": false, \"x\": [\"4president\", \"other\"], \"xaxis\": \"x3\", \"y\": [1, 1], \"yaxis\": \"y3\"}, {\"domain\": {\"x\": [0.55, 1.0], \"y\": [0.0, 0.22222222222222224]}, \"hole\": 0.4, \"hoverinfo\": \"label+percent+name\", \"labels\": [\"TX\"], \"marker\": {\"colors\": [\"rgb(0, 128, 128)\", \"rgb(112, 164, 148)\", \"rgb(180, 200, 168)\", \"rgb(246, 237, 189)\", \"rgb(237, 187, 138)\", \"rgb(222, 138, 90)\", \"rgb(202, 86, 44)\"]}, \"showlegend\": false, \"text\": [\"Texas\"], \"textinfo\": \"percent+label\", \"textposition\": \"inside\", \"type\": \"pie\", \"values\": [2], \"visible\": false}, {\"marker\": {\"color\": \"cadetblue\", \"opacity\": 0.9}, \"opacity\": 0.9, \"showlegend\": false, \"text\": [2.0, 8.0, 3.0, 39.0, 6.0, 8.0], \"textposition\": \"outside\", \"type\": \"bar\", \"visible\": false, \"x\": [\"DNC members\", \"Governors\", \"Mayors\", \"Representatives\", \"State legislative leaders\", \"Statewide officeholders\"], \"xaxis\": \"x\", \"y\": [2, 8, 3, 39, 6, 8], \"yaxis\": \"y\"}, {\"marker\": {\"color\": \"indianred\", \"opacity\": 0.9}, \"opacity\": 0.9, \"showlegend\": false, \"text\": [2.0, 2.0, 3.0, 8.0, 2.0, 2.0, 3.0, 2.0, 2.0, 36.0, 2.0, 2.0], \"textposition\": \"outside\", \"type\": \"bar\", \"visible\": false, \"x\": [\"DNC member\", \"attorney general\", \"delegate\", \"governor\", \"insurance commissioner\", \"lieutenant governor\", \"mayor\", \"minority leader\", \"president pro tem\", \"representative\", \"speaker\", \"superintendent of public instruction\"], \"xaxis\": \"x2\", \"y\": [2, 2, 3, 8, 2, 2, 3, 2, 2, 36, 2, 2], \"yaxis\": \"y2\"}, {\"domain\": {\"x\": [0.55, 1.0], \"y\": [0.3888888888888889, 0.6111111111111112]}, \"hole\": 0.4, \"hoverinfo\": \"label+percent+name\", \"labels\": [\"D\"], \"marker\": {\"colors\": [\"rgb(0, 128, 128)\", \"rgb(112, 164, 148)\", \"rgb(180, 200, 168)\", \"rgb(246, 237, 189)\", \"rgb(237, 187, 138)\", \"rgb(222, 138, 90)\", \"rgb(202, 86, 44)\"]}, \"showlegend\": false, \"text\": [\"D\"], \"textinfo\": \"percent+label\", \"textposition\": \"inside\", \"type\": \"pie\", \"values\": [66], \"visible\": false}, {\"marker\": {\"color\": \"goldenrod\", \"opacity\": 0.9}, \"opacity\": 0.9, \"showlegend\": false, \"text\": [1.0, 2.0, 9.0, 8.0, 3.0, 1.0], \"textposition\": \"outside\", \"type\": \"bar\", \"visible\": false, \"x\": [\"4president\", \"cnn\", \"other\", \"politico\", \"twitter\", \"washingtonpost\"], \"xaxis\": \"x3\", \"y\": [1, 2, 9, 8, 3, 1], \"yaxis\": \"y3\"}, {\"domain\": {\"x\": [0.55, 1.0], \"y\": [0.0, 0.22222222222222224]}, \"hole\": 0.4, \"hoverinfo\": \"label+percent+name\", \"labels\": [\"AZ\", \"CA\", \"CT\", \"DC\", \"GA\", \"MI\", \"MO\", \"OH\", \"TX\", \"VI\"], \"marker\": {\"colors\": [\"rgb(0, 128, 128)\", \"rgb(112, 164, 148)\", \"rgb(180, 200, 168)\", \"rgb(246, 237, 189)\", \"rgb(237, 187, 138)\", \"rgb(222, 138, 90)\", \"rgb(202, 86, 44)\"]}, \"showlegend\": false, \"text\": [\"Arizona\", \"California\", \"Connecticut\", \"District of Columbia\", \"Georgia\", \"Michigan\", \"Missouri\", \"Ohio\", \"Texas\", null], \"textinfo\": \"percent+label\", \"textposition\": \"inside\", \"type\": \"pie\", \"values\": [1, 14, 1, 1, 1, 1, 1, 1, 2, 1], \"visible\": false}, {\"marker\": {\"color\": \"cadetblue\", \"opacity\": 0.9}, \"opacity\": 0.9, \"showlegend\": false, \"text\": [11.0, 3.0, 21.0, 6.0, 4.0, 10.0], \"textposition\": \"outside\", \"type\": \"bar\", \"visible\": false, \"x\": [\"DNC members\", \"Mayors\", \"Representatives\", \"Senators\", \"State legislative leaders\", \"Statewide officeholders\"], \"xaxis\": \"x\", \"y\": [11, 3, 21, 6, 4, 10], \"yaxis\": \"y\"}, {\"marker\": {\"color\": \"indianred\", \"opacity\": 0.9}, \"opacity\": 0.9, \"showlegend\": false, \"text\": [11.0, 4.0, 2.0, 3.0, 2.0, 2.0, 21.0, 6.0, 2.0, 2.0], \"textposition\": \"outside\", \"type\": \"bar\", \"visible\": false, \"x\": [\"DNC member\", \"attorney general\", \"lieutenant governor\", \"mayor\", \"president\", \"president pro tem\", \"representative\", \"senator\", \"state auditor\", \"state treasurer\"], \"xaxis\": \"x2\", \"y\": [11, 4, 2, 3, 2, 2, 21, 6, 2, 2], \"yaxis\": \"y2\"}, {\"domain\": {\"x\": [0.55, 1.0], \"y\": [0.3888888888888889, 0.6111111111111112]}, \"hole\": 0.4, \"hoverinfo\": \"label+percent+name\", \"labels\": [\"D\"], \"marker\": {\"colors\": [\"rgb(0, 128, 128)\", \"rgb(112, 164, 148)\", \"rgb(180, 200, 168)\", \"rgb(246, 237, 189)\", \"rgb(237, 187, 138)\", \"rgb(222, 138, 90)\", \"rgb(202, 86, 44)\"]}, \"showlegend\": false, \"text\": [\"D\"], \"textinfo\": \"percent+label\", \"textposition\": \"inside\", \"type\": \"pie\", \"values\": [55], \"visible\": false}, {\"marker\": {\"color\": \"goldenrod\", \"opacity\": 0.9}, \"opacity\": 0.9, \"showlegend\": false, \"text\": [2.0, 1.0, 8.0, 14.0, 1.0, 1.0], \"textposition\": \"outside\", \"type\": \"bar\", \"visible\": false, \"x\": [\"apnews\", \"fivethirtyeight\", \"other\", \"twitter\", \"washingtonpost\", \"youtube\"], \"xaxis\": \"x3\", \"y\": [2, 1, 8, 14, 1, 1], \"yaxis\": \"y3\"}, {\"domain\": {\"x\": [0.55, 1.0], \"y\": [0.0, 0.22222222222222224]}, \"hole\": 0.4, \"hoverinfo\": \"label+percent+name\", \"labels\": [\"CA\", \"CO\", \"DC\", \"GA\", \"ME\", \"MI\", \"MN\", \"MO\", \"NY\", \"OH\", \"PR\", \"VT\", \"WA\", \"WI\"], \"marker\": {\"colors\": [\"rgb(0, 128, 128)\", \"rgb(112, 164, 148)\", \"rgb(180, 200, 168)\", \"rgb(246, 237, 189)\", \"rgb(237, 187, 138)\", \"rgb(222, 138, 90)\", \"rgb(202, 86, 44)\"]}, \"showlegend\": false, \"text\": [\"California\", \"Colorado\", \"District of Columbia\", \"Georgia\", \"Maine\", \"Michigan\", \"Minnesota\", \"Missouri\", \"New York\", \"Ohio\", null, \"Vermont\", \"Washington\", \"Wisconsin\"], \"textinfo\": \"percent+label\", \"textposition\": \"inside\", \"type\": \"pie\", \"values\": [2, 2, 2, 1, 1, 2, 2, 2, 1, 1, 1, 8, 1, 1], \"visible\": false}, {\"marker\": {\"color\": \"cadetblue\", \"opacity\": 0.9}, \"opacity\": 0.9, \"showlegend\": false, \"text\": [7.0, 8.0, 27.0, 6.0, 4.0, 2.0], \"textposition\": \"outside\", \"type\": \"bar\", \"visible\": false, \"x\": [\"DNC members\", \"Governors\", \"Representatives\", \"Senators\", \"State legislative leaders\", \"Statewide officeholders\"], \"xaxis\": \"x\", \"y\": [7, 8, 27, 6, 4, 2], \"yaxis\": \"y\"}, {\"marker\": {\"color\": \"indianred\", \"opacity\": 0.9}, \"opacity\": 0.9, \"showlegend\": false, \"text\": [7.0, 8.0, 2.0, 2.0, 27.0, 6.0, 2.0], \"textposition\": \"outside\", \"type\": \"bar\", \"visible\": false, \"x\": [\"DNC member\", \"governor\", \"lieutenant governor\", \"president\", \"representative\", \"senator\", \"speaker\"], \"xaxis\": \"x2\", \"y\": [7, 8, 2, 2, 27, 6, 2], \"yaxis\": \"y2\"}, {\"domain\": {\"x\": [0.55, 1.0], \"y\": [0.3888888888888889, 0.6111111111111112]}, \"hole\": 0.4, \"hoverinfo\": \"label+percent+name\", \"labels\": [\"D\", \"R\"], \"marker\": {\"colors\": [\"rgb(0, 128, 128)\", \"rgb(112, 164, 148)\", \"rgb(180, 200, 168)\", \"rgb(246, 237, 189)\", \"rgb(237, 187, 138)\", \"rgb(222, 138, 90)\", \"rgb(202, 86, 44)\"]}, \"showlegend\": false, \"text\": [\"D\", \"R\"], \"textinfo\": \"percent+label\", \"textposition\": \"inside\", \"type\": \"pie\", \"values\": [51, 3], \"visible\": false}, {\"marker\": {\"color\": \"goldenrod\", \"opacity\": 0.9}, \"opacity\": 0.9, \"showlegend\": false, \"text\": [19.0, 2.0], \"textposition\": \"outside\", \"type\": \"bar\", \"visible\": false, \"x\": [\"other\", \"twitter\"], \"xaxis\": \"x3\", \"y\": [19, 2], \"yaxis\": \"y3\"}, {\"domain\": {\"x\": [0.55, 1.0], \"y\": [0.0, 0.22222222222222224]}, \"hole\": 0.4, \"hoverinfo\": \"label+percent+name\", \"labels\": [\"FL\", \"NJ\", \"SC\"], \"marker\": {\"colors\": [\"rgb(0, 128, 128)\", \"rgb(112, 164, 148)\", \"rgb(180, 200, 168)\", \"rgb(246, 237, 189)\", \"rgb(237, 187, 138)\", \"rgb(222, 138, 90)\", \"rgb(202, 86, 44)\"]}, \"showlegend\": false, \"text\": [\"Florida\", \"New Jersey\", \"South Carolina\"], \"textinfo\": \"percent+label\", \"textposition\": \"inside\", \"type\": \"pie\", \"values\": [1, 19, 1], \"visible\": false}, {\"marker\": {\"color\": \"cadetblue\", \"opacity\": 0.9}, \"opacity\": 0.9, \"showlegend\": false, \"text\": [8.0, 6.0, 10.0, 15.0, 6.0, 4.0, 4.0], \"textposition\": \"outside\", \"type\": \"bar\", \"visible\": false, \"x\": [\"Governors\", \"Mayors\", \"Past presidents and vice presidents\", \"Representatives\", \"Senators\", \"State legislative leaders\", \"Statewide officeholders\"], \"xaxis\": \"x\", \"y\": [8, 6, 10, 15, 6, 4, 4], \"yaxis\": \"y\"}, {\"marker\": {\"color\": \"indianred\", \"opacity\": 0.9}, \"opacity\": 0.9, \"showlegend\": false, \"text\": [8.0, 2.0, 6.0, 2.0, 10.0, 15.0, 6.0, 2.0, 2.0], \"textposition\": \"outside\", \"type\": \"bar\", \"visible\": false, \"x\": [\"governor\", \"lieutenant governor\", \"mayor\", \"minority leader\", \"past vice president\", \"representative\", \"senator\", \"speaker\", \"state auditor\"], \"xaxis\": \"x2\", \"y\": [8, 2, 6, 2, 10, 15, 6, 2, 2], \"yaxis\": \"y2\"}, {\"domain\": {\"x\": [0.55, 1.0], \"y\": [0.3888888888888889, 0.6111111111111112]}, \"hole\": 0.4, \"hoverinfo\": \"label+percent+name\", \"labels\": [\"D\"], \"marker\": {\"colors\": [\"rgb(0, 128, 128)\", \"rgb(112, 164, 148)\", \"rgb(180, 200, 168)\", \"rgb(246, 237, 189)\", \"rgb(237, 187, 138)\", \"rgb(222, 138, 90)\", \"rgb(202, 86, 44)\"]}, \"showlegend\": false, \"text\": [\"D\"], \"textinfo\": \"percent+label\", \"textposition\": \"inside\", \"type\": \"pie\", \"values\": [53], \"visible\": false}, {\"marker\": {\"color\": \"goldenrod\", \"opacity\": 0.9}, \"opacity\": 0.9, \"showlegend\": false, \"text\": [2.0, 5.0, 5.0, 2.0], \"textposition\": \"outside\", \"type\": \"bar\", \"visible\": false, \"x\": [\"4president\", \"other\", \"twitter\", \"youtube\"], \"xaxis\": \"x3\", \"y\": [2, 5, 5, 2], \"yaxis\": \"y3\"}, {\"domain\": {\"x\": [0.55, 1.0], \"y\": [0.0, 0.22222222222222224]}, \"hole\": 0.4, \"hoverinfo\": \"label+percent+name\", \"labels\": [\"CA\", \"MN\"], \"marker\": {\"colors\": [\"rgb(0, 128, 128)\", \"rgb(112, 164, 148)\", \"rgb(180, 200, 168)\", \"rgb(246, 237, 189)\", \"rgb(237, 187, 138)\", \"rgb(222, 138, 90)\", \"rgb(202, 86, 44)\"]}, \"showlegend\": false, \"text\": [\"California\", \"Minnesota\"], \"textinfo\": \"percent+label\", \"textposition\": \"inside\", \"type\": \"pie\", \"values\": [1, 13], \"visible\": false}, {\"marker\": {\"color\": \"cadetblue\", \"opacity\": 0.9}, \"opacity\": 0.9, \"showlegend\": false, \"text\": [5.0, 5.0, 5.0, 3.0, 5.0, 36.0, 6.0, 8.0, 14.0], \"textposition\": \"outside\", \"type\": \"bar\", \"visible\": false, \"x\": [\"Candidates who have dropped out\", \"DNC members\", \"Former party leaders\", \"Mayors\", \"Past nominees\", \"Representatives\", \"Senators\", \"State legislative leaders\", \"Statewide officeholders\"], \"xaxis\": \"x\", \"y\": [5, 5, 5, 3, 5, 36, 6, 8, 14], \"yaxis\": \"y\"}, {\"marker\": {\"color\": \"indianred\", \"opacity\": 0.9}, \"opacity\": 0.9, \"showlegend\": false, \"text\": [5.0, 5.0, 2.0, 2.0, 5.0, 3.0, 2.0, 5.0, 2.0, 36.0, 2.0, 6.0, 2.0, 2.0, 2.0, 2.0, 4.0], \"textposition\": \"outside\", \"type\": \"bar\", \"visible\": false, \"x\": [\"DNC member\", \"Former 2020 candidate\", \"attorney general\", \"commissioner of labor and industries\", \"former U.S. House Democratic whip\", \"mayor\", \"minority leader\", \"past presidential nominee\", \"president\", \"representative\", \"secretary of state\", \"senator\", \"speaker\", \"speaker pro tem\", \"state comptroller\", \"state controller\", \"state treasurer\"], \"xaxis\": \"x2\", \"y\": [5, 5, 2, 2, 5, 3, 2, 5, 2, 36, 2, 6, 2, 2, 2, 2, 4], \"yaxis\": \"y2\"}, {\"domain\": {\"x\": [0.55, 1.0], \"y\": [0.3888888888888889, 0.6111111111111112]}, \"hole\": 0.4, \"hoverinfo\": \"label+percent+name\", \"labels\": [\"D\"], \"marker\": {\"colors\": [\"rgb(0, 128, 128)\", \"rgb(112, 164, 148)\", \"rgb(180, 200, 168)\", \"rgb(246, 237, 189)\", \"rgb(237, 187, 138)\", \"rgb(222, 138, 90)\", \"rgb(202, 86, 44)\"]}, \"showlegend\": false, \"text\": [\"D\"], \"textinfo\": \"percent+label\", \"textposition\": \"inside\", \"type\": \"pie\", \"values\": [87], \"visible\": false}, {\"marker\": {\"color\": \"goldenrod\", \"opacity\": 0.9}, \"opacity\": 0.9, \"showlegend\": false, \"text\": [1.0, 1.0, 16.0, 15.0], \"textposition\": \"outside\", \"type\": \"bar\", \"visible\": false, \"x\": [\"apnews\", \"fivethirtyeight\", \"other\", \"twitter\"], \"xaxis\": \"x3\", \"y\": [1, 1, 16, 15], \"yaxis\": \"y3\"}, {\"domain\": {\"x\": [0.55, 1.0], \"y\": [0.0, 0.22222222222222224]}, \"hole\": 0.4, \"hoverinfo\": \"label+percent+name\", \"labels\": [\"AZ\", \"CA\", \"CT\", \"IA\", \"IL\", \"MA\", \"MD\", \"MI\", \"NH\", \"NM\", \"NV\", \"OR\", \"PA\", \"TX\"], \"marker\": {\"colors\": [\"rgb(0, 128, 128)\", \"rgb(112, 164, 148)\", \"rgb(180, 200, 168)\", \"rgb(246, 237, 189)\", \"rgb(237, 187, 138)\", \"rgb(222, 138, 90)\", \"rgb(202, 86, 44)\"]}, \"showlegend\": false, \"text\": [\"Arizona\", \"California\", \"Connecticut\", \"Iowa\", \"Illinois\", \"Massachusetts\", \"Maryland\", \"Michigan\", \"New Hampshire\", \"New Mexico\", \"Nevada\", \"Oregon\", \"Pennsylvania\", \"Texas\"], \"textinfo\": \"percent+label\", \"textposition\": \"inside\", \"type\": \"pie\", \"values\": [1, 1, 2, 2, 2, 10, 1, 2, 1, 1, 3, 2, 1, 4], \"visible\": false}, {\"marker\": {\"color\": \"cadetblue\", \"opacity\": 0.9}, \"opacity\": 0.9, \"showlegend\": false, \"text\": [9.0, 2.0], \"textposition\": \"outside\", \"type\": \"bar\", \"visible\": false, \"x\": [\"Representatives\", \"Statewide officeholders\"], \"xaxis\": \"x\", \"y\": [9, 2], \"yaxis\": \"y\"}, {\"marker\": {\"color\": \"indianred\", \"opacity\": 0.9}, \"opacity\": 0.9, \"showlegend\": false, \"text\": [2.0, 9.0], \"textposition\": \"outside\", \"type\": \"bar\", \"visible\": false, \"x\": [\"attorney general\", \"representative\"], \"xaxis\": \"x2\", \"y\": [2, 9], \"yaxis\": \"y2\"}, {\"domain\": {\"x\": [0.55, 1.0], \"y\": [0.3888888888888889, 0.6111111111111112]}, \"hole\": 0.4, \"hoverinfo\": \"label+percent+name\", \"labels\": [\"D\"], \"marker\": {\"colors\": [\"rgb(0, 128, 128)\", \"rgb(112, 164, 148)\", \"rgb(180, 200, 168)\", \"rgb(246, 237, 189)\", \"rgb(237, 187, 138)\", \"rgb(222, 138, 90)\", \"rgb(202, 86, 44)\"]}, \"showlegend\": false, \"text\": [\"D\"], \"textinfo\": \"percent+label\", \"textposition\": \"inside\", \"type\": \"pie\", \"values\": [11], \"visible\": false}, {\"marker\": {\"color\": \"goldenrod\", \"opacity\": 0.9}, \"opacity\": 0.9, \"showlegend\": false, \"text\": [2.0, 2.0], \"textposition\": \"outside\", \"type\": \"bar\", \"visible\": false, \"x\": [\"other\", \"twitter\"], \"xaxis\": \"x3\", \"y\": [2, 2], \"yaxis\": \"y3\"}, {\"domain\": {\"x\": [0.55, 1.0], \"y\": [0.0, 0.22222222222222224]}, \"hole\": 0.4, \"hoverinfo\": \"label+percent+name\", \"labels\": [\"WA\"], \"marker\": {\"colors\": [\"rgb(0, 128, 128)\", \"rgb(112, 164, 148)\", \"rgb(180, 200, 168)\", \"rgb(246, 237, 189)\", \"rgb(237, 187, 138)\", \"rgb(222, 138, 90)\", \"rgb(202, 86, 44)\"]}, \"showlegend\": false, \"text\": [\"Washington\"], \"textinfo\": \"percent+label\", \"textposition\": \"inside\", \"type\": \"pie\", \"values\": [4], \"visible\": false}, {\"marker\": {\"color\": \"cadetblue\", \"opacity\": 0.9}, \"opacity\": 0.9, \"showlegend\": false, \"text\": [3.0], \"textposition\": \"outside\", \"type\": \"bar\", \"visible\": false, \"x\": [\"Representatives\"], \"xaxis\": \"x\", \"y\": [3], \"yaxis\": \"y\"}, {\"marker\": {\"color\": \"indianred\", \"opacity\": 0.9}, \"opacity\": 0.9, \"showlegend\": false, \"text\": [3.0], \"textposition\": \"outside\", \"type\": \"bar\", \"visible\": false, \"x\": [\"representative\"], \"xaxis\": \"x2\", \"y\": [3], \"yaxis\": \"y2\"}, {\"domain\": {\"x\": [0.55, 1.0], \"y\": [0.3888888888888889, 0.6111111111111112]}, \"hole\": 0.4, \"hoverinfo\": \"label+percent+name\", \"labels\": [\"D\"], \"marker\": {\"colors\": [\"rgb(0, 128, 128)\", \"rgb(112, 164, 148)\", \"rgb(180, 200, 168)\", \"rgb(246, 237, 189)\", \"rgb(237, 187, 138)\", \"rgb(222, 138, 90)\", \"rgb(202, 86, 44)\"]}, \"showlegend\": false, \"text\": [\"D\"], \"textinfo\": \"percent+label\", \"textposition\": \"inside\", \"type\": \"pie\", \"values\": [3], \"visible\": false}, {\"marker\": {\"color\": \"goldenrod\", \"opacity\": 0.9}, \"opacity\": 0.9, \"showlegend\": false, \"text\": [1.0], \"textposition\": \"outside\", \"type\": \"bar\", \"visible\": false, \"x\": [\"other\"], \"xaxis\": \"x3\", \"y\": [1], \"yaxis\": \"y3\"}, {\"domain\": {\"x\": [0.55, 1.0], \"y\": [0.0, 0.22222222222222224]}, \"hole\": 0.4, \"hoverinfo\": \"label+percent+name\", \"labels\": [\"TX\"], \"marker\": {\"colors\": [\"rgb(0, 128, 128)\", \"rgb(112, 164, 148)\", \"rgb(180, 200, 168)\", \"rgb(246, 237, 189)\", \"rgb(237, 187, 138)\", \"rgb(222, 138, 90)\", \"rgb(202, 86, 44)\"]}, \"showlegend\": false, \"text\": [\"Texas\"], \"textinfo\": \"percent+label\", \"textposition\": \"inside\", \"type\": \"pie\", \"values\": [1], \"visible\": false}, {\"marker\": {\"color\": \"cadetblue\", \"opacity\": 0.9}, \"opacity\": 0.9, \"showlegend\": false, \"text\": [3.0], \"textposition\": \"outside\", \"type\": \"bar\", \"visible\": false, \"x\": [\"Representatives\"], \"xaxis\": \"x\", \"y\": [3], \"yaxis\": \"y\"}, {\"marker\": {\"color\": \"indianred\", \"opacity\": 0.9}, \"opacity\": 0.9, \"showlegend\": false, \"text\": [3.0], \"textposition\": \"outside\", \"type\": \"bar\", \"visible\": false, \"x\": [\"representative\"], \"xaxis\": \"x2\", \"y\": [3], \"yaxis\": \"y2\"}, {\"domain\": {\"x\": [0.55, 1.0], \"y\": [0.3888888888888889, 0.6111111111111112]}, \"hole\": 0.4, \"hoverinfo\": \"label+percent+name\", \"labels\": [\"D\"], \"marker\": {\"colors\": [\"rgb(0, 128, 128)\", \"rgb(112, 164, 148)\", \"rgb(180, 200, 168)\", \"rgb(246, 237, 189)\", \"rgb(237, 187, 138)\", \"rgb(222, 138, 90)\", \"rgb(202, 86, 44)\"]}, \"showlegend\": false, \"text\": [\"D\"], \"textinfo\": \"percent+label\", \"textposition\": \"inside\", \"type\": \"pie\", \"values\": [3], \"visible\": false}, {\"marker\": {\"color\": \"goldenrod\", \"opacity\": 0.9}, \"opacity\": 0.9, \"showlegend\": false, \"text\": [1.0], \"textposition\": \"outside\", \"type\": \"bar\", \"visible\": false, \"x\": [\"twitter\"], \"xaxis\": \"x3\", \"y\": [1], \"yaxis\": \"y3\"}, {\"domain\": {\"x\": [0.55, 1.0], \"y\": [0.0, 0.22222222222222224]}, \"hole\": 0.4, \"hoverinfo\": \"label+percent+name\", \"labels\": [\"NY\"], \"marker\": {\"colors\": [\"rgb(0, 128, 128)\", \"rgb(112, 164, 148)\", \"rgb(180, 200, 168)\", \"rgb(246, 237, 189)\", \"rgb(237, 187, 138)\", \"rgb(222, 138, 90)\", \"rgb(202, 86, 44)\"]}, \"showlegend\": false, \"text\": [\"New York\"], \"textinfo\": \"percent+label\", \"textposition\": \"inside\", \"type\": \"pie\", \"values\": [1], \"visible\": false}, {\"marker\": {\"color\": \"cadetblue\", \"opacity\": 0.9}, \"opacity\": 0.9, \"showlegend\": false, \"text\": [3.0, 5.0, 6.0, 18.0, 4.0], \"textposition\": \"outside\", \"type\": \"bar\", \"visible\": false, \"x\": [\"DNC members\", \"Former party leaders\", \"Mayors\", \"Representatives\", \"State legislative leaders\"], \"xaxis\": \"x\", \"y\": [3, 5, 6, 18, 4], \"yaxis\": \"y\"}, {\"marker\": {\"color\": \"indianred\", \"opacity\": 0.9}, \"opacity\": 0.9, \"showlegend\": false, \"text\": [3.0, 5.0, 6.0, 4.0, 18.0], \"textposition\": \"outside\", \"type\": \"bar\", \"visible\": false, \"x\": [\"DNC member\", \"former DNC chair\", \"mayor\", \"minority leader\", \"representative\"], \"xaxis\": \"x2\", \"y\": [3, 5, 6, 4, 18], \"yaxis\": \"y2\"}, {\"domain\": {\"x\": [0.55, 1.0], \"y\": [0.3888888888888889, 0.6111111111111112]}, \"hole\": 0.4, \"hoverinfo\": \"label+percent+name\", \"labels\": [\"D\"], \"marker\": {\"colors\": [\"rgb(0, 128, 128)\", \"rgb(112, 164, 148)\", \"rgb(180, 200, 168)\", \"rgb(246, 237, 189)\", \"rgb(237, 187, 138)\", \"rgb(222, 138, 90)\", \"rgb(202, 86, 44)\"]}, \"showlegend\": false, \"text\": [\"D\"], \"textinfo\": \"percent+label\", \"textposition\": \"inside\", \"type\": \"pie\", \"values\": [36], \"visible\": false}, {\"marker\": {\"color\": \"goldenrod\", \"opacity\": 0.9}, \"opacity\": 0.9, \"showlegend\": false, \"text\": [1.0, 8.0, 1.0, 2.0, 2.0], \"textposition\": \"outside\", \"type\": \"bar\", \"visible\": false, \"x\": [\"cnn\", \"other\", \"twitter\", \"usatoday\", \"washingtonpost\"], \"xaxis\": \"x3\", \"y\": [1, 8, 1, 2, 2], \"yaxis\": \"y3\"}, {\"domain\": {\"x\": [0.55, 1.0], \"y\": [0.0, 0.22222222222222224]}, \"hole\": 0.4, \"hoverinfo\": \"label+percent+name\", \"labels\": [\"DC\", \"IA\", \"IN\", \"MA\", \"MD\", \"MI\", \"ND\", \"NH\", \"NY\", \"OH\", \"TN\", \"TX\", \"VA\"], \"marker\": {\"colors\": [\"rgb(0, 128, 128)\", \"rgb(112, 164, 148)\", \"rgb(180, 200, 168)\", \"rgb(246, 237, 189)\", \"rgb(237, 187, 138)\", \"rgb(222, 138, 90)\", \"rgb(202, 86, 44)\"]}, \"showlegend\": false, \"text\": [\"District of Columbia\", \"Iowa\", \"Indiana\", \"Massachusetts\", \"Maryland\", \"Michigan\", \"North Dakota\", \"New Hampshire\", \"New York\", \"Ohio\", \"Tennessee\", \"Texas\", \"Virginia\"], \"textinfo\": \"percent+label\", \"textposition\": \"inside\", \"type\": \"pie\", \"values\": [1, 1, 1, 1, 1, 1, 1, 1, 1, 2, 1, 1, 1], \"visible\": false}, {\"marker\": {\"color\": \"cadetblue\", \"opacity\": 0.9}, \"opacity\": 0.9, \"showlegend\": false, \"text\": [1.0, 6.0], \"textposition\": \"outside\", \"type\": \"bar\", \"visible\": false, \"x\": [\"DNC members\", \"Senators\"], \"xaxis\": \"x\", \"y\": [1, 6], \"yaxis\": \"y\"}, {\"marker\": {\"color\": \"indianred\", \"opacity\": 0.9}, \"opacity\": 0.9, \"showlegend\": false, \"text\": [1.0, 6.0], \"textposition\": \"outside\", \"type\": \"bar\", \"visible\": false, \"x\": [\"DNC member\", \"senator\"], \"xaxis\": \"x2\", \"y\": [1, 6], \"yaxis\": \"y2\"}, {\"domain\": {\"x\": [0.55, 1.0], \"y\": [0.3888888888888889, 0.6111111111111112]}, \"hole\": 0.4, \"hoverinfo\": \"label+percent+name\", \"labels\": [\"D\"], \"marker\": {\"colors\": [\"rgb(0, 128, 128)\", \"rgb(112, 164, 148)\", \"rgb(180, 200, 168)\", \"rgb(246, 237, 189)\", \"rgb(237, 187, 138)\", \"rgb(222, 138, 90)\", \"rgb(202, 86, 44)\"]}, \"showlegend\": false, \"text\": [\"D\"], \"textinfo\": \"percent+label\", \"textposition\": \"inside\", \"type\": \"pie\", \"values\": [7], \"visible\": false}, {\"marker\": {\"color\": \"goldenrod\", \"opacity\": 0.9}, \"opacity\": 0.9, \"showlegend\": false, \"text\": [1.0, 1.0], \"textposition\": \"outside\", \"type\": \"bar\", \"visible\": false, \"x\": [\"other\", \"politico\"], \"xaxis\": \"x3\", \"y\": [1, 1], \"yaxis\": \"y3\"}, {\"domain\": {\"x\": [0.55, 1.0], \"y\": [0.0, 0.22222222222222224]}, \"hole\": 0.4, \"hoverinfo\": \"label+percent+name\", \"labels\": [\"IA\", \"MT\"], \"marker\": {\"colors\": [\"rgb(0, 128, 128)\", \"rgb(112, 164, 148)\", \"rgb(180, 200, 168)\", \"rgb(246, 237, 189)\", \"rgb(237, 187, 138)\", \"rgb(222, 138, 90)\", \"rgb(202, 86, 44)\"]}, \"showlegend\": false, \"text\": [\"Iowa\", \"Montana\"], \"textinfo\": \"percent+label\", \"textposition\": \"inside\", \"type\": \"pie\", \"values\": [1, 1], \"visible\": false}, {\"marker\": {\"color\": \"cadetblue\", \"opacity\": 0.9}, \"opacity\": 0.9, \"showlegend\": false, \"text\": [5.0, 5.0, 3.0, 2.0], \"textposition\": \"outside\", \"type\": \"bar\", \"visible\": false, \"x\": [\"Candidates who have dropped out\", \"Former party leaders\", \"Mayors\", \"Statewide officeholders\"], \"xaxis\": \"x\", \"y\": [5, 5, 3, 2], \"yaxis\": \"y\"}, {\"marker\": {\"color\": \"indianred\", \"opacity\": 0.9}, \"opacity\": 0.9, \"showlegend\": false, \"text\": [5.0, 2.0, 5.0, 3.0], \"textposition\": \"outside\", \"type\": \"bar\", \"visible\": false, \"x\": [\"Former 2020 candidate\", \"attorney general\", \"former DNC chair\", \"mayor\"], \"xaxis\": \"x2\", \"y\": [5, 2, 5, 3], \"yaxis\": \"y2\"}, {\"domain\": {\"x\": [0.55, 1.0], \"y\": [0.3888888888888889, 0.6111111111111112]}, \"hole\": 0.4, \"hoverinfo\": \"label+percent+name\", \"labels\": [\"D\"], \"marker\": {\"colors\": [\"rgb(0, 128, 128)\", \"rgb(112, 164, 148)\", \"rgb(180, 200, 168)\", \"rgb(246, 237, 189)\", \"rgb(237, 187, 138)\", \"rgb(222, 138, 90)\", \"rgb(202, 86, 44)\"]}, \"showlegend\": false, \"text\": [\"D\"], \"textinfo\": \"percent+label\", \"textposition\": \"inside\", \"type\": \"pie\", \"values\": [15], \"visible\": false}, {\"marker\": {\"color\": \"goldenrod\", \"opacity\": 0.9}, \"opacity\": 0.9, \"showlegend\": false, \"text\": [1.0, 3.0], \"textposition\": \"outside\", \"type\": \"bar\", \"visible\": false, \"x\": [\"apnews\", \"other\"], \"xaxis\": \"x3\", \"y\": [1, 3], \"yaxis\": \"y3\"}, {\"domain\": {\"x\": [0.55, 1.0], \"y\": [0.0, 0.22222222222222224]}, \"hole\": 0.4, \"hoverinfo\": \"label+percent+name\", \"labels\": [\"CO\"], \"marker\": {\"colors\": [\"rgb(0, 128, 128)\", \"rgb(112, 164, 148)\", \"rgb(180, 200, 168)\", \"rgb(246, 237, 189)\", \"rgb(237, 187, 138)\", \"rgb(222, 138, 90)\", \"rgb(202, 86, 44)\"]}, \"showlegend\": false, \"text\": [\"Colorado\"], \"textinfo\": \"percent+label\", \"textposition\": \"inside\", \"type\": \"pie\", \"values\": [4], \"visible\": false}, {\"marker\": {\"color\": \"cadetblue\", \"opacity\": 0.9}, \"opacity\": 0.9, \"showlegend\": false, \"text\": [4.0, 8.0, 18.0, 18.0, 2.0], \"textposition\": \"outside\", \"type\": \"bar\", \"visible\": false, \"x\": [\"DNC members\", \"Governors\", \"Mayors\", \"Representatives\", \"Statewide officeholders\"], \"xaxis\": \"x\", \"y\": [4, 8, 18, 18, 2], \"yaxis\": \"y\"}, {\"marker\": {\"color\": \"indianred\", \"opacity\": 0.9}, \"opacity\": 0.9, \"showlegend\": false, \"text\": [4.0, 26.0, 18.0, 2.0], \"textposition\": \"outside\", \"type\": \"bar\", \"visible\": false, \"x\": [\"DNC member\", \"mayor\", \"representative\", \"state treasurer\"], \"xaxis\": \"x2\", \"y\": [4, 26, 18, 2], \"yaxis\": \"y2\"}, {\"domain\": {\"x\": [0.55, 1.0], \"y\": [0.3888888888888889, 0.6111111111111112]}, \"hole\": 0.4, \"hoverinfo\": \"label+percent+name\", \"labels\": [\"D\"], \"marker\": {\"colors\": [\"rgb(0, 128, 128)\", \"rgb(112, 164, 148)\", \"rgb(180, 200, 168)\", \"rgb(246, 237, 189)\", \"rgb(237, 187, 138)\", \"rgb(222, 138, 90)\", \"rgb(202, 86, 44)\"]}, \"showlegend\": false, \"text\": [\"D\"], \"textinfo\": \"percent+label\", \"textposition\": \"inside\", \"type\": \"pie\", \"values\": [47], \"visible\": false}, {\"marker\": {\"color\": \"goldenrod\", \"opacity\": 0.9}, \"opacity\": 0.9, \"showlegend\": false, \"text\": [1.0, 10.0, 3.0, 3.0, 1.0], \"textposition\": \"outside\", \"type\": \"bar\", \"visible\": false, \"x\": [\"apnews\", \"other\", \"politico\", \"twitter\", \"washingtonpost\"], \"xaxis\": \"x3\", \"y\": [1, 10, 3, 3, 1], \"yaxis\": \"y3\"}, {\"domain\": {\"x\": [0.55, 1.0], \"y\": [0.0, 0.22222222222222224]}, \"hole\": 0.4, \"hoverinfo\": \"label+percent+name\", \"labels\": [\"CA\", \"DC\", \"FL\", \"IL\", \"KY\", \"NY\", \"PA\", \"TN\", \"TX\", \"UT\", \"WI\"], \"marker\": {\"colors\": [\"rgb(0, 128, 128)\", \"rgb(112, 164, 148)\", \"rgb(180, 200, 168)\", \"rgb(246, 237, 189)\", \"rgb(237, 187, 138)\", \"rgb(222, 138, 90)\", \"rgb(202, 86, 44)\"]}, \"showlegend\": false, \"text\": [\"California\", \"District of Columbia\", \"Florida\", \"Illinois\", \"Kentucky\", \"New York\", \"Pennsylvania\", \"Tennessee\", \"Texas\", \"Utah\", \"Wisconsin\"], \"textinfo\": \"percent+label\", \"textposition\": \"inside\", \"type\": \"pie\", \"values\": [8, 1, 1, 1, 1, 1, 1, 1, 1, 1, 1], \"visible\": false}, {\"marker\": {\"color\": \"cadetblue\", \"opacity\": 0.9}, \"opacity\": 0.9, \"showlegend\": false, \"text\": [1.0], \"textposition\": \"outside\", \"type\": \"bar\", \"visible\": false, \"x\": [\"DNC members\"], \"xaxis\": \"x\", \"y\": [1], \"yaxis\": \"y\"}, {\"marker\": {\"color\": \"indianred\", \"opacity\": 0.9}, \"opacity\": 0.9, \"showlegend\": false, \"text\": [1.0], \"textposition\": \"outside\", \"type\": \"bar\", \"visible\": false, \"x\": [\"DNC member\"], \"xaxis\": \"x2\", \"y\": [1], \"yaxis\": \"y2\"}, {\"domain\": {\"x\": [0.55, 1.0], \"y\": [0.3888888888888889, 0.6111111111111112]}, \"hole\": 0.4, \"hoverinfo\": \"label+percent+name\", \"labels\": [\"D\"], \"marker\": {\"colors\": [\"rgb(0, 128, 128)\", \"rgb(112, 164, 148)\", \"rgb(180, 200, 168)\", \"rgb(246, 237, 189)\", \"rgb(237, 187, 138)\", \"rgb(222, 138, 90)\", \"rgb(202, 86, 44)\"]}, \"showlegend\": false, \"text\": [\"D\"], \"textinfo\": \"percent+label\", \"textposition\": \"inside\", \"type\": \"pie\", \"values\": [1], \"visible\": false}, {\"marker\": {\"color\": \"goldenrod\", \"opacity\": 0.9}, \"opacity\": 0.9, \"showlegend\": false, \"text\": [1.0], \"textposition\": \"outside\", \"type\": \"bar\", \"visible\": false, \"x\": [\"4president\"], \"xaxis\": \"x3\", \"y\": [1], \"yaxis\": \"y3\"}, {\"domain\": {\"x\": [0.55, 1.0], \"y\": [0.0, 0.22222222222222224]}, \"hole\": 0.4, \"hoverinfo\": \"label+percent+name\", \"labels\": [\"DC\"], \"marker\": {\"colors\": [\"rgb(0, 128, 128)\", \"rgb(112, 164, 148)\", \"rgb(180, 200, 168)\", \"rgb(246, 237, 189)\", \"rgb(237, 187, 138)\", \"rgb(222, 138, 90)\", \"rgb(202, 86, 44)\"]}, \"showlegend\": false, \"text\": [\"District of Columbia\"], \"textinfo\": \"percent+label\", \"textposition\": \"inside\", \"type\": \"pie\", \"values\": [1], \"visible\": false}],\n",
       "                        {\"annotations\": [{\"font\": {\"size\": 16}, \"showarrow\": false, \"text\": \"Points by Endorser Category\", \"x\": 0.5, \"xanchor\": \"center\", \"xref\": \"paper\", \"y\": 1.0, \"yanchor\": \"bottom\", \"yref\": \"paper\"}, {\"font\": {\"size\": 16}, \"showarrow\": false, \"text\": \"Points by Endorser Position\", \"x\": 0.225, \"xanchor\": \"center\", \"xref\": \"paper\", \"y\": 0.6111111111111112, \"yanchor\": \"bottom\", \"yref\": \"paper\"}, {\"font\": {\"size\": 16}, \"showarrow\": false, \"text\": \"% of Points by Endorser Party\", \"x\": 0.775, \"xanchor\": \"center\", \"xref\": \"paper\", \"y\": 0.6111111111111112, \"yanchor\": \"bottom\", \"yref\": \"paper\"}, {\"font\": {\"size\": 16}, \"showarrow\": false, \"text\": \"Number of Votes by Endorser Source\", \"x\": 0.225, \"xanchor\": \"center\", \"xref\": \"paper\", \"y\": 0.22222222222222224, \"yanchor\": \"bottom\", \"yref\": \"paper\"}, {\"font\": {\"size\": 16}, \"showarrow\": false, \"text\": \"% of Votes by Endorser State\", \"x\": 0.775, \"xanchor\": \"center\", \"xref\": \"paper\", \"y\": 0.22222222222222224, \"yanchor\": \"bottom\", \"yref\": \"paper\"}, {\"align\": \"left\", \"showarrow\": false, \"text\": \"Select Endorsee\", \"x\": -0.15, \"xref\": \"paper\", \"y\": 1.05, \"yref\": \"paper\"}], \"bargap\": 0.1, \"height\": 1350, \"margin\": {\"t\": 150}, \"showlegend\": true, \"template\": {\"data\": {\"bar\": [{\"error_x\": {\"color\": \"#2a3f5f\"}, \"error_y\": {\"color\": \"#2a3f5f\"}, \"marker\": {\"line\": {\"color\": \"#E5ECF6\", \"width\": 0.5}}, \"type\": \"bar\"}], \"barpolar\": [{\"marker\": {\"line\": {\"color\": \"#E5ECF6\", \"width\": 0.5}}, \"type\": \"barpolar\"}], \"carpet\": [{\"aaxis\": {\"endlinecolor\": \"#2a3f5f\", \"gridcolor\": \"white\", \"linecolor\": \"white\", \"minorgridcolor\": \"white\", \"startlinecolor\": \"#2a3f5f\"}, \"baxis\": {\"endlinecolor\": \"#2a3f5f\", \"gridcolor\": \"white\", \"linecolor\": \"white\", \"minorgridcolor\": \"white\", \"startlinecolor\": \"#2a3f5f\"}, \"type\": \"carpet\"}], \"choropleth\": [{\"colorbar\": {\"outlinewidth\": 0, \"ticks\": \"\"}, \"type\": \"choropleth\"}], \"contour\": [{\"colorbar\": {\"outlinewidth\": 0, \"ticks\": \"\"}, \"colorscale\": [[0.0, \"#0d0887\"], [0.1111111111111111, \"#46039f\"], [0.2222222222222222, \"#7201a8\"], [0.3333333333333333, \"#9c179e\"], [0.4444444444444444, \"#bd3786\"], [0.5555555555555556, \"#d8576b\"], [0.6666666666666666, \"#ed7953\"], [0.7777777777777778, \"#fb9f3a\"], [0.8888888888888888, \"#fdca26\"], [1.0, \"#f0f921\"]], \"type\": \"contour\"}], \"contourcarpet\": [{\"colorbar\": {\"outlinewidth\": 0, \"ticks\": \"\"}, \"type\": \"contourcarpet\"}], \"heatmap\": [{\"colorbar\": {\"outlinewidth\": 0, \"ticks\": \"\"}, \"colorscale\": [[0.0, \"#0d0887\"], [0.1111111111111111, \"#46039f\"], [0.2222222222222222, \"#7201a8\"], [0.3333333333333333, \"#9c179e\"], [0.4444444444444444, \"#bd3786\"], [0.5555555555555556, \"#d8576b\"], [0.6666666666666666, \"#ed7953\"], [0.7777777777777778, \"#fb9f3a\"], [0.8888888888888888, \"#fdca26\"], [1.0, \"#f0f921\"]], \"type\": \"heatmap\"}], \"heatmapgl\": [{\"colorbar\": {\"outlinewidth\": 0, \"ticks\": \"\"}, \"colorscale\": [[0.0, \"#0d0887\"], [0.1111111111111111, \"#46039f\"], [0.2222222222222222, \"#7201a8\"], [0.3333333333333333, \"#9c179e\"], [0.4444444444444444, \"#bd3786\"], [0.5555555555555556, \"#d8576b\"], [0.6666666666666666, \"#ed7953\"], [0.7777777777777778, \"#fb9f3a\"], [0.8888888888888888, \"#fdca26\"], [1.0, \"#f0f921\"]], \"type\": \"heatmapgl\"}], \"histogram\": [{\"marker\": {\"colorbar\": {\"outlinewidth\": 0, \"ticks\": \"\"}}, \"type\": \"histogram\"}], \"histogram2d\": [{\"colorbar\": {\"outlinewidth\": 0, \"ticks\": \"\"}, \"colorscale\": [[0.0, \"#0d0887\"], [0.1111111111111111, \"#46039f\"], [0.2222222222222222, \"#7201a8\"], [0.3333333333333333, \"#9c179e\"], [0.4444444444444444, \"#bd3786\"], [0.5555555555555556, \"#d8576b\"], [0.6666666666666666, \"#ed7953\"], [0.7777777777777778, \"#fb9f3a\"], [0.8888888888888888, \"#fdca26\"], [1.0, \"#f0f921\"]], \"type\": \"histogram2d\"}], \"histogram2dcontour\": [{\"colorbar\": {\"outlinewidth\": 0, \"ticks\": \"\"}, \"colorscale\": [[0.0, \"#0d0887\"], [0.1111111111111111, \"#46039f\"], [0.2222222222222222, \"#7201a8\"], [0.3333333333333333, \"#9c179e\"], [0.4444444444444444, \"#bd3786\"], [0.5555555555555556, \"#d8576b\"], [0.6666666666666666, \"#ed7953\"], [0.7777777777777778, \"#fb9f3a\"], [0.8888888888888888, \"#fdca26\"], [1.0, \"#f0f921\"]], \"type\": \"histogram2dcontour\"}], \"mesh3d\": [{\"colorbar\": {\"outlinewidth\": 0, \"ticks\": \"\"}, \"type\": \"mesh3d\"}], \"parcoords\": [{\"line\": {\"colorbar\": {\"outlinewidth\": 0, \"ticks\": \"\"}}, \"type\": \"parcoords\"}], \"pie\": [{\"automargin\": true, \"type\": \"pie\"}], \"scatter\": [{\"marker\": {\"colorbar\": {\"outlinewidth\": 0, \"ticks\": \"\"}}, \"type\": \"scatter\"}], \"scatter3d\": [{\"line\": {\"colorbar\": {\"outlinewidth\": 0, \"ticks\": \"\"}}, \"marker\": {\"colorbar\": {\"outlinewidth\": 0, \"ticks\": \"\"}}, \"type\": \"scatter3d\"}], \"scattercarpet\": [{\"marker\": {\"colorbar\": {\"outlinewidth\": 0, \"ticks\": \"\"}}, \"type\": \"scattercarpet\"}], \"scattergeo\": [{\"marker\": {\"colorbar\": {\"outlinewidth\": 0, \"ticks\": \"\"}}, \"type\": \"scattergeo\"}], \"scattergl\": [{\"marker\": {\"colorbar\": {\"outlinewidth\": 0, \"ticks\": \"\"}}, \"type\": \"scattergl\"}], \"scattermapbox\": [{\"marker\": {\"colorbar\": {\"outlinewidth\": 0, \"ticks\": \"\"}}, \"type\": \"scattermapbox\"}], \"scatterpolar\": [{\"marker\": {\"colorbar\": {\"outlinewidth\": 0, \"ticks\": \"\"}}, \"type\": \"scatterpolar\"}], \"scatterpolargl\": [{\"marker\": {\"colorbar\": {\"outlinewidth\": 0, \"ticks\": \"\"}}, \"type\": \"scatterpolargl\"}], \"scatterternary\": [{\"marker\": {\"colorbar\": {\"outlinewidth\": 0, \"ticks\": \"\"}}, \"type\": \"scatterternary\"}], \"surface\": [{\"colorbar\": {\"outlinewidth\": 0, \"ticks\": \"\"}, \"colorscale\": [[0.0, \"#0d0887\"], [0.1111111111111111, \"#46039f\"], [0.2222222222222222, \"#7201a8\"], [0.3333333333333333, \"#9c179e\"], [0.4444444444444444, \"#bd3786\"], [0.5555555555555556, \"#d8576b\"], [0.6666666666666666, \"#ed7953\"], [0.7777777777777778, \"#fb9f3a\"], [0.8888888888888888, \"#fdca26\"], [1.0, \"#f0f921\"]], \"type\": \"surface\"}], \"table\": [{\"cells\": {\"fill\": {\"color\": \"#EBF0F8\"}, \"line\": {\"color\": \"white\"}}, \"header\": {\"fill\": {\"color\": \"#C8D4E3\"}, \"line\": {\"color\": \"white\"}}, \"type\": \"table\"}]}, \"layout\": {\"annotationdefaults\": {\"arrowcolor\": \"#2a3f5f\", \"arrowhead\": 0, \"arrowwidth\": 1}, \"coloraxis\": {\"colorbar\": {\"outlinewidth\": 0, \"ticks\": \"\"}}, \"colorscale\": {\"diverging\": [[0, \"#8e0152\"], [0.1, \"#c51b7d\"], [0.2, \"#de77ae\"], [0.3, \"#f1b6da\"], [0.4, \"#fde0ef\"], [0.5, \"#f7f7f7\"], [0.6, \"#e6f5d0\"], [0.7, \"#b8e186\"], [0.8, \"#7fbc41\"], [0.9, \"#4d9221\"], [1, \"#276419\"]], \"sequential\": [[0.0, \"#0d0887\"], [0.1111111111111111, \"#46039f\"], [0.2222222222222222, \"#7201a8\"], [0.3333333333333333, \"#9c179e\"], [0.4444444444444444, \"#bd3786\"], [0.5555555555555556, \"#d8576b\"], [0.6666666666666666, \"#ed7953\"], [0.7777777777777778, \"#fb9f3a\"], [0.8888888888888888, \"#fdca26\"], [1.0, \"#f0f921\"]], \"sequentialminus\": [[0.0, \"#0d0887\"], [0.1111111111111111, \"#46039f\"], [0.2222222222222222, \"#7201a8\"], [0.3333333333333333, \"#9c179e\"], [0.4444444444444444, \"#bd3786\"], [0.5555555555555556, \"#d8576b\"], [0.6666666666666666, \"#ed7953\"], [0.7777777777777778, \"#fb9f3a\"], [0.8888888888888888, \"#fdca26\"], [1.0, \"#f0f921\"]]}, \"colorway\": [\"#636efa\", \"#EF553B\", \"#00cc96\", \"#ab63fa\", \"#FFA15A\", \"#19d3f3\", \"#FF6692\", \"#B6E880\", \"#FF97FF\", \"#FECB52\"], \"font\": {\"color\": \"#2a3f5f\"}, \"geo\": {\"bgcolor\": \"white\", \"lakecolor\": \"white\", \"landcolor\": \"#E5ECF6\", \"showlakes\": true, \"showland\": true, \"subunitcolor\": \"white\"}, \"hoverlabel\": {\"align\": \"left\"}, \"hovermode\": \"closest\", \"mapbox\": {\"style\": \"light\"}, \"paper_bgcolor\": \"white\", \"plot_bgcolor\": \"#E5ECF6\", \"polar\": {\"angularaxis\": {\"gridcolor\": \"white\", \"linecolor\": \"white\", \"ticks\": \"\"}, \"bgcolor\": \"#E5ECF6\", \"radialaxis\": {\"gridcolor\": \"white\", \"linecolor\": \"white\", \"ticks\": \"\"}}, \"scene\": {\"xaxis\": {\"backgroundcolor\": \"#E5ECF6\", \"gridcolor\": \"white\", \"gridwidth\": 2, \"linecolor\": \"white\", \"showbackground\": true, \"ticks\": \"\", \"zerolinecolor\": \"white\"}, \"yaxis\": {\"backgroundcolor\": \"#E5ECF6\", \"gridcolor\": \"white\", \"gridwidth\": 2, \"linecolor\": \"white\", \"showbackground\": true, \"ticks\": \"\", \"zerolinecolor\": \"white\"}, \"zaxis\": {\"backgroundcolor\": \"#E5ECF6\", \"gridcolor\": \"white\", \"gridwidth\": 2, \"linecolor\": \"white\", \"showbackground\": true, \"ticks\": \"\", \"zerolinecolor\": \"white\"}}, \"shapedefaults\": {\"line\": {\"color\": \"#2a3f5f\"}}, \"ternary\": {\"aaxis\": {\"gridcolor\": \"white\", \"linecolor\": \"white\", \"ticks\": \"\"}, \"baxis\": {\"gridcolor\": \"white\", \"linecolor\": \"white\", \"ticks\": \"\"}, \"bgcolor\": \"#E5ECF6\", \"caxis\": {\"gridcolor\": \"white\", \"linecolor\": \"white\", \"ticks\": \"\"}}, \"title\": {\"x\": 0.05}, \"xaxis\": {\"automargin\": true, \"gridcolor\": \"white\", \"linecolor\": \"white\", \"ticks\": \"\", \"title\": {\"standoff\": 15}, \"zerolinecolor\": \"white\", \"zerolinewidth\": 2}, \"yaxis\": {\"automargin\": true, \"gridcolor\": \"white\", \"linecolor\": \"white\", \"ticks\": \"\", \"title\": {\"standoff\": 15}, \"zerolinecolor\": \"white\", \"zerolinewidth\": 2}}}, \"title\": {\"font\": {\"size\": 22}, \"text\": \"<b> Endorsee Summary <b>\", \"x\": 0.5, \"xanchor\": \"center\", \"y\": 0.95, \"yanchor\": \"top\"}, \"updatemenus\": [{\"active\": 1, \"buttons\": [{\"args\": [{\"visible\": [true, true, true, true, true, false, false, false, false, false, false, false, false, false, false, false, false, false, false, false, false, false, false, false, false, false, false, false, false, false, false, false, false, false, false, false, false, false, false, false, false, false, false, false, false, false, false, false, false, false, false, false, false, false, false, false, false, false, false, false, false, false, false, false, false, false, false, false, false, false, false, false, false, false, false, false, false, false, false, false]}], \"label\": \"Delaney\", \"method\": \"update\"}, {\"args\": [{\"visible\": [false, false, false, false, false, true, true, true, true, true, false, false, false, false, false, false, false, false, false, false, false, false, false, false, false, false, false, false, false, false, false, false, false, false, false, false, false, false, false, false, false, false, false, false, false, false, false, false, false, false, false, false, false, false, false, false, false, false, false, false, false, false, false, false, false, false, false, false, false, false, false, false, false, false, false, false, false, false, false, false]}], \"label\": \"Biden\", \"method\": \"update\"}, {\"args\": [{\"visible\": [false, false, false, false, false, false, false, false, false, false, true, true, true, true, true, false, false, false, false, false, false, false, false, false, false, false, false, false, false, false, false, false, false, false, false, false, false, false, false, false, false, false, false, false, false, false, false, false, false, false, false, false, false, false, false, false, false, false, false, false, false, false, false, false, false, false, false, false, false, false, false, false, false, false, false, false, false, false, false, false]}], \"label\": \"Castro\", \"method\": \"update\"}, {\"args\": [{\"visible\": [false, false, false, false, false, false, false, false, false, false, false, false, false, false, false, true, true, true, true, true, false, false, false, false, false, false, false, false, false, false, false, false, false, false, false, false, false, false, false, false, false, false, false, false, false, false, false, false, false, false, false, false, false, false, false, false, false, false, false, false, false, false, false, false, false, false, false, false, false, false, false, false, false, false, false, false, false, false, false, false]}], \"label\": \"Harris\", \"method\": \"update\"}, {\"args\": [{\"visible\": [false, false, false, false, false, false, false, false, false, false, false, false, false, false, false, false, false, false, false, false, true, true, true, true, true, false, false, false, false, false, false, false, false, false, false, false, false, false, false, false, false, false, false, false, false, false, false, false, false, false, false, false, false, false, false, false, false, false, false, false, false, false, false, false, false, false, false, false, false, false, false, false, false, false, false, false, false, false, false, false]}], \"label\": \"Sanders\", \"method\": \"update\"}, {\"args\": [{\"visible\": [false, false, false, false, false, false, false, false, false, false, false, false, false, false, false, false, false, false, false, false, false, false, false, false, false, true, true, true, true, true, false, false, false, false, false, false, false, false, false, false, false, false, false, false, false, false, false, false, false, false, false, false, false, false, false, false, false, false, false, false, false, false, false, false, false, false, false, false, false, false, false, false, false, false, false, false, false, false, false, false]}], \"label\": \"Booker\", \"method\": \"update\"}, {\"args\": [{\"visible\": [false, false, false, false, false, false, false, false, false, false, false, false, false, false, false, false, false, false, false, false, false, false, false, false, false, false, false, false, false, false, true, true, true, true, true, false, false, false, false, false, false, false, false, false, false, false, false, false, false, false, false, false, false, false, false, false, false, false, false, false, false, false, false, false, false, false, false, false, false, false, false, false, false, false, false, false, false, false, false, false]}], \"label\": \"Klobuchar\", \"method\": \"update\"}, {\"args\": [{\"visible\": [false, false, false, false, false, false, false, false, false, false, false, false, false, false, false, false, false, false, false, false, false, false, false, false, false, false, false, false, false, false, false, false, false, false, false, true, true, true, true, true, false, false, false, false, false, false, false, false, false, false, false, false, false, false, false, false, false, false, false, false, false, false, false, false, false, false, false, false, false, false, false, false, false, false, false, false, false, false, false, false]}], \"label\": \"Warren\", \"method\": \"update\"}, {\"args\": [{\"visible\": [false, false, false, false, false, false, false, false, false, false, false, false, false, false, false, false, false, false, false, false, false, false, false, false, false, false, false, false, false, false, false, false, false, false, false, false, false, false, false, false, true, true, true, true, true, false, false, false, false, false, false, false, false, false, false, false, false, false, false, false, false, false, false, false, false, false, false, false, false, false, false, false, false, false, false, false, false, false, false, false]}], \"label\": \"Inslee\", \"method\": \"update\"}, {\"args\": [{\"visible\": [false, false, false, false, false, false, false, false, false, false, false, false, false, false, false, false, false, false, false, false, false, false, false, false, false, false, false, false, false, false, false, false, false, false, false, false, false, false, false, false, false, false, false, false, false, true, true, true, true, true, false, false, false, false, false, false, false, false, false, false, false, false, false, false, false, false, false, false, false, false, false, false, false, false, false, false, false, false, false, false]}], \"label\": \"O'Rourke\", \"method\": \"update\"}, {\"args\": [{\"visible\": [false, false, false, false, false, false, false, false, false, false, false, false, false, false, false, false, false, false, false, false, false, false, false, false, false, false, false, false, false, false, false, false, false, false, false, false, false, false, false, false, false, false, false, false, false, false, false, false, false, false, true, true, true, true, true, false, false, false, false, false, false, false, false, false, false, false, false, false, false, false, false, false, false, false, false, false, false, false, false, false]}], \"label\": \"Gillibrand\", \"method\": \"update\"}, {\"args\": [{\"visible\": [false, false, false, false, false, false, false, false, false, false, false, false, false, false, false, false, false, false, false, false, false, false, false, false, false, false, false, false, false, false, false, false, false, false, false, false, false, false, false, false, false, false, false, false, false, false, false, false, false, false, false, false, false, false, false, true, true, true, true, true, false, false, false, false, false, false, false, false, false, false, false, false, false, false, false, false, false, false, false, false]}], \"label\": \"Buttigieg\", \"method\": \"update\"}, {\"args\": [{\"visible\": [false, false, false, false, false, false, false, false, false, false, false, false, false, false, false, false, false, false, false, false, false, false, false, false, false, false, false, false, false, false, false, false, false, false, false, false, false, false, false, false, false, false, false, false, false, false, false, false, false, false, false, false, false, false, false, false, false, false, false, false, true, true, true, true, true, false, false, false, false, false, false, false, false, false, false, false, false, false, false, false]}], \"label\": \"Bullock\", \"method\": \"update\"}, {\"args\": [{\"visible\": [false, false, false, false, false, false, false, false, false, false, false, false, false, false, false, false, false, false, false, false, false, false, false, false, false, false, false, false, false, false, false, false, false, false, false, false, false, false, false, false, false, false, false, false, false, false, false, false, false, false, false, false, false, false, false, false, false, false, false, false, false, false, false, false, false, true, true, true, true, true, false, false, false, false, false, false, false, false, false, false]}], \"label\": \"Bennet\", \"method\": \"update\"}, {\"args\": [{\"visible\": [false, false, false, false, false, false, false, false, false, false, false, false, false, false, false, false, false, false, false, false, false, false, false, false, false, false, false, false, false, false, false, false, false, false, false, false, false, false, false, false, false, false, false, false, false, false, false, false, false, false, false, false, false, false, false, false, false, false, false, false, false, false, false, false, false, false, false, false, false, false, true, true, true, true, true, false, false, false, false, false]}], \"label\": \"Bloomberg\", \"method\": \"update\"}, {\"args\": [{\"visible\": [false, false, false, false, false, false, false, false, false, false, false, false, false, false, false, false, false, false, false, false, false, false, false, false, false, false, false, false, false, false, false, false, false, false, false, false, false, false, false, false, false, false, false, false, false, false, false, false, false, false, false, false, false, false, false, false, false, false, false, false, false, false, false, false, false, false, false, false, false, false, false, false, false, false, false, true, true, true, true, true]}], \"label\": \"Steyer\", \"method\": \"update\"}, {\"args\": [{\"visible\": [true, true, true, true, true, false, false, false, false, false, false, false, false, false, false, false, false, false, false, false, false, false, false, false, false, false, false, false, false, false, false, false, false, false, false, false, false, false, false, false, false, false, false, false, false, false, false, false, false, false, false, false, false, false, false, false, false, false, false, false, false, false, false, false, false, false, false, false, false, false, false, false, false, false, false, false, false, false, false, false]}], \"label\": \"Delaney\", \"method\": \"update\"}, {\"args\": [{\"visible\": [false, false, false, false, false, true, true, true, true, true, false, false, false, false, false, false, false, false, false, false, false, false, false, false, false, false, false, false, false, false, false, false, false, false, false, false, false, false, false, false, false, false, false, false, false, false, false, false, false, false, false, false, false, false, false, false, false, false, false, false, false, false, false, false, false, false, false, false, false, false, false, false, false, false, false, false, false, false, false, false]}], \"label\": \"Biden\", \"method\": \"update\"}, {\"args\": [{\"visible\": [false, false, false, false, false, false, false, false, false, false, true, true, true, true, true, false, false, false, false, false, false, false, false, false, false, false, false, false, false, false, false, false, false, false, false, false, false, false, false, false, false, false, false, false, false, false, false, false, false, false, false, false, false, false, false, false, false, false, false, false, false, false, false, false, false, false, false, false, false, false, false, false, false, false, false, false, false, false, false, false]}], \"label\": \"Castro\", \"method\": \"update\"}, {\"args\": [{\"visible\": [false, false, false, false, false, false, false, false, false, false, false, false, false, false, false, true, true, true, true, true, false, false, false, false, false, false, false, false, false, false, false, false, false, false, false, false, false, false, false, false, false, false, false, false, false, false, false, false, false, false, false, false, false, false, false, false, false, false, false, false, false, false, false, false, false, false, false, false, false, false, false, false, false, false, false, false, false, false, false, false]}], \"label\": \"Harris\", \"method\": \"update\"}, {\"args\": [{\"visible\": [false, false, false, false, false, false, false, false, false, false, false, false, false, false, false, false, false, false, false, false, true, true, true, true, true, false, false, false, false, false, false, false, false, false, false, false, false, false, false, false, false, false, false, false, false, false, false, false, false, false, false, false, false, false, false, false, false, false, false, false, false, false, false, false, false, false, false, false, false, false, false, false, false, false, false, false, false, false, false, false]}], \"label\": \"Sanders\", \"method\": \"update\"}, {\"args\": [{\"visible\": [false, false, false, false, false, false, false, false, false, false, false, false, false, false, false, false, false, false, false, false, false, false, false, false, false, true, true, true, true, true, false, false, false, false, false, false, false, false, false, false, false, false, false, false, false, false, false, false, false, false, false, false, false, false, false, false, false, false, false, false, false, false, false, false, false, false, false, false, false, false, false, false, false, false, false, false, false, false, false, false]}], \"label\": \"Booker\", \"method\": \"update\"}, {\"args\": [{\"visible\": [false, false, false, false, false, false, false, false, false, false, false, false, false, false, false, false, false, false, false, false, false, false, false, false, false, false, false, false, false, false, true, true, true, true, true, false, false, false, false, false, false, false, false, false, false, false, false, false, false, false, false, false, false, false, false, false, false, false, false, false, false, false, false, false, false, false, false, false, false, false, false, false, false, false, false, false, false, false, false, false]}], \"label\": \"Klobuchar\", \"method\": \"update\"}, {\"args\": [{\"visible\": [false, false, false, false, false, false, false, false, false, false, false, false, false, false, false, false, false, false, false, false, false, false, false, false, false, false, false, false, false, false, false, false, false, false, false, true, true, true, true, true, false, false, false, false, false, false, false, false, false, false, false, false, false, false, false, false, false, false, false, false, false, false, false, false, false, false, false, false, false, false, false, false, false, false, false, false, false, false, false, false]}], \"label\": \"Warren\", \"method\": \"update\"}, {\"args\": [{\"visible\": [false, false, false, false, false, false, false, false, false, false, false, false, false, false, false, false, false, false, false, false, false, false, false, false, false, false, false, false, false, false, false, false, false, false, false, false, false, false, false, false, true, true, true, true, true, false, false, false, false, false, false, false, false, false, false, false, false, false, false, false, false, false, false, false, false, false, false, false, false, false, false, false, false, false, false, false, false, false, false, false]}], \"label\": \"Inslee\", \"method\": \"update\"}, {\"args\": [{\"visible\": [false, false, false, false, false, false, false, false, false, false, false, false, false, false, false, false, false, false, false, false, false, false, false, false, false, false, false, false, false, false, false, false, false, false, false, false, false, false, false, false, false, false, false, false, false, true, true, true, true, true, false, false, false, false, false, false, false, false, false, false, false, false, false, false, false, false, false, false, false, false, false, false, false, false, false, false, false, false, false, false]}], \"label\": \"O'Rourke\", \"method\": \"update\"}, {\"args\": [{\"visible\": [false, false, false, false, false, false, false, false, false, false, false, false, false, false, false, false, false, false, false, false, false, false, false, false, false, false, false, false, false, false, false, false, false, false, false, false, false, false, false, false, false, false, false, false, false, false, false, false, false, false, true, true, true, true, true, false, false, false, false, false, false, false, false, false, false, false, false, false, false, false, false, false, false, false, false, false, false, false, false, false]}], \"label\": \"Gillibrand\", \"method\": \"update\"}, {\"args\": [{\"visible\": [false, false, false, false, false, false, false, false, false, false, false, false, false, false, false, false, false, false, false, false, false, false, false, false, false, false, false, false, false, false, false, false, false, false, false, false, false, false, false, false, false, false, false, false, false, false, false, false, false, false, false, false, false, false, false, true, true, true, true, true, false, false, false, false, false, false, false, false, false, false, false, false, false, false, false, false, false, false, false, false]}], \"label\": \"Buttigieg\", \"method\": \"update\"}, {\"args\": [{\"visible\": [false, false, false, false, false, false, false, false, false, false, false, false, false, false, false, false, false, false, false, false, false, false, false, false, false, false, false, false, false, false, false, false, false, false, false, false, false, false, false, false, false, false, false, false, false, false, false, false, false, false, false, false, false, false, false, false, false, false, false, false, true, true, true, true, true, false, false, false, false, false, false, false, false, false, false, false, false, false, false, false]}], \"label\": \"Bullock\", \"method\": \"update\"}, {\"args\": [{\"visible\": [false, false, false, false, false, false, false, false, false, false, false, false, false, false, false, false, false, false, false, false, false, false, false, false, false, false, false, false, false, false, false, false, false, false, false, false, false, false, false, false, false, false, false, false, false, false, false, false, false, false, false, false, false, false, false, false, false, false, false, false, false, false, false, false, false, true, true, true, true, true, false, false, false, false, false, false, false, false, false, false]}], \"label\": \"Bennet\", \"method\": \"update\"}, {\"args\": [{\"visible\": [false, false, false, false, false, false, false, false, false, false, false, false, false, false, false, false, false, false, false, false, false, false, false, false, false, false, false, false, false, false, false, false, false, false, false, false, false, false, false, false, false, false, false, false, false, false, false, false, false, false, false, false, false, false, false, false, false, false, false, false, false, false, false, false, false, false, false, false, false, false, true, true, true, true, true, false, false, false, false, false]}], \"label\": \"Bloomberg\", \"method\": \"update\"}, {\"args\": [{\"visible\": [false, false, false, false, false, false, false, false, false, false, false, false, false, false, false, false, false, false, false, false, false, false, false, false, false, false, false, false, false, false, false, false, false, false, false, false, false, false, false, false, false, false, false, false, false, false, false, false, false, false, false, false, false, false, false, false, false, false, false, false, false, false, false, false, false, false, false, false, false, false, false, false, false, false, false, true, true, true, true, true]}], \"label\": \"Steyer\", \"method\": \"update\"}], \"direction\": \"down\", \"pad\": {\"r\": 10, \"t\": 10}, \"showactive\": true, \"x\": -0.15, \"xanchor\": \"left\", \"y\": 1.04, \"yanchor\": \"top\"}], \"xaxis\": {\"anchor\": \"y\", \"domain\": [0.0, 1.0], \"tickangle\": 45, \"ticktext\": [\"Candidates who have dropped out\", \"Former party leaders\", \"Mayors\", \"Statewide officeholders\", \"DNC members\", \"Governors\", \"Past nominees\", \"Representatives\", \"Senators\", \"State legislative leaders\", \"Past presidents and vice presidents\"], \"tickvals\": [\"Candidates who have dropped out\", \"Former party leaders\", \"Mayors\", \"Statewide officeholders\", \"DNC members\", \"Governors\", \"Past nominees\", \"Representatives\", \"Senators\", \"State legislative leaders\", \"Past presidents and vice presidents\"]}, \"xaxis2\": {\"anchor\": \"y2\", \"domain\": [0.0, 0.45], \"tickangle\": 45, \"ticktext\": [\"Former 2020 candidate\", \"attorney general\", \"former DNC chair\", \"mayor\", \"DNC member\", \"Democratic caucus chairman\", \"former U.S. Senate majority leader\", \"governor\", \"lieutenant governor\", \"minority leader\", \"past presidential nominee\", \"president\", \"representative\", \"secretary of state\", \"senator\", \"speaker\", \"state treasurer\", \"delegate\", \"insurance commissioner\", \"president pro tem\", \"superintendent of public instruction\", \"past vice president\", \"state auditor\", \"commissioner of labor and industries\", \"former U.S. House Democratic whip\", \"speaker pro tem\", \"state comptroller\", \"state controller\"], \"tickvals\": [\"Former 2020 candidate\", \"attorney general\", \"former DNC chair\", \"mayor\", \"DNC member\", \"Democratic caucus chairman\", \"former U.S. Senate majority leader\", \"governor\", \"lieutenant governor\", \"minority leader\", \"past presidential nominee\", \"president\", \"representative\", \"secretary of state\", \"senator\", \"speaker\", \"state treasurer\", \"delegate\", \"insurance commissioner\", \"president pro tem\", \"superintendent of public instruction\", \"past vice president\", \"state auditor\", \"commissioner of labor and industries\", \"former U.S. House Democratic whip\", \"speaker pro tem\", \"state comptroller\", \"state controller\"]}, \"xaxis3\": {\"anchor\": \"y3\", \"domain\": [0.0, 0.45], \"tickangle\": 45, \"ticktext\": [\"apnews\", \"other\", \"4president\", \"cnn\", \"politico\", \"twitter\", \"usatoday\", \"washingtonpost\", \"youtube\", \"fivethirtyeight\"], \"tickvals\": [\"apnews\", \"other\", \"4president\", \"cnn\", \"politico\", \"twitter\", \"usatoday\", \"washingtonpost\", \"youtube\", \"fivethirtyeight\"]}, \"yaxis\": {\"anchor\": \"x\", \"domain\": [0.7777777777777778, 1.0], \"range\": [0, 135]}, \"yaxis2\": {\"anchor\": \"x2\", \"domain\": [0.3888888888888889, 0.6111111111111112], \"range\": [0, 135]}, \"yaxis3\": {\"anchor\": \"x3\", \"domain\": [0.0, 0.22222222222222224], \"range\": [0, 50]}},\n",
       "                        {\"responsive\": true}\n",
       "                    ).then(function(){\n",
       "                            \n",
       "var gd = document.getElementById('88580bf3-63e3-4c98-9a75-c2916a90302b');\n",
       "var x = new MutationObserver(function (mutations, observer) {{\n",
       "        var display = window.getComputedStyle(gd).display;\n",
       "        if (!display || display === 'none') {{\n",
       "            console.log([gd, 'removed!']);\n",
       "            Plotly.purge(gd);\n",
       "            observer.disconnect();\n",
       "        }}\n",
       "}});\n",
       "\n",
       "// Listen for the removal of the full notebook cells\n",
       "var notebookContainer = gd.closest('#notebook-container');\n",
       "if (notebookContainer) {{\n",
       "    x.observe(notebookContainer, {childList: true});\n",
       "}}\n",
       "\n",
       "// Listen for the clearing of the current output cell\n",
       "var outputEl = gd.closest('.output');\n",
       "if (outputEl) {{\n",
       "    x.observe(outputEl, {childList: true});\n",
       "}}\n",
       "\n",
       "                        })\n",
       "                };\n",
       "                });\n",
       "            </script>\n",
       "        </div>"
      ]
     },
     "metadata": {},
     "output_type": "display_data"
    }
   ],
   "source": [
    "#Creation of visualization plot\n",
    "fig = make_subplots(\n",
    "    rows=3, cols=2,\n",
    "    specs=[[{'colspan':2}, None],\n",
    "           [{}, {\"type\": \"pie\"}],\n",
    "           [{}, {\"type\": 'pie'}]],\n",
    "    subplot_titles=('Points by Endorser Category', \n",
    "                    'Points by Endorser Position', '% of Points by Endorser Party', \n",
    "                    'Number of Votes by Endorser Source', '% of Votes by Endorser State')\n",
    ")\n",
    "\n",
    "\n",
    "for i,e in enumerate(endorsee_df['endorsee'].unique()):\n",
    "        \n",
    "    visible = [False]*l*n_plots\n",
    "    \n",
    "    visible[i*lc:(i+1)*lc] = [True]*lc\n",
    "        \n",
    "    fig.add_trace(\n",
    "            go.Bar(\n",
    "                x=cat_df.loc[cat_df['endorsee']==e, 'category'],\n",
    "                y=cat_df.loc[cat_df['endorsee']==e, 'pt_by_'],\n",
    "                text=cat_df.loc[cat_df['endorsee']==e, 'pt_by_'],\n",
    "                textposition='outside',\n",
    "                opacity=0.9,\n",
    "                marker={'color':colors[0],\n",
    "                       'opacity':0.9},\n",
    "                visible=False if i!=1 else True,\n",
    "                showlegend=False),\n",
    "        row=1, col=1)\n",
    "\n",
    "\n",
    "    \n",
    "    fig.add_trace(\n",
    "            go.Bar(\n",
    "                x=position_df.loc[position_df['endorsee']==e, 'position'],\n",
    "                y=position_df.loc[position_df['endorsee']==e,'pt_by_'],\n",
    "                text=position_df.loc[position_df['endorsee']==e,'pt_by_'],\n",
    "                textposition='outside',\n",
    "                opacity=0.9,\n",
    "                marker={'color':colors[1],\n",
    "                       'opacity':0.9},\n",
    "                visible=False if i!=1 else True,\n",
    "                showlegend=False),\n",
    "        row=2, col=1)\n",
    "    \n",
    "    fig.add_trace(\n",
    "            go.Pie(\n",
    "                values=np.array(party_df.loc[party_df['endorsee']==e, 'pt_by_']),\n",
    "                labels=np.array(party_df.loc[party_df['endorsee']==e, 'endorser party']),\n",
    "                hole=0.4,\n",
    "                visible=False if i!=1 else True,\n",
    "                text=party_df.loc[party_df['endorsee']==e, 'endorser party'],\n",
    "                hoverinfo='label+percent+name',\n",
    "                textinfo= 'percent+label',\n",
    "                textposition = 'inside',\n",
    "                showlegend=False,\n",
    "                marker = dict(colors = plotly.colors.diverging.Geyser)),\n",
    "        row=2, col=2)\n",
    "    \n",
    "    fig.add_trace(\n",
    "            go.Bar(\n",
    "                x=source_df.loc[source_df['endorsee']==e, 'source'],\n",
    "                y=source_df.loc[source_df['endorsee']==e,'votes_by_'],\n",
    "                text=source_df.loc[source_df['endorsee']==e,'votes_by_'],\n",
    "                textposition='outside',\n",
    "                opacity=0.9,\n",
    "                marker={'color':colors[2],\n",
    "                       'opacity':0.9},\n",
    "                visible=False if i!=1 else True,\n",
    "                showlegend=False\n",
    "                       ),\n",
    "        row=3, col=1)\n",
    "    \n",
    "    fig.add_trace(\n",
    "            go.Pie(\n",
    "                values=np.array(state_df.loc[state_df['endorsee']==e, 'votes_by_']),\n",
    "                labels=np.array(state_df.loc[state_df['endorsee']==e, 'state']),\n",
    "                hole=0.4,\n",
    "                visible=False if i!=1 else True,\n",
    "                text=state_df.loc[state_df['endorsee']==e, 'full_state'],\n",
    "                hoverinfo='label+percent+name',\n",
    "                textinfo= 'percent+label',\n",
    "                textposition = 'inside',\n",
    "                showlegend=False,\n",
    "                marker = dict(colors = plotly.colors.diverging.Geyser)),\n",
    "        row=3, col=2)\n",
    "    \n",
    "\n",
    "    buttons.append(\n",
    "        dict(label=e,\n",
    "             method='update',\n",
    "             args=[{'visible': visible},\n",
    "                   #{'title': e}\n",
    "                  ]))\n",
    "    \n",
    "\n",
    "fig.update_layout(\n",
    "    title={'text': '<b> Endorsee Summary <b>', 'font':{'size':22},\n",
    "            'y':0.95, 'x':0.5, 'xanchor': 'center', 'yanchor': 'top'},\n",
    "    margin=dict(t=150),\n",
    "    height=1350,\n",
    "    xaxis1=dict(tickangle=45, tickvals=cat_df['category'].unique(), ticktext=cat_df['category'].unique()),\n",
    "    yaxis1=dict(range=[0, np.max(cat_df['pt_by_']+15)]),\n",
    "    \n",
    "    xaxis2=dict(tickangle=45, tickvals=position_df['position'].unique(), ticktext=position_df['position'].unique()),\n",
    "    yaxis2=dict(range=[0, np.max(position_df['pt_by_']+15)]),\n",
    "    \n",
    "    xaxis3=dict(tickangle=45, tickvals=source_df['source'].unique(), ticktext=source_df['source'].unique()), \n",
    "    yaxis3=dict(range=[0, np.max(source_df['votes_by_']+15)]), \n",
    "    \n",
    "    bargap=0.1,\n",
    "    showlegend=True,\n",
    "    updatemenus = list([\n",
    "        dict(active=1,\n",
    "             buttons=buttons,\n",
    "             direction=\"down\",\n",
    "             pad={\"r\": 10, \"t\": 10},\n",
    "             showactive=True,\n",
    "             x=-0.15,\n",
    "             xanchor=\"left\",\n",
    "             y=1.04,\n",
    "             yanchor=\"top\"\n",
    "         )\n",
    "     ]))\n",
    "\n",
    "fig['layout']['annotations'] += go.layout.Annotation(text=\"Select Endorsee\", \n",
    "                                                     x=-0.15, xref=\"paper\", \n",
    "                                                     y=1.05, yref=\"paper\",\n",
    "                                                     align=\"left\", showarrow=False),\n",
    "    \n",
    "    \n",
    "\n",
    "fig.show()"
   ]
  },
  {
   "cell_type": "markdown",
   "metadata": {},
   "source": [
    "### Conclusions: \n",
    "#### Here, based on the visualizations, we can begin to paint a picture of what the data is telling us. \n",
    "#### For example, we're able to see that Joe Biden's endorsers come from a wide variety of states, positions, parties, and categories. We are also able to pinpoint other factors that impact the flow of endorsements, like Elizabeth Warrent's endorsers primarily coming from Massachusetts, her home state. This tool is something that can be used to track the flow as we get closer to the general election. "
   ]
  }
 ],
 "metadata": {
  "kernelspec": {
   "display_name": "Python (other-env)",
   "language": "python",
   "name": "other-env"
  },
  "language_info": {
   "codemirror_mode": {
    "name": "ipython",
    "version": 2
   },
   "file_extension": ".py",
   "mimetype": "text/x-python",
   "name": "python",
   "nbconvert_exporter": "python",
   "pygments_lexer": "ipython2",
   "version": "2.7.15"
  }
 },
 "nbformat": 4,
 "nbformat_minor": 2
}
